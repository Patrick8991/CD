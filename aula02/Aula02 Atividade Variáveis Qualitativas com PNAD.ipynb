{
 "cells": [
  {
   "cell_type": "markdown",
   "metadata": {},
   "source": [
    "___\n",
    "# Atividade: Variáveis qualitativas com a PNAD (ALUNOS)\n",
    "___\n",
    "\n",
    "## Aula 02\n",
    "\n",
    "\n",
    "**Link úteis:**\n",
    "1.\tLeitura prévia necessária: Magalhães e Lima (7ª. Edição): pág. 9 a 16 – destacando para variáveis qualitativas.\n",
    "2.\t10 Minutes to Pandas: http://pandas.pydata.org/pandas-docs/stable/10min.html\n",
    "3.\tEssential Basic Functionality: http://pandas.pydata.org/pandas-docs/stable/basics.html\n",
    "4.  Estude a aula `Aula02 Análise Exploratoria Variáveis Qualitativas-ALUNOS.ipynb`, o qual contém uma introdução ao Jupyter Notebook. A publicação dessa aula tem como objetivo auxiliá-lo, caso queira, no desenvolvimento dos seus próximos programas, como esta atividade.\n",
    "\n",
    "**Hoje:**\n",
    "1.\tAnalisar variáveis qualitativas de forma uni e bivariadas utilizando tabelas de frequências e gráficos de barras e de pizza (ou setor).\n",
    "2.  Trabalhar com a base de dados da PNAD 2013 - Pesquisa Nacional por Amostra de Domicílios\n",
    "\n",
    "**Próxima aula:**\n",
    "1.\tLeitura prévia necessária: Magalhães e Lima (7ª. Edição): pág. 9 a 17 – destacando para variáveis quantitativas; pág. 106 e 107 (Definição 4.1 e Exemplo 4.1).\n",
    "\n",
    "___\n"
   ]
  },
  {
   "cell_type": "markdown",
   "metadata": {},
   "source": [
    "___\n",
    "## <font color='blue'>PNAD 2013 – PESQUISA NACIONAL POR AMOSTRA DE DOMICÍLIOS</font>\n",
    "\n",
    "**Base de dados reduzida: ** `pes2013A.txt` (75 MB)\n",
    "[Acesse a base de dados aqui: https://dl.dropboxusercontent.com/u/65763596/Aula02/pes2013A.txt] \n",
    "\n",
    "**Dicionário das variáveis: ** `Dicionário de variáveis de pessoas - PNAD 2013.xlsx`\n",
    "[Acesse dicionário aqui: https://dl.dropboxusercontent.com/u/65763596/Aula02/Dicion%C3%A1rio%20de%20vari%C3%A1veis%20de%20pessoas%20-%20PNAD%202013.xls]\n",
    "\n",
    "\n",
    "Muitos especialistas na área de negócios dizem que empresários mais bem sucedidos são aqueles que fazem um planejamento antes de começar seu próprio negócio. Nessa visão, imagine que o Sr. Gold tenha como grande objetivo abrir uma nova faculdade e para isso deseja estudar o perfil do estudante que cursa ensino médio ou pré-vestibular e do que cursa ensino superior. \n",
    "\n",
    "Assuma que as variáveis de interesse a respeito dos estudantes sejam relativamente as mesmas de 2013 até o momento atual. Nesse caso, seja criativo para ajudar o Sr. Gold que deseja abrir seu negócio, mas não tem certeza sobre quais variáveis o interessam. \n",
    "\n",
    "Vocês podem ajudá-lo?!  \n",
    "\n",
    "As variáveis a seguir devem fazer parte da sua análise:\n",
    "\n",
    "* V0302: sexo\n",
    "* V0404: cor ou raça\n",
    "* V6002: rede de ensino\n",
    "* V4802: nível de ensino e grupos de séries do ensino fundamental que frequentavam (todos os estudantes)\n",
    "\n",
    "** Crie uma variável com região do indivíduo amostrado considerando a variável `UF` que define o estado e também trabalhe com essa nova variável em suas análises. ** \n",
    "\n",
    "** Escolha mais pelo menos DUAS variáveis qualitativas para completar sua análise!! **\n",
    "\n",
    "Faça uma análise exploratória apenas com as variáveis qualitativas com foco no objetivo do Sr. Gold.\n",
    "\n",
    "Sua análise deve conter pelo menos uma das seguintes visualizações:\n",
    "\n",
    "1. Gráfico de colunas (bar) e setor (pie) com as frequências relativas cadas categorias das variáveis qualitativas.\n",
    "2. Tabela cruzada entre pares de variaveis qualitativas. Montar o gráfico de colunas. Repetir o processo habilitando a opção \"stacked=True\".\n",
    "\n",
    "\n",
    "___\n",
    "\n",
    "\n",
    "<font color='red'>\n",
    "Crie um repositório chamado CD em seu Github\n",
    "</font>\n",
    "\n",
    "\n",
    "Neste repositório, salve seu trabalho numa pasta chamada aula2\n",
    "\n",
    "Por exemplo, se seu login for *pikachu* o projeto vai estar na pasta:\n",
    "\n",
    "https://github.com/<font color=red>pikachu/CD/aula2</font>\n",
    "\n",
    "\n",
    "\n",
    "## <font color='red'>Terça-feira (dia 16/08), no horário de atendimento da sua turma, deverá apresentar aos NINJAS!!</font>\n",
    "___"
   ]
  },
  {
   "cell_type": "markdown",
   "metadata": {},
   "source": [
    "### Importando as ferramentas necessárias para a executação do exercício"
   ]
  },
  {
   "cell_type": "code",
   "execution_count": 1,
   "metadata": {
    "collapsed": false
   },
   "outputs": [],
   "source": [
    "%matplotlib inline\n",
    "import pandas as pd\n",
    "import matplotlib.pyplot as plt\n",
    "import os\n",
    "import numpy as np"
   ]
  },
  {
   "cell_type": "code",
   "execution_count": 2,
   "metadata": {
    "collapsed": false,
    "scrolled": true
   },
   "outputs": [
    {
     "name": "stdout",
     "output_type": "stream",
     "text": [
      "Esperamos trabalhar no diretório\n",
      "C:\\Users\\Patrick Wiegerinck\\Documents\\2 Semestre\\Ciência dos Dados\n"
     ]
    }
   ],
   "source": [
    "print('Esperamos trabalhar no diretório')\n",
    "print(os.getcwd())"
   ]
  },
  {
   "cell_type": "markdown",
   "metadata": {},
   "source": [
    "# ---------------------------------------------------------------------------------------------------------------"
   ]
  },
  {
   "cell_type": "markdown",
   "metadata": {},
   "source": [
    "### Leitura do arquivo do Excel "
   ]
  },
  {
   "cell_type": "code",
   "execution_count": 3,
   "metadata": {
    "collapsed": false
   },
   "outputs": [],
   "source": [
    "info = pd.read_excel('PNAD 2013 A.xlsx')"
   ]
  },
  {
   "cell_type": "markdown",
   "metadata": {},
   "source": [
    "# ---------------------------------------------------------------------------------------------------------------"
   ]
  },
  {
   "cell_type": "markdown",
   "metadata": {},
   "source": [
    "### Primeira formatação da tabela no python"
   ]
  },
  {
   "cell_type": "code",
   "execution_count": 4,
   "metadata": {
    "collapsed": false,
    "scrolled": true
   },
   "outputs": [
    {
     "data": {
      "text/html": [
       "<div>\n",
       "<table border=\"1\" class=\"dataframe\">\n",
       "  <thead>\n",
       "    <tr style=\"text-align: right;\">\n",
       "      <th></th>\n",
       "      <th>V0101</th>\n",
       "      <th>UF</th>\n",
       "      <th>V0102</th>\n",
       "      <th>V0103</th>\n",
       "      <th>V0301</th>\n",
       "      <th>V0302</th>\n",
       "      <th>V8005</th>\n",
       "      <th>V0404</th>\n",
       "      <th>V4011</th>\n",
       "      <th>V0412</th>\n",
       "      <th>...</th>\n",
       "      <th>V4706</th>\n",
       "      <th>V4707</th>\n",
       "      <th>V4809</th>\n",
       "      <th>V4810</th>\n",
       "      <th>V4711</th>\n",
       "      <th>V4718</th>\n",
       "      <th>V4720</th>\n",
       "      <th>V4742</th>\n",
       "      <th>V4750</th>\n",
       "      <th>V4729</th>\n",
       "    </tr>\n",
       "  </thead>\n",
       "  <tbody>\n",
       "    <tr>\n",
       "      <th>1</th>\n",
       "      <td>2013</td>\n",
       "      <td>11</td>\n",
       "      <td>15</td>\n",
       "      <td>3</td>\n",
       "      <td>1</td>\n",
       "      <td>4</td>\n",
       "      <td>42</td>\n",
       "      <td>2</td>\n",
       "      <td>5</td>\n",
       "      <td>2</td>\n",
       "      <td>...</td>\n",
       "      <td>NaN</td>\n",
       "      <td>NaN</td>\n",
       "      <td>NaN</td>\n",
       "      <td>NaN</td>\n",
       "      <td>NaN</td>\n",
       "      <td>NaN</td>\n",
       "      <td>350</td>\n",
       "      <td>350</td>\n",
       "      <td>350</td>\n",
       "      <td>244</td>\n",
       "    </tr>\n",
       "    <tr>\n",
       "      <th>2</th>\n",
       "      <td>2013</td>\n",
       "      <td>11</td>\n",
       "      <td>15</td>\n",
       "      <td>4</td>\n",
       "      <td>1</td>\n",
       "      <td>4</td>\n",
       "      <td>64</td>\n",
       "      <td>8</td>\n",
       "      <td>7</td>\n",
       "      <td>2</td>\n",
       "      <td>...</td>\n",
       "      <td>NaN</td>\n",
       "      <td>NaN</td>\n",
       "      <td>NaN</td>\n",
       "      <td>NaN</td>\n",
       "      <td>NaN</td>\n",
       "      <td>NaN</td>\n",
       "      <td>678</td>\n",
       "      <td>339</td>\n",
       "      <td>339</td>\n",
       "      <td>243</td>\n",
       "    </tr>\n",
       "    <tr>\n",
       "      <th>3</th>\n",
       "      <td>2013</td>\n",
       "      <td>11</td>\n",
       "      <td>15</td>\n",
       "      <td>4</td>\n",
       "      <td>2</td>\n",
       "      <td>4</td>\n",
       "      <td>13</td>\n",
       "      <td>4</td>\n",
       "      <td>0</td>\n",
       "      <td>2</td>\n",
       "      <td>...</td>\n",
       "      <td>NaN</td>\n",
       "      <td>NaN</td>\n",
       "      <td>NaN</td>\n",
       "      <td>NaN</td>\n",
       "      <td>NaN</td>\n",
       "      <td>NaN</td>\n",
       "      <td>0</td>\n",
       "      <td>339</td>\n",
       "      <td>339</td>\n",
       "      <td>243</td>\n",
       "    </tr>\n",
       "    <tr>\n",
       "      <th>4</th>\n",
       "      <td>2013</td>\n",
       "      <td>11</td>\n",
       "      <td>15</td>\n",
       "      <td>5</td>\n",
       "      <td>1</td>\n",
       "      <td>2</td>\n",
       "      <td>23</td>\n",
       "      <td>8</td>\n",
       "      <td>0</td>\n",
       "      <td>2</td>\n",
       "      <td>...</td>\n",
       "      <td>1</td>\n",
       "      <td>3</td>\n",
       "      <td>5</td>\n",
       "      <td>5</td>\n",
       "      <td>1</td>\n",
       "      <td>800</td>\n",
       "      <td>800</td>\n",
       "      <td>266</td>\n",
       "      <td>266</td>\n",
       "      <td>243</td>\n",
       "    </tr>\n",
       "    <tr>\n",
       "      <th>5</th>\n",
       "      <td>2013</td>\n",
       "      <td>11</td>\n",
       "      <td>15</td>\n",
       "      <td>5</td>\n",
       "      <td>2</td>\n",
       "      <td>4</td>\n",
       "      <td>19</td>\n",
       "      <td>8</td>\n",
       "      <td>0</td>\n",
       "      <td>2</td>\n",
       "      <td>...</td>\n",
       "      <td>NaN</td>\n",
       "      <td>NaN</td>\n",
       "      <td>NaN</td>\n",
       "      <td>NaN</td>\n",
       "      <td>NaN</td>\n",
       "      <td>NaN</td>\n",
       "      <td>0</td>\n",
       "      <td>266</td>\n",
       "      <td>266</td>\n",
       "      <td>243</td>\n",
       "    </tr>\n",
       "  </tbody>\n",
       "</table>\n",
       "<p>5 rows × 72 columns</p>\n",
       "</div>"
      ],
      "text/plain": [
       "   V0101  UF  V0102  V0103  V0301  V0302  V8005  V0404  V4011  V0412  ...    \\\n",
       "1   2013  11     15      3      1      4     42      2      5      2  ...     \n",
       "2   2013  11     15      4      1      4     64      8      7      2  ...     \n",
       "3   2013  11     15      4      2      4     13      4      0      2  ...     \n",
       "4   2013  11     15      5      1      2     23      8      0      2  ...     \n",
       "5   2013  11     15      5      2      4     19      8      0      2  ...     \n",
       "\n",
       "   V4706  V4707  V4809  V4810  V4711  V4718  V4720  V4742  V4750  V4729  \n",
       "1    NaN    NaN    NaN    NaN    NaN    NaN    350    350    350    244  \n",
       "2    NaN    NaN    NaN    NaN    NaN    NaN    678    339    339    243  \n",
       "3    NaN    NaN    NaN    NaN    NaN    NaN      0    339    339    243  \n",
       "4      1      3      5      5      1    800    800    266    266    243  \n",
       "5    NaN    NaN    NaN    NaN    NaN    NaN      0    266    266    243  \n",
       "\n",
       "[5 rows x 72 columns]"
      ]
     },
     "execution_count": 4,
     "metadata": {},
     "output_type": "execute_result"
    }
   ],
   "source": [
    "info.head()"
   ]
  },
  {
   "cell_type": "markdown",
   "metadata": {},
   "source": [
    "# ---------------------------------------------------------------------------------------------------------------"
   ]
  },
  {
   "cell_type": "markdown",
   "metadata": {},
   "source": [
    "### Definição do tamanho da tabela do excel "
   ]
  },
  {
   "cell_type": "code",
   "execution_count": 5,
   "metadata": {
    "collapsed": false
   },
   "outputs": [],
   "source": [
    "info.shape\n",
    "n = info.shape[0]"
   ]
  },
  {
   "cell_type": "markdown",
   "metadata": {},
   "source": [
    "# ---------------------------------------------------------------------------------------------------------------"
   ]
  },
  {
   "cell_type": "markdown",
   "metadata": {},
   "source": [
    "### Definição das categorias do documento"
   ]
  },
  {
   "cell_type": "code",
   "execution_count": 6,
   "metadata": {
    "collapsed": false
   },
   "outputs": [],
   "source": [
    "info.V0302.value_counts()\n",
    "info.SEXO = info.V0302.astype(\"category\")\n",
    "info.SEXO.cat.categories = (\"Masculino\",\"Feminino\")\n",
    "\n",
    "info.V0404.value_counts()\n",
    "info.COR = info.V0404.astype(\"category\")\n",
    "info.COR.cat.categories = (\"Indígena\",\"Branca\",\"Preta\",\"Amarela\",\"Parda\",\"Sem declarar\")\n",
    "\n",
    "info.V6002.value_counts()\n",
    "info.REDE = info.V6002.astype(\"category\")\n",
    "info.REDE.cat.categories = (\"Pública\",\"Privada\")\n",
    "\n",
    "info.V4802.value_counts()\n",
    "info.ESCOLARIDADE = info.V4802.astype(\"category\")\n",
    "info.ESCOLARIDADE.cat.categories = (\"maternal\",\"alfabetização\",\"alfabetização adultos\",\"primeira_quarta\",\"quinta_oitava\",\"ensino_fundamental_1\",\"ensino_fundamental_2_5\",\"ensino_fundamental_6_9\",\"ensino_fundamental_0\",\"ensino_médio\",\"Superior\")\n",
    "\n",
    "info.V0606.value_counts()\n",
    "info.ESCOLA_CRECHE = info.V0606.astype(\"category\")\n",
    "info.ESCOLA_CRECHE.cat.categories = (\"Sim\",\"Não\")\n",
    "\n",
    "info.V4011.value_counts()\n",
    "info.EC = info.V4011.astype(\"category\")\n",
    "info.EC.cat.categories = (\"Solteiro\",\"Casado\",\"Desquitado\",\"Divorciado\",\"Viúvo\")"
   ]
  },
  {
   "cell_type": "markdown",
   "metadata": {},
   "source": [
    "# ---------------------------------------------------------------------------------------------------------------"
   ]
  },
  {
   "cell_type": "markdown",
   "metadata": {},
   "source": [
    "### Análise univariada das variáveis qualitativas"
   ]
  },
  {
   "cell_type": "code",
   "execution_count": 7,
   "metadata": {
    "collapsed": false
   },
   "outputs": [
    {
     "name": "stdout",
     "output_type": "stream",
     "text": [
      "Frequências relativas por SEXO:\n",
      "Feminino     51.4\n",
      "Masculino    48.6\n",
      "dtype: float64 \n",
      "\n",
      "Frequências relativas por COR ou RAÇA:\n",
      "Parda           48.0\n",
      "Branca          42.8\n",
      "Preta            8.3\n",
      "Indígena         0.5\n",
      "Amarela          0.4\n",
      "Sem declarar     0.0\n",
      "dtype: float64 \n",
      "\n",
      "Frequências relativas por REDE:\n",
      "Pública    21.5\n",
      "Privada     6.9\n",
      "dtype: float64 \n",
      "\n",
      "Frequências relativas por ESCOLARIDADE:\n",
      "ensino_fundamental_2_5    7.0\n",
      "ensino_fundamental_6_9    6.3\n",
      "ensino_médio              4.8\n",
      "Superior                  3.8\n",
      "maternal                  1.7\n",
      "ensino_fundamental_1      1.6\n",
      "quinta_oitava             0.6\n",
      "primeira_quarta           0.3\n",
      "alfabetização             0.3\n",
      "ensino_fundamental_0      0.1\n",
      "alfabetização adultos     0.1\n",
      "dtype: float64 \n",
      "\n",
      "Frequências relativas por ESCOLA ou CRECHE:\n",
      "Sim    62.2\n",
      "Não     9.4\n",
      "dtype: float64 \n",
      "\n",
      "Frequências relativas por ESTADO CIVIL:\n",
      "Solteiro      47.7\n",
      "Viúvo          4.6\n",
      "Divorciado     3.3\n",
      "Casado         3.1\n",
      "Desquitado     1.2\n",
      "dtype: float64 \n",
      "\n"
     ]
    }
   ],
   "source": [
    "print('Frequências relativas por SEXO:')\n",
    "fs = (info.SEXO.value_counts(True)*100).round(decimals=1)\n",
    "print(fs,'\\n')\n",
    "\n",
    "print('Frequências relativas por COR ou RAÇA:')\n",
    "fc = (info.COR.value_counts(True)*100).round(decimals=1)\n",
    "print(fc,'\\n')\n",
    "\n",
    "print('Frequências relativas por REDE:')\n",
    "fr = (info.REDE.value_counts(True)*100).round(decimals=1)\n",
    "print(fr,'\\n')\n",
    "\n",
    "print('Frequências relativas por ESCOLARIDADE:')\n",
    "fe = (info.ESCOLARIDADE.value_counts(True)*100).round(decimals=1)\n",
    "print(fe,'\\n')\n",
    "\n",
    "print('Frequências relativas por ESCOLA ou CRECHE:')\n",
    "fes = (info.ESCOLA_CRECHE.value_counts(True)*100).round(decimals=1)\n",
    "print(fes,'\\n')\n",
    "\n",
    "print('Frequências relativas por ESTADO CIVIL:')\n",
    "fec = (info.EC.value_counts(True)*100).round(decimals=1)\n",
    "print(fec,'\\n')"
   ]
  },
  {
   "cell_type": "markdown",
   "metadata": {},
   "source": [
    "# ---------------------------------------------------------------------------------------------------------------"
   ]
  },
  {
   "cell_type": "markdown",
   "metadata": {},
   "source": [
    "# Construção de gráficos sobre as variáveis qualitativas"
   ]
  },
  {
   "cell_type": "markdown",
   "metadata": {},
   "source": [
    "## SEXO "
   ]
  },
  {
   "cell_type": "code",
   "execution_count": 8,
   "metadata": {
    "collapsed": false
   },
   "outputs": [
    {
     "data": {
      "text/plain": [
       "<matplotlib.text.Text at 0x1edabe302e8>"
      ]
     },
     "execution_count": 8,
     "metadata": {},
     "output_type": "execute_result"
    },
    {
     "data": {
      "image/png": "[encoded data removed]",
      "text/plain": [
       "<matplotlib.figure.Figure at 0x1edae8065c0>"
      ]
     },
     "metadata": {},
     "output_type": "display_data"
    }
   ],
   "source": [
    "plot = fs.plot(kind='bar',title='SEXO',figsize=(6, 6),color=(\"b\",\"g\"))\n",
    "plt.ylabel('Freq.Relativa (em%)')\n",
    "plt.xlabel('SEXO')"
   ]
  },
  {
   "cell_type": "code",
   "execution_count": 9,
   "metadata": {
    "collapsed": false
   },
   "outputs": [
    {
     "data": {
      "image/png": "[encoded data removed]",
      "text/plain": [
       "<matplotlib.figure.Figure at 0x1edb4ec02e8>"
      ]
     },
     "metadata": {},
     "output_type": "display_data"
    }
   ],
   "source": [
    "plot = fs.plot(kind='pie',title='SEXO',autopct='%.1f',figsize=(6, 6))"
   ]
  },
  {
   "cell_type": "markdown",
   "metadata": {},
   "source": [
    "# ---------------------------------------------------------------------------------------------------------------"
   ]
  },
  {
   "cell_type": "markdown",
   "metadata": {},
   "source": [
    "##  COR ou RAÇA"
   ]
  },
  {
   "cell_type": "code",
   "execution_count": 10,
   "metadata": {
    "collapsed": false
   },
   "outputs": [
    {
     "data": {
      "text/plain": [
       "<matplotlib.text.Text at 0x1edec15fb38>"
      ]
     },
     "execution_count": 10,
     "metadata": {},
     "output_type": "execute_result"
    },
    {
     "data": {
      "image/png": "[encoded data removed]",
      "text/plain": [
       "<matplotlib.figure.Figure at 0x1edae836780>"
      ]
     },
     "metadata": {},
     "output_type": "display_data"
    }
   ],
   "source": [
    "plot = fc.plot(kind='bar',title='COR/RAÇA',figsize=(6, 6))\n",
    "plt.ylabel('Freq.Relativa (em%)')\n",
    "plt.xlabel('COR/RAÇA')"
   ]
  },
  {
   "cell_type": "code",
   "execution_count": 11,
   "metadata": {
    "collapsed": false
   },
   "outputs": [
    {
     "data": {
      "image/png": "[encoded data removed]",
      "text/plain": [
       "<matplotlib.figure.Figure at 0x1edd75cb470>"
      ]
     },
     "metadata": {},
     "output_type": "display_data"
    }
   ],
   "source": [
    "plot = fc.plot(kind='pie',title='COR ou RAÇA',autopct='%.1f',figsize=(6, 6))"
   ]
  },
  {
   "cell_type": "markdown",
   "metadata": {},
   "source": [
    "# ---------------------------------------------------------------------------------------------------------------"
   ]
  },
  {
   "cell_type": "markdown",
   "metadata": {},
   "source": [
    "## REDE DE ENSINO"
   ]
  },
  {
   "cell_type": "code",
   "execution_count": 12,
   "metadata": {
    "collapsed": false
   },
   "outputs": [
    {
     "data": {
      "text/plain": [
       "<matplotlib.text.Text at 0x1edd76c1b38>"
      ]
     },
     "execution_count": 12,
     "metadata": {},
     "output_type": "execute_result"
    },
    {
     "data": {
      "image/png": "[encoded data removed]",
      "text/plain": [
       "<matplotlib.figure.Figure at 0x1edec1677b8>"
      ]
     },
     "metadata": {},
     "output_type": "display_data"
    }
   ],
   "source": [
    "plot = fr.plot(kind='bar',title='REDE',figsize=(6, 6),color=(\"b\",\"g\"))\n",
    "plt.ylabel('Freq.Relativa (em%)')\n",
    "plt.xlabel('REDE')"
   ]
  },
  {
   "cell_type": "code",
   "execution_count": 13,
   "metadata": {
    "collapsed": false
   },
   "outputs": [
    {
     "data": {
      "image/png": "[encoded data removed]",
      "text/plain": [
       "<matplotlib.figure.Figure at 0x1edad734978>"
      ]
     },
     "metadata": {},
     "output_type": "display_data"
    }
   ],
   "source": [
    "plot = fr.plot(kind='pie',title='REDE DE ENSINO',autopct='%.1f',figsize=(6, 6))"
   ]
  },
  {
   "cell_type": "markdown",
   "metadata": {},
   "source": [
    "# ---------------------------------------------------------------------------------------------------------------"
   ]
  },
  {
   "cell_type": "markdown",
   "metadata": {},
   "source": [
    "## NÍVEL DE ESCOLARIDADE"
   ]
  },
  {
   "cell_type": "code",
   "execution_count": 14,
   "metadata": {
    "collapsed": false
   },
   "outputs": [
    {
     "data": {
      "text/plain": [
       "<matplotlib.text.Text at 0x1edd774a400>"
      ]
     },
     "execution_count": 14,
     "metadata": {},
     "output_type": "execute_result"
    },
    {
     "data": {
      "image/png": "[encoded data removed]",
      "text/plain": [
       "<matplotlib.figure.Figure at 0x1edd7723dd8>"
      ]
     },
     "metadata": {},
     "output_type": "display_data"
    }
   ],
   "source": [
    "plot = fe.plot(kind='bar',title='ESCOLARIDADE',figsize=(6, 6))\n",
    "plt.ylabel('Freq.Relativa (em%)')\n",
    "plt.xlabel('ESCOLARIDADE')"
   ]
  },
  {
   "cell_type": "code",
   "execution_count": 15,
   "metadata": {
    "collapsed": false
   },
   "outputs": [
    {
     "data": {
      "image/png": "[encoded data removed]",
      "text/plain": [
       "<matplotlib.figure.Figure at 0x1edd757fda0>"
      ]
     },
     "metadata": {},
     "output_type": "display_data"
    }
   ],
   "source": [
    "plot = fe.plot(kind='pie',title='ESCOLARIDADE',autopct='%.1f',figsize=(6, 6))"
   ]
  },
  {
   "cell_type": "markdown",
   "metadata": {},
   "source": [
    "# ---------------------------------------------------------------------------------------------------------------"
   ]
  },
  {
   "cell_type": "markdown",
   "metadata": {},
   "source": [
    "## ESCOLA ou CRECHE"
   ]
  },
  {
   "cell_type": "code",
   "execution_count": 16,
   "metadata": {
    "collapsed": false
   },
   "outputs": [
    {
     "data": {
      "text/plain": [
       "<matplotlib.text.Text at 0x1edd24ade48>"
      ]
     },
     "execution_count": 16,
     "metadata": {},
     "output_type": "execute_result"
    },
    {
     "data": {
      "image/png": "[encoded data removed]",
      "text/plain": [
       "<matplotlib.figure.Figure at 0x1edd7656278>"
      ]
     },
     "metadata": {},
     "output_type": "display_data"
    }
   ],
   "source": [
    "plot = fes.plot(kind='bar',title='ESCOLA/CRECHE',figsize=(6, 6), color=(\"b\",\"g\"))\n",
    "plt.ylabel('Freq.Relativa (em%)')\n",
    "plt.xlabel('ESCOLA/CRECHE')"
   ]
  },
  {
   "cell_type": "code",
   "execution_count": 17,
   "metadata": {
    "collapsed": false
   },
   "outputs": [
    {
     "data": {
      "image/png": "[encoded data removed]",
      "text/plain": [
       "<matplotlib.figure.Figure at 0x1edd765c0f0>"
      ]
     },
     "metadata": {},
     "output_type": "display_data"
    }
   ],
   "source": [
    "plot = fes.plot(kind='pie',title='ESCOLA ou CRECHES',autopct='%.1f',figsize=(6, 6))"
   ]
  },
  {
   "cell_type": "markdown",
   "metadata": {},
   "source": [
    "# ---------------------------------------------------------------------------------------------------------------"
   ]
  },
  {
   "cell_type": "markdown",
   "metadata": {},
   "source": [
    "## ESTADO CIVIL"
   ]
  },
  {
   "cell_type": "code",
   "execution_count": 18,
   "metadata": {
    "collapsed": false
   },
   "outputs": [
    {
     "data": {
      "text/plain": [
       "<matplotlib.text.Text at 0x1edd34122b0>"
      ]
     },
     "execution_count": 18,
     "metadata": {},
     "output_type": "execute_result"
    },
    {
     "data": {
      "image/png": "[encoded data removed]",
      "text/plain": [
       "<matplotlib.figure.Figure at 0x1edcb4bfe80>"
      ]
     },
     "metadata": {},
     "output_type": "display_data"
    }
   ],
   "source": [
    "plot = fec.plot(kind='bar',title='ESTADO CIVIL',figsize=(6, 6))\n",
    "plt.ylabel('Freq.Relativa (em%)')\n",
    "plt.xlabel('EC')"
   ]
  },
  {
   "cell_type": "code",
   "execution_count": 19,
   "metadata": {
    "collapsed": false
   },
   "outputs": [
    {
     "data": {
      "image/png": "[encoded data removed]",
      "text/plain": [
       "<matplotlib.figure.Figure at 0x1edd0204cf8>"
      ]
     },
     "metadata": {},
     "output_type": "display_data"
    }
   ],
   "source": [
    "plot = fec.plot(kind='pie',title='ESTADO CIVIL',autopct='%.1f',figsize=(6, 6))"
   ]
  },
  {
   "cell_type": "markdown",
   "metadata": {},
   "source": [
    "# ---------------------------------------------------------------------------------------------------------------"
   ]
  },
  {
   "cell_type": "markdown",
   "metadata": {},
   "source": [
    "# Construção de gráficos de correlação das variáveis qualitativas"
   ]
  },
  {
   "cell_type": "markdown",
   "metadata": {},
   "source": [
    "## REDE DE ENSINO por COR ou RAÇA"
   ]
  },
  {
   "cell_type": "code",
   "execution_count": 20,
   "metadata": {
    "collapsed": false
   },
   "outputs": [
    {
     "data": {
      "text/html": [
       "<div>\n",
       "<table border=\"1\" class=\"dataframe\">\n",
       "  <thead>\n",
       "    <tr style=\"text-align: right;\">\n",
       "      <th>V0404</th>\n",
       "      <th>Indígena</th>\n",
       "      <th>Branca</th>\n",
       "      <th>Preta</th>\n",
       "      <th>Amarela</th>\n",
       "      <th>Parda</th>\n",
       "      <th>Sem declarar</th>\n",
       "    </tr>\n",
       "    <tr>\n",
       "      <th>V6002</th>\n",
       "      <th></th>\n",
       "      <th></th>\n",
       "      <th></th>\n",
       "      <th></th>\n",
       "      <th></th>\n",
       "      <th></th>\n",
       "    </tr>\n",
       "  </thead>\n",
       "  <tbody>\n",
       "    <tr>\n",
       "      <th>Pública</th>\n",
       "      <td>532</td>\n",
       "      <td>28002</td>\n",
       "      <td>5696</td>\n",
       "      <td>206</td>\n",
       "      <td>43519</td>\n",
       "      <td>0</td>\n",
       "    </tr>\n",
       "    <tr>\n",
       "      <th>Privada</th>\n",
       "      <td>47</td>\n",
       "      <td>14044</td>\n",
       "      <td>1417</td>\n",
       "      <td>140</td>\n",
       "      <td>9541</td>\n",
       "      <td>0</td>\n",
       "    </tr>\n",
       "  </tbody>\n",
       "</table>\n",
       "</div>"
      ],
      "text/plain": [
       "V0404    Indígena  Branca  Preta  Amarela  Parda  Sem declarar\n",
       "V6002                                                         \n",
       "Pública       532   28002   5696      206  43519             0\n",
       "Privada        47   14044   1417      140   9541             0"
      ]
     },
     "execution_count": 20,
     "metadata": {},
     "output_type": "execute_result"
    }
   ],
   "source": [
    "ct = pd.crosstab(info.REDE, info.COR)\n",
    "ct"
   ]
  },
  {
   "cell_type": "code",
   "execution_count": 21,
   "metadata": {
    "collapsed": false
   },
   "outputs": [
    {
     "data": {
      "text/plain": [
       "<matplotlib.axes._subplots.AxesSubplot at 0x1edd02211d0>"
      ]
     },
     "execution_count": 21,
     "metadata": {},
     "output_type": "execute_result"
    },
    {
     "data": {
      "image/png": "[encoded data removed]",
      "text/plain": [
       "<matplotlib.figure.Figure at 0x1edd020c518>"
      ]
     },
     "metadata": {},
     "output_type": "display_data"
    }
   ],
   "source": [
    "rede_cor = pd.crosstab(info.REDE, info.COR)\n",
    "rede_cor.plot.bar(color=('yellow', 'blue',\"red\",\"brown\",\"green\",\"salmon\"), stacked=True)"
   ]
  },
  {
   "cell_type": "markdown",
   "metadata": {},
   "source": [
    "# ---------------------------------------------------------------------------------------------------------------"
   ]
  },
  {
   "cell_type": "markdown",
   "metadata": {},
   "source": [
    "## ESCOLARIDADE por COR ou RAÇA"
   ]
  },
  {
   "cell_type": "code",
   "execution_count": 22,
   "metadata": {
    "collapsed": false
   },
   "outputs": [
    {
     "data": {
      "text/html": [
       "<div>\n",
       "<table border=\"1\" class=\"dataframe\">\n",
       "  <thead>\n",
       "    <tr style=\"text-align: right;\">\n",
       "      <th>V0404</th>\n",
       "      <th>Indígena</th>\n",
       "      <th>Branca</th>\n",
       "      <th>Preta</th>\n",
       "      <th>Amarela</th>\n",
       "      <th>Parda</th>\n",
       "      <th>Sem declarar</th>\n",
       "    </tr>\n",
       "    <tr>\n",
       "      <th>V4802</th>\n",
       "      <th></th>\n",
       "      <th></th>\n",
       "      <th></th>\n",
       "      <th></th>\n",
       "      <th></th>\n",
       "      <th></th>\n",
       "    </tr>\n",
       "  </thead>\n",
       "  <tbody>\n",
       "    <tr>\n",
       "      <th>maternal</th>\n",
       "      <td>27</td>\n",
       "      <td>2590</td>\n",
       "      <td>365</td>\n",
       "      <td>13</td>\n",
       "      <td>3298</td>\n",
       "      <td>0</td>\n",
       "    </tr>\n",
       "    <tr>\n",
       "      <th>alfabetização</th>\n",
       "      <td>5</td>\n",
       "      <td>394</td>\n",
       "      <td>77</td>\n",
       "      <td>6</td>\n",
       "      <td>591</td>\n",
       "      <td>0</td>\n",
       "    </tr>\n",
       "    <tr>\n",
       "      <th>alfabetização adultos</th>\n",
       "      <td>0</td>\n",
       "      <td>104</td>\n",
       "      <td>57</td>\n",
       "      <td>1</td>\n",
       "      <td>273</td>\n",
       "      <td>0</td>\n",
       "    </tr>\n",
       "    <tr>\n",
       "      <th>primeira_quarta</th>\n",
       "      <td>41</td>\n",
       "      <td>369</td>\n",
       "      <td>129</td>\n",
       "      <td>1</td>\n",
       "      <td>552</td>\n",
       "      <td>0</td>\n",
       "    </tr>\n",
       "    <tr>\n",
       "      <th>quinta_oitava</th>\n",
       "      <td>23</td>\n",
       "      <td>896</td>\n",
       "      <td>219</td>\n",
       "      <td>7</td>\n",
       "      <td>1017</td>\n",
       "      <td>0</td>\n",
       "    </tr>\n",
       "    <tr>\n",
       "      <th>ensino_fundamental_1</th>\n",
       "      <td>53</td>\n",
       "      <td>2286</td>\n",
       "      <td>329</td>\n",
       "      <td>11</td>\n",
       "      <td>3006</td>\n",
       "      <td>0</td>\n",
       "    </tr>\n",
       "    <tr>\n",
       "      <th>ensino_fundamental_2_5</th>\n",
       "      <td>187</td>\n",
       "      <td>9197</td>\n",
       "      <td>1684</td>\n",
       "      <td>73</td>\n",
       "      <td>14256</td>\n",
       "      <td>0</td>\n",
       "    </tr>\n",
       "    <tr>\n",
       "      <th>ensino_fundamental_6_9</th>\n",
       "      <td>118</td>\n",
       "      <td>8294</td>\n",
       "      <td>1640</td>\n",
       "      <td>61</td>\n",
       "      <td>12859</td>\n",
       "      <td>0</td>\n",
       "    </tr>\n",
       "    <tr>\n",
       "      <th>ensino_fundamental_0</th>\n",
       "      <td>2</td>\n",
       "      <td>134</td>\n",
       "      <td>44</td>\n",
       "      <td>0</td>\n",
       "      <td>293</td>\n",
       "      <td>0</td>\n",
       "    </tr>\n",
       "    <tr>\n",
       "      <th>ensino_médio</th>\n",
       "      <td>69</td>\n",
       "      <td>6971</td>\n",
       "      <td>1306</td>\n",
       "      <td>71</td>\n",
       "      <td>8986</td>\n",
       "      <td>0</td>\n",
       "    </tr>\n",
       "    <tr>\n",
       "      <th>Superior</th>\n",
       "      <td>41</td>\n",
       "      <td>7465</td>\n",
       "      <td>913</td>\n",
       "      <td>86</td>\n",
       "      <td>5139</td>\n",
       "      <td>0</td>\n",
       "    </tr>\n",
       "  </tbody>\n",
       "</table>\n",
       "</div>"
      ],
      "text/plain": [
       "V0404                   Indígena  Branca  Preta  Amarela  Parda  Sem declarar\n",
       "V4802                                                                        \n",
       "maternal                      27    2590    365       13   3298             0\n",
       "alfabetização                  5     394     77        6    591             0\n",
       "alfabetização adultos          0     104     57        1    273             0\n",
       "primeira_quarta               41     369    129        1    552             0\n",
       "quinta_oitava                 23     896    219        7   1017             0\n",
       "ensino_fundamental_1          53    2286    329       11   3006             0\n",
       "ensino_fundamental_2_5       187    9197   1684       73  14256             0\n",
       "ensino_fundamental_6_9       118    8294   1640       61  12859             0\n",
       "ensino_fundamental_0           2     134     44        0    293             0\n",
       "ensino_médio                  69    6971   1306       71   8986             0\n",
       "Superior                      41    7465    913       86   5139             0"
      ]
     },
     "execution_count": 22,
     "metadata": {},
     "output_type": "execute_result"
    }
   ],
   "source": [
    "ct1 = pd.crosstab(info.ESCOLARIDADE, info.COR)\n",
    "ct1"
   ]
  },
  {
   "cell_type": "code",
   "execution_count": 23,
   "metadata": {
    "collapsed": false
   },
   "outputs": [
    {
     "data": {
      "text/plain": [
       "<matplotlib.axes._subplots.AxesSubplot at 0x1edd7659898>"
      ]
     },
     "execution_count": 23,
     "metadata": {},
     "output_type": "execute_result"
    },
    {
     "data": {
      "image/png": "[encoded data removed]",
      "text/plain": [
       "<matplotlib.figure.Figure at 0x1edd24c6d68>"
      ]
     },
     "metadata": {},
     "output_type": "display_data"
    }
   ],
   "source": [
    "escolaridade_cor = pd.crosstab(info.ESCOLARIDADE, info.COR)\n",
    "escolaridade_cor.plot.bar(color=(\"red\",\"green\",\"yellow\",\"purple\",\"blue\",\"salmon\"), stacked=True)"
   ]
  },
  {
   "cell_type": "markdown",
   "metadata": {},
   "source": [
    "# ---------------------------------------------------------------------------------------------------------------"
   ]
  },
  {
   "cell_type": "markdown",
   "metadata": {},
   "source": [
    "## ESTADO CIVIL por ESCOLARIDADE"
   ]
  },
  {
   "cell_type": "code",
   "execution_count": 24,
   "metadata": {
    "collapsed": false
   },
   "outputs": [
    {
     "data": {
      "text/html": [
       "<div>\n",
       "<table border=\"1\" class=\"dataframe\">\n",
       "  <thead>\n",
       "    <tr style=\"text-align: right;\">\n",
       "      <th>V4802</th>\n",
       "      <th>maternal</th>\n",
       "      <th>alfabetização</th>\n",
       "      <th>alfabetização adultos</th>\n",
       "      <th>primeira_quarta</th>\n",
       "      <th>quinta_oitava</th>\n",
       "      <th>ensino_fundamental_1</th>\n",
       "      <th>ensino_fundamental_2_5</th>\n",
       "      <th>ensino_fundamental_6_9</th>\n",
       "      <th>ensino_fundamental_0</th>\n",
       "      <th>ensino_médio</th>\n",
       "      <th>Superior</th>\n",
       "    </tr>\n",
       "    <tr>\n",
       "      <th>V4011</th>\n",
       "      <th></th>\n",
       "      <th></th>\n",
       "      <th></th>\n",
       "      <th></th>\n",
       "      <th></th>\n",
       "      <th></th>\n",
       "      <th></th>\n",
       "      <th></th>\n",
       "      <th></th>\n",
       "      <th></th>\n",
       "      <th></th>\n",
       "    </tr>\n",
       "  </thead>\n",
       "  <tbody>\n",
       "    <tr>\n",
       "      <th>Solteiro</th>\n",
       "      <td>0</td>\n",
       "      <td>40</td>\n",
       "      <td>228</td>\n",
       "      <td>525</td>\n",
       "      <td>1969</td>\n",
       "      <td>172</td>\n",
       "      <td>10824</td>\n",
       "      <td>22785</td>\n",
       "      <td>314</td>\n",
       "      <td>16587</td>\n",
       "      <td>10381</td>\n",
       "    </tr>\n",
       "    <tr>\n",
       "      <th>Casado</th>\n",
       "      <td>0</td>\n",
       "      <td>0</td>\n",
       "      <td>22</td>\n",
       "      <td>23</td>\n",
       "      <td>23</td>\n",
       "      <td>1</td>\n",
       "      <td>11</td>\n",
       "      <td>24</td>\n",
       "      <td>18</td>\n",
       "      <td>117</td>\n",
       "      <td>230</td>\n",
       "    </tr>\n",
       "    <tr>\n",
       "      <th>Desquitado</th>\n",
       "      <td>0</td>\n",
       "      <td>0</td>\n",
       "      <td>4</td>\n",
       "      <td>6</td>\n",
       "      <td>10</td>\n",
       "      <td>1</td>\n",
       "      <td>1</td>\n",
       "      <td>5</td>\n",
       "      <td>4</td>\n",
       "      <td>20</td>\n",
       "      <td>82</td>\n",
       "    </tr>\n",
       "    <tr>\n",
       "      <th>Divorciado</th>\n",
       "      <td>0</td>\n",
       "      <td>1</td>\n",
       "      <td>9</td>\n",
       "      <td>13</td>\n",
       "      <td>21</td>\n",
       "      <td>2</td>\n",
       "      <td>1</td>\n",
       "      <td>2</td>\n",
       "      <td>17</td>\n",
       "      <td>68</td>\n",
       "      <td>360</td>\n",
       "    </tr>\n",
       "    <tr>\n",
       "      <th>Viúvo</th>\n",
       "      <td>0</td>\n",
       "      <td>0</td>\n",
       "      <td>49</td>\n",
       "      <td>37</td>\n",
       "      <td>8</td>\n",
       "      <td>2</td>\n",
       "      <td>5</td>\n",
       "      <td>1</td>\n",
       "      <td>15</td>\n",
       "      <td>28</td>\n",
       "      <td>48</td>\n",
       "    </tr>\n",
       "  </tbody>\n",
       "</table>\n",
       "</div>"
      ],
      "text/plain": [
       "V4802       maternal  alfabetização  alfabetização adultos  primeira_quarta  \\\n",
       "V4011                                                                         \n",
       "Solteiro           0             40                    228              525   \n",
       "Casado             0              0                     22               23   \n",
       "Desquitado         0              0                      4                6   \n",
       "Divorciado         0              1                      9               13   \n",
       "Viúvo              0              0                     49               37   \n",
       "\n",
       "V4802       quinta_oitava  ensino_fundamental_1  ensino_fundamental_2_5  \\\n",
       "V4011                                                                     \n",
       "Solteiro             1969                   172                   10824   \n",
       "Casado                 23                     1                      11   \n",
       "Desquitado             10                     1                       1   \n",
       "Divorciado             21                     2                       1   \n",
       "Viúvo                   8                     2                       5   \n",
       "\n",
       "V4802       ensino_fundamental_6_9  ensino_fundamental_0  ensino_médio  \\\n",
       "V4011                                                                    \n",
       "Solteiro                     22785                   314         16587   \n",
       "Casado                          24                    18           117   \n",
       "Desquitado                       5                     4            20   \n",
       "Divorciado                       2                    17            68   \n",
       "Viúvo                            1                    15            28   \n",
       "\n",
       "V4802       Superior  \n",
       "V4011                 \n",
       "Solteiro       10381  \n",
       "Casado           230  \n",
       "Desquitado        82  \n",
       "Divorciado       360  \n",
       "Viúvo             48  "
      ]
     },
     "execution_count": 24,
     "metadata": {},
     "output_type": "execute_result"
    }
   ],
   "source": [
    "ct2 = pd.crosstab(info.EC, info.ESCOLARIDADE)\n",
    "ct2"
   ]
  },
  {
   "cell_type": "code",
   "execution_count": 25,
   "metadata": {
    "collapsed": false
   },
   "outputs": [
    {
     "data": {
      "text/plain": [
       "<matplotlib.axes._subplots.AxesSubplot at 0x1edd7639390>"
      ]
     },
     "execution_count": 25,
     "metadata": {},
     "output_type": "execute_result"
    },
    {
     "data": {
      "image/png": "[encoded data removed]",
      "text/plain": [
       "<matplotlib.figure.Figure at 0x1edd763af98>"
      ]
     },
     "metadata": {},
     "output_type": "display_data"
    }
   ],
   "source": [
    "escolaridade_ec = pd.crosstab(info.EC, info.ESCOLARIDADE)\n",
    "escolaridade_ec.plot.bar(color=(\"red\",\"green\",\"yellow\",\"purple\",\"blue\",\"white\",\"orange\",\"k\",\"salmon\",\"brown\",\"magenta\"),figsize=(8,8), stacked=True)"
   ]
  },
  {
   "cell_type": "markdown",
   "metadata": {},
   "source": [
    "# ---------------------------------------------------------------------------------------------------------------"
   ]
  },
  {
   "cell_type": "markdown",
   "metadata": {},
   "source": [
    "## ESCOLA ou CRECHE por SEXO"
   ]
  },
  {
   "cell_type": "code",
   "execution_count": 26,
   "metadata": {
    "collapsed": false
   },
   "outputs": [
    {
     "data": {
      "text/html": [
       "<div>\n",
       "<table border=\"1\" class=\"dataframe\">\n",
       "  <thead>\n",
       "    <tr style=\"text-align: right;\">\n",
       "      <th>V0302</th>\n",
       "      <th>Masculino</th>\n",
       "      <th>Feminino</th>\n",
       "    </tr>\n",
       "    <tr>\n",
       "      <th>V0606</th>\n",
       "      <th></th>\n",
       "      <th></th>\n",
       "    </tr>\n",
       "  </thead>\n",
       "  <tbody>\n",
       "    <tr>\n",
       "      <th>Sim</th>\n",
       "      <td>108042</td>\n",
       "      <td>117300</td>\n",
       "    </tr>\n",
       "    <tr>\n",
       "      <th>Não</th>\n",
       "      <td>16883</td>\n",
       "      <td>17186</td>\n",
       "    </tr>\n",
       "  </tbody>\n",
       "</table>\n",
       "</div>"
      ],
      "text/plain": [
       "V0302  Masculino  Feminino\n",
       "V0606                     \n",
       "Sim       108042    117300\n",
       "Não        16883     17186"
      ]
     },
     "execution_count": 26,
     "metadata": {},
     "output_type": "execute_result"
    }
   ],
   "source": [
    "ct3 = pd.crosstab(info.ESCOLA_CRECHE, info.SEXO)\n",
    "ct3"
   ]
  },
  {
   "cell_type": "code",
   "execution_count": 27,
   "metadata": {
    "collapsed": false
   },
   "outputs": [
    {
     "data": {
      "text/plain": [
       "<matplotlib.axes._subplots.AxesSubplot at 0x1edd7495668>"
      ]
     },
     "execution_count": 27,
     "metadata": {},
     "output_type": "execute_result"
    },
    {
     "data": {
      "image/png": "[encoded data removed]",
      "text/plain": [
       "<matplotlib.figure.Figure at 0x1edd1f2c588>"
      ]
     },
     "metadata": {},
     "output_type": "display_data"
    }
   ],
   "source": [
    "escola_creche_sexo = pd.crosstab(info.SEXO, info.ESCOLA_CRECHE)\n",
    "escola_creche_sexo.plot.bar(color=(\"red\",\"green\"))"
   ]
  },
  {
   "cell_type": "markdown",
   "metadata": {},
   "source": [
    "# ---------------------------------------------------------------------------------------------------------------"
   ]
  },
  {
   "cell_type": "markdown",
   "metadata": {},
   "source": [
    "# Regiões do Brasil"
   ]
  },
  {
   "cell_type": "code",
   "execution_count": 28,
   "metadata": {
    "collapsed": true
   },
   "outputs": [],
   "source": [
    "d = pd.DataFrame()\n",
    "d[\"regiao\"] = info.UF\n",
    "\n",
    "d.regiao[(info.UF >= 10) & (info.UF < 20)]=1\n",
    "d.regiao[(info.UF >= 20) & (info.UF < 30)]=2\n",
    "d.regiao[(info.UF >= 30) & (info.UF < 40)]=3\n",
    "d.regiao[(info.UF >= 40) & (info.UF < 50)]=4\n",
    "d.regiao[(info.UF >= 50) & (info.UF < 60)]=5\n",
    "\n",
    "d.regiao.value_counts()\n",
    "d.regiao = d.regiao.astype(\"category\")\n",
    "d.regiao.cat.categories = (\"NORTE\",\"NORDESTE\",\"SUDESTE\",\"SUL\",\"CENTRO-OESTE\")"
   ]
  },
  {
   "cell_type": "markdown",
   "metadata": {},
   "source": [
    "## Análise univariada das variáveis qualitativas"
   ]
  },
  {
   "cell_type": "code",
   "execution_count": 29,
   "metadata": {
    "collapsed": false
   },
   "outputs": [
    {
     "name": "stdout",
     "output_type": "stream",
     "text": [
      "Frequências relativas por REGIÃO:\n",
      "SUDESTE         29.0\n",
      "NORDESTE        28.8\n",
      "NORTE           16.3\n",
      "SUL             15.5\n",
      "CENTRO-OESTE    10.4\n",
      "dtype: float64 \n",
      "\n"
     ]
    }
   ],
   "source": [
    "print('Frequências relativas por REGIÃO:')\n",
    "freg = (d.regiao.value_counts(True)*100).round(decimals=1)\n",
    "print(freg,'\\n')"
   ]
  },
  {
   "cell_type": "markdown",
   "metadata": {},
   "source": [
    "## REGIÕES"
   ]
  },
  {
   "cell_type": "code",
   "execution_count": 30,
   "metadata": {
    "collapsed": false
   },
   "outputs": [
    {
     "data": {
      "text/plain": [
       "<matplotlib.text.Text at 0x1edd3531c50>"
      ]
     },
     "execution_count": 30,
     "metadata": {},
     "output_type": "execute_result"
    },
    {
     "data": {
      "image/png": "[encoded data removed]",
      "text/plain": [
       "<matplotlib.figure.Figure at 0x1edd35410b8>"
      ]
     },
     "metadata": {},
     "output_type": "display_data"
    }
   ],
   "source": [
    "plot = freg.plot(kind='bar',title='REGIÃO',figsize=(6, 6),color=(\"blue\",\"yellow\",\"brown\",\"red\",\"salmon\"))\n",
    "plt.ylabel('Freq.Relativa (em%)')\n",
    "plt.xlabel('REGIÃO')"
   ]
  },
  {
   "cell_type": "code",
   "execution_count": 31,
   "metadata": {
    "collapsed": false
   },
   "outputs": [
    {
     "data": {
      "image/png": "[encoded data removed]",
      "text/plain": [
       "<matplotlib.figure.Figure at 0x1edd74ec5f8>"
      ]
     },
     "metadata": {},
     "output_type": "display_data"
    }
   ],
   "source": [
    "plot = freg.plot(kind='pie',title='REGIÃO',autopct='%.1f',figsize=(6, 6))"
   ]
  },
  {
   "cell_type": "markdown",
   "metadata": {},
   "source": [
    "## REGIÃO por ESCOLA ou CRECHE"
   ]
  },
  {
   "cell_type": "code",
   "execution_count": 32,
   "metadata": {
    "collapsed": false
   },
   "outputs": [
    {
     "data": {
      "text/html": [
       "<div>\n",
       "<table border=\"1\" class=\"dataframe\">\n",
       "  <thead>\n",
       "    <tr style=\"text-align: right;\">\n",
       "      <th>V0606</th>\n",
       "      <th>Sim</th>\n",
       "      <th>Não</th>\n",
       "    </tr>\n",
       "    <tr>\n",
       "      <th>regiao</th>\n",
       "      <th></th>\n",
       "      <th></th>\n",
       "    </tr>\n",
       "  </thead>\n",
       "  <tbody>\n",
       "    <tr>\n",
       "      <th>NORTE</th>\n",
       "      <td>32367</td>\n",
       "      <td>7360</td>\n",
       "    </tr>\n",
       "    <tr>\n",
       "      <th>NORDESTE</th>\n",
       "      <td>61339</td>\n",
       "      <td>11910</td>\n",
       "    </tr>\n",
       "    <tr>\n",
       "      <th>SUDESTE</th>\n",
       "      <td>70445</td>\n",
       "      <td>7478</td>\n",
       "    </tr>\n",
       "    <tr>\n",
       "      <th>SUL</th>\n",
       "      <td>37970</td>\n",
       "      <td>3713</td>\n",
       "    </tr>\n",
       "    <tr>\n",
       "      <th>CENTRO-OESTE</th>\n",
       "      <td>23221</td>\n",
       "      <td>3608</td>\n",
       "    </tr>\n",
       "  </tbody>\n",
       "</table>\n",
       "</div>"
      ],
      "text/plain": [
       "V0606           Sim    Não\n",
       "regiao                    \n",
       "NORTE         32367   7360\n",
       "NORDESTE      61339  11910\n",
       "SUDESTE       70445   7478\n",
       "SUL           37970   3713\n",
       "CENTRO-OESTE  23221   3608"
      ]
     },
     "execution_count": 32,
     "metadata": {},
     "output_type": "execute_result"
    }
   ],
   "source": [
    "ct4 = pd.crosstab(d.regiao, info.ESCOLA_CRECHE)\n",
    "ct4"
   ]
  },
  {
   "cell_type": "markdown",
   "metadata": {},
   "source": [
    "## REGIÃO por NÍVEL DE ESCOLARIDADE"
   ]
  },
  {
   "cell_type": "code",
   "execution_count": 33,
   "metadata": {
    "collapsed": false
   },
   "outputs": [
    {
     "data": {
      "text/html": [
       "<div>\n",
       "<table border=\"1\" class=\"dataframe\">\n",
       "  <thead>\n",
       "    <tr style=\"text-align: right;\">\n",
       "      <th>V4802</th>\n",
       "      <th>maternal</th>\n",
       "      <th>alfabetização</th>\n",
       "      <th>alfabetização adultos</th>\n",
       "      <th>primeira_quarta</th>\n",
       "      <th>quinta_oitava</th>\n",
       "      <th>ensino_fundamental_1</th>\n",
       "      <th>ensino_fundamental_2_5</th>\n",
       "      <th>ensino_fundamental_6_9</th>\n",
       "      <th>ensino_fundamental_0</th>\n",
       "      <th>ensino_médio</th>\n",
       "      <th>Superior</th>\n",
       "    </tr>\n",
       "    <tr>\n",
       "      <th>regiao</th>\n",
       "      <th></th>\n",
       "      <th></th>\n",
       "      <th></th>\n",
       "      <th></th>\n",
       "      <th></th>\n",
       "      <th></th>\n",
       "      <th></th>\n",
       "      <th></th>\n",
       "      <th></th>\n",
       "      <th></th>\n",
       "      <th></th>\n",
       "    </tr>\n",
       "  </thead>\n",
       "  <tbody>\n",
       "    <tr>\n",
       "      <th>NORTE</th>\n",
       "      <td>1145</td>\n",
       "      <td>238</td>\n",
       "      <td>49</td>\n",
       "      <td>299</td>\n",
       "      <td>460</td>\n",
       "      <td>1146</td>\n",
       "      <td>5481</td>\n",
       "      <td>4396</td>\n",
       "      <td>133</td>\n",
       "      <td>3316</td>\n",
       "      <td>2090</td>\n",
       "    </tr>\n",
       "    <tr>\n",
       "      <th>NORDESTE</th>\n",
       "      <td>2182</td>\n",
       "      <td>371</td>\n",
       "      <td>227</td>\n",
       "      <td>367</td>\n",
       "      <td>454</td>\n",
       "      <td>1687</td>\n",
       "      <td>8056</td>\n",
       "      <td>7439</td>\n",
       "      <td>181</td>\n",
       "      <td>5057</td>\n",
       "      <td>3438</td>\n",
       "    </tr>\n",
       "    <tr>\n",
       "      <th>SUDESTE</th>\n",
       "      <td>1656</td>\n",
       "      <td>282</td>\n",
       "      <td>82</td>\n",
       "      <td>187</td>\n",
       "      <td>425</td>\n",
       "      <td>1529</td>\n",
       "      <td>6145</td>\n",
       "      <td>6134</td>\n",
       "      <td>56</td>\n",
       "      <td>4781</td>\n",
       "      <td>3807</td>\n",
       "    </tr>\n",
       "    <tr>\n",
       "      <th>SUL</th>\n",
       "      <td>694</td>\n",
       "      <td>68</td>\n",
       "      <td>51</td>\n",
       "      <td>167</td>\n",
       "      <td>723</td>\n",
       "      <td>737</td>\n",
       "      <td>3262</td>\n",
       "      <td>2615</td>\n",
       "      <td>67</td>\n",
       "      <td>2432</td>\n",
       "      <td>2400</td>\n",
       "    </tr>\n",
       "    <tr>\n",
       "      <th>CENTRO-OESTE</th>\n",
       "      <td>616</td>\n",
       "      <td>114</td>\n",
       "      <td>26</td>\n",
       "      <td>72</td>\n",
       "      <td>100</td>\n",
       "      <td>586</td>\n",
       "      <td>2453</td>\n",
       "      <td>2388</td>\n",
       "      <td>36</td>\n",
       "      <td>1817</td>\n",
       "      <td>1909</td>\n",
       "    </tr>\n",
       "  </tbody>\n",
       "</table>\n",
       "</div>"
      ],
      "text/plain": [
       "V4802         maternal  alfabetização  alfabetização adultos  primeira_quarta  \\\n",
       "regiao                                                                          \n",
       "NORTE             1145            238                     49              299   \n",
       "NORDESTE          2182            371                    227              367   \n",
       "SUDESTE           1656            282                     82              187   \n",
       "SUL                694             68                     51              167   \n",
       "CENTRO-OESTE       616            114                     26               72   \n",
       "\n",
       "V4802         quinta_oitava  ensino_fundamental_1  ensino_fundamental_2_5  \\\n",
       "regiao                                                                      \n",
       "NORTE                   460                  1146                    5481   \n",
       "NORDESTE                454                  1687                    8056   \n",
       "SUDESTE                 425                  1529                    6145   \n",
       "SUL                     723                   737                    3262   \n",
       "CENTRO-OESTE            100                   586                    2453   \n",
       "\n",
       "V4802         ensino_fundamental_6_9  ensino_fundamental_0  ensino_médio  \\\n",
       "regiao                                                                     \n",
       "NORTE                           4396                   133          3316   \n",
       "NORDESTE                        7439                   181          5057   \n",
       "SUDESTE                         6134                    56          4781   \n",
       "SUL                             2615                    67          2432   \n",
       "CENTRO-OESTE                    2388                    36          1817   \n",
       "\n",
       "V4802         Superior  \n",
       "regiao                  \n",
       "NORTE             2090  \n",
       "NORDESTE          3438  \n",
       "SUDESTE           3807  \n",
       "SUL               2400  \n",
       "CENTRO-OESTE      1909  "
      ]
     },
     "execution_count": 33,
     "metadata": {},
     "output_type": "execute_result"
    }
   ],
   "source": [
    "ct5 = pd.crosstab(d.regiao, info.ESCOLARIDADE)\n",
    "ct5"
   ]
  },
  {
   "cell_type": "code",
   "execution_count": 34,
   "metadata": {
    "collapsed": false
   },
   "outputs": [
    {
     "data": {
      "text/plain": [
       "<matplotlib.axes._subplots.AxesSubplot at 0x1edd5ed6438>"
      ]
     },
     "execution_count": 34,
     "metadata": {},
     "output_type": "execute_result"
    },
    {
     "data": {
      "image/png": "[encoded data removed]",
      "text/plain": [
       "<matplotlib.figure.Figure at 0x1edd5e81d30>"
      ]
     },
     "metadata": {},
     "output_type": "display_data"
    }
   ],
   "source": [
    "reg_es = pd.crosstab(d.regiao, info.ESCOLA_CRECHE)\n",
    "reg_es.plot.bar(color=(\"green\",\"red\"))"
   ]
  },
  {
   "cell_type": "code",
   "execution_count": 35,
   "metadata": {
    "collapsed": false
   },
   "outputs": [
    {
     "data": {
      "text/plain": [
       "<matplotlib.axes._subplots.AxesSubplot at 0x1edb739ee48>"
      ]
     },
     "execution_count": 35,
     "metadata": {},
     "output_type": "execute_result"
    },
    {
     "data": {
      "image/png": "[encoded data removed]",
      "text/plain": [
       "<matplotlib.figure.Figure at 0x1edd5e2a5f8>"
      ]
     },
     "metadata": {},
     "output_type": "display_data"
    }
   ],
   "source": [
    "reg_escolaridade = pd.crosstab(d.regiao, info.ESCOLARIDADE)\n",
    "reg_escolaridade.plot.bar(color=(\"green\",\"red\",\"blue\",\"yellow\",\"brown\",\"white\",\"salmon\",\"grey\",\"k\",\"pink\",\"purple\"),figsize=(10,10))"
   ]
  },
  {
   "cell_type": "markdown",
   "metadata": {
    "collapsed": true
   },
   "source": [
    "## REGIÃO por REDE"
   ]
  },
  {
   "cell_type": "code",
   "execution_count": 36,
   "metadata": {
    "collapsed": false
   },
   "outputs": [
    {
     "data": {
      "text/html": [
       "<div>\n",
       "<table border=\"1\" class=\"dataframe\">\n",
       "  <thead>\n",
       "    <tr style=\"text-align: right;\">\n",
       "      <th>V6002</th>\n",
       "      <th>Pública</th>\n",
       "      <th>Privada</th>\n",
       "    </tr>\n",
       "    <tr>\n",
       "      <th>regiao</th>\n",
       "      <th></th>\n",
       "      <th></th>\n",
       "    </tr>\n",
       "  </thead>\n",
       "  <tbody>\n",
       "    <tr>\n",
       "      <th>NORTE</th>\n",
       "      <td>16305</td>\n",
       "      <td>3155</td>\n",
       "    </tr>\n",
       "    <tr>\n",
       "      <th>NORDESTE</th>\n",
       "      <td>23395</td>\n",
       "      <td>7953</td>\n",
       "    </tr>\n",
       "    <tr>\n",
       "      <th>SUDESTE</th>\n",
       "      <td>19898</td>\n",
       "      <td>7307</td>\n",
       "    </tr>\n",
       "    <tr>\n",
       "      <th>SUL</th>\n",
       "      <td>10770</td>\n",
       "      <td>3663</td>\n",
       "    </tr>\n",
       "    <tr>\n",
       "      <th>CENTRO-OESTE</th>\n",
       "      <td>7587</td>\n",
       "      <td>3111</td>\n",
       "    </tr>\n",
       "  </tbody>\n",
       "</table>\n",
       "</div>"
      ],
      "text/plain": [
       "V6002         Pública  Privada\n",
       "regiao                        \n",
       "NORTE           16305     3155\n",
       "NORDESTE        23395     7953\n",
       "SUDESTE         19898     7307\n",
       "SUL             10770     3663\n",
       "CENTRO-OESTE     7587     3111"
      ]
     },
     "execution_count": 36,
     "metadata": {},
     "output_type": "execute_result"
    }
   ],
   "source": [
    "ct6 = pd.crosstab(d.regiao, info.REDE)\n",
    "ct6"
   ]
  },
  {
   "cell_type": "code",
   "execution_count": 37,
   "metadata": {
    "collapsed": false
   },
   "outputs": [
    {
     "data": {
      "text/plain": [
       "<matplotlib.axes._subplots.AxesSubplot at 0x1edd73e6ac8>"
      ]
     },
     "execution_count": 37,
     "metadata": {},
     "output_type": "execute_result"
    },
    {
     "data": {
      "image/png": "[encoded data removed]",
      "text/plain": [
       "<matplotlib.figure.Figure at 0x1edd5f25400>"
      ]
     },
     "metadata": {},
     "output_type": "display_data"
    }
   ],
   "source": [
    "reg_rede = pd.crosstab(d.regiao, info.REDE)\n",
    "reg_rede.plot.bar(color=(\"green\",\"blue\"))"
   ]
  },
  {
   "cell_type": "markdown",
   "metadata": {},
   "source": [
    "## REGIÃO por ESTADO CIVIL"
   ]
  },
  {
   "cell_type": "code",
   "execution_count": 38,
   "metadata": {
    "collapsed": false
   },
   "outputs": [
    {
     "data": {
      "text/html": [
       "<div>\n",
       "<table border=\"1\" class=\"dataframe\">\n",
       "  <thead>\n",
       "    <tr style=\"text-align: right;\">\n",
       "      <th>V4011</th>\n",
       "      <th>Solteiro</th>\n",
       "      <th>Casado</th>\n",
       "      <th>Desquitado</th>\n",
       "      <th>Divorciado</th>\n",
       "      <th>Viúvo</th>\n",
       "    </tr>\n",
       "    <tr>\n",
       "      <th>regiao</th>\n",
       "      <th></th>\n",
       "      <th></th>\n",
       "      <th></th>\n",
       "      <th></th>\n",
       "      <th></th>\n",
       "    </tr>\n",
       "  </thead>\n",
       "  <tbody>\n",
       "    <tr>\n",
       "      <th>NORTE</th>\n",
       "      <td>31703</td>\n",
       "      <td>2608</td>\n",
       "      <td>348</td>\n",
       "      <td>1326</td>\n",
       "      <td>1792</td>\n",
       "    </tr>\n",
       "    <tr>\n",
       "      <th>NORDESTE</th>\n",
       "      <td>54540</td>\n",
       "      <td>3553</td>\n",
       "      <td>996</td>\n",
       "      <td>2583</td>\n",
       "      <td>4481</td>\n",
       "    </tr>\n",
       "    <tr>\n",
       "      <th>SUDESTE</th>\n",
       "      <td>45057</td>\n",
       "      <td>2775</td>\n",
       "      <td>1625</td>\n",
       "      <td>4376</td>\n",
       "      <td>5645</td>\n",
       "    </tr>\n",
       "    <tr>\n",
       "      <th>SUL</th>\n",
       "      <td>24367</td>\n",
       "      <td>1292</td>\n",
       "      <td>1030</td>\n",
       "      <td>2293</td>\n",
       "      <td>3107</td>\n",
       "    </tr>\n",
       "    <tr>\n",
       "      <th>CENTRO-OESTE</th>\n",
       "      <td>17310</td>\n",
       "      <td>1181</td>\n",
       "      <td>520</td>\n",
       "      <td>1537</td>\n",
       "      <td>1542</td>\n",
       "    </tr>\n",
       "  </tbody>\n",
       "</table>\n",
       "</div>"
      ],
      "text/plain": [
       "V4011         Solteiro  Casado  Desquitado  Divorciado  Viúvo\n",
       "regiao                                                       \n",
       "NORTE            31703    2608         348        1326   1792\n",
       "NORDESTE         54540    3553         996        2583   4481\n",
       "SUDESTE          45057    2775        1625        4376   5645\n",
       "SUL              24367    1292        1030        2293   3107\n",
       "CENTRO-OESTE     17310    1181         520        1537   1542"
      ]
     },
     "execution_count": 38,
     "metadata": {},
     "output_type": "execute_result"
    }
   ],
   "source": [
    "ct7 = pd.crosstab(d.regiao, info.EC)\n",
    "ct7"
   ]
  },
  {
   "cell_type": "code",
   "execution_count": 39,
   "metadata": {
    "collapsed": false
   },
   "outputs": [
    {
     "data": {
      "text/plain": [
       "<matplotlib.axes._subplots.AxesSubplot at 0x1edd5e68b38>"
      ]
     },
     "execution_count": 39,
     "metadata": {},
     "output_type": "execute_result"
    },
    {
     "data": {
      "image/png": "[encoded data removed]",
      "text/plain": [
       "<matplotlib.figure.Figure at 0x1edd74578d0>"
      ]
     },
     "metadata": {},
     "output_type": "display_data"
    }
   ],
   "source": [
    "reg_EC = pd.crosstab(d.regiao, info.EC)\n",
    "reg_EC.plot.bar(color=(\"green\",\"blue\",\"red\",\"yellow\",\"salmon\"))"
   ]
  },
  {
   "cell_type": "markdown",
   "metadata": {},
   "source": [
    "# ---------------------------------------------------------------------------------------------------------------"
   ]
  },
  {
   "cell_type": "markdown",
   "metadata": {},
   "source": [
    "# CONCLUSÃO"
   ]
  },
  {
   "cell_type": "markdown",
   "metadata": {},
   "source": [
    "    Após a análise dos dados disponibilizados na planilha do excel, pode-se concluir de que seria mais vantajoso e lucrativo para o senhor Gold um investimento na rede privada na região sudeste. Com suporte dos resultados calculados a partir de correlação e análise individual de certos tipos de dados, como rede de ensino, nível de escolaridade, região, sexo, cor ou raça, frequentação a escolas ou creches e estado civil, fica evidente que a região do Sudeste apresenta o cenário mais lucrativo para um investimento no ensino superior privado, pois essa região apresenta uma grande porcentagem de alunos no ensino médio e superior. Além disso, o Sudeste apresenta o maior número de indivíduos que frequentou anteriormente escolas ou creches e a maior população envolvida com educação, representando uma mentalidade que valoriza o ensino, consequentemente, buscando concluir o ensino superior. Em suma, a melhor região para se investir em uma faculdade seria a região sudeste e no setor privado."
   ]
  },
  {
   "cell_type": "markdown",
   "metadata": {},
   "source": [
    "# ---------------------------------------------------------------------------------------------------------------"
   ]
  },
  {
   "cell_type": "markdown",
   "metadata": {},
   "source": [
    "# Análise Quantitativa"
   ]
  },
  {
   "cell_type": "markdown",
   "metadata": {},
   "source": [
    "## Variáveis\n",
    "\n",
    "### 1) Idade do Morador na data da pesquisa"
   ]
  },
  {
   "cell_type": "markdown",
   "metadata": {},
   "source": [
    "### Descrição da variável"
   ]
  },
  {
   "cell_type": "code",
   "execution_count": 70,
   "metadata": {
    "collapsed": false,
    "scrolled": true
   },
   "outputs": [
    {
     "data": {
      "text/plain": [
       "count    362555.000000\n",
       "mean         33.049813\n",
       "std          20.870874\n",
       "min           0.000000\n",
       "25%          16.000000\n",
       "50%          31.000000\n",
       "75%          48.000000\n",
       "max         109.000000\n",
       "Name: V8005, dtype: float64"
      ]
     },
     "execution_count": 70,
     "metadata": {},
     "output_type": "execute_result"
    }
   ],
   "source": [
    "info.V8005.describe()"
   ]
  },
  {
   "cell_type": "markdown",
   "metadata": {},
   "source": [
    "### Criação da faixa da variável"
   ]
  },
  {
   "cell_type": "code",
   "execution_count": 69,
   "metadata": {
    "collapsed": false
   },
   "outputs": [
    {
     "data": {
      "text/plain": [
       "(12, 15]      19663\n",
       "(15, 18]      19650\n",
       "(30, 33]      18168\n",
       "(18, 21]      17806\n",
       "(27, 30]      17712\n",
       "(9, 12]       17220\n",
       "(6, 9]        17212\n",
       "(21, 24]      17129\n",
       "(24, 27]      17117\n",
       "(33, 36]      16908\n",
       "(36, 39]      15946\n",
       "(3, 6]        15569\n",
       "(39, 42]      15442\n",
       "(42, 45]      14622\n",
       "(0, 3]        14616\n",
       "(45, 48]      13883\n",
       "(48, 51]      13747\n",
       "(51, 54]      12249\n",
       "(54, 57]      11125\n",
       "(57, 60]      10279\n",
       "(60, 63]       8658\n",
       "(63, 66]       7299\n",
       "(66, 69]       6080\n",
       "(69, 72]       4961\n",
       "(72, 75]       4458\n",
       "(75, 78]       3408\n",
       "(78, 81]       2467\n",
       "(81, 84]       1859\n",
       "(84, 87]       1240\n",
       "(87, 90]        690\n",
       "(90, 93]        407\n",
       "(93, 96]        184\n",
       "(96, 99]         88\n",
       "(99, 102]        34\n",
       "(102, 105]       17\n",
       "(105, 108]        2\n",
       "(108, 111]        1\n",
       "dtype: int64"
      ]
     },
     "execution_count": 69,
     "metadata": {},
     "output_type": "execute_result"
    }
   ],
   "source": [
    "# Idade \n",
    "\n",
    "faixa1 = np.arange(0,114,3)\n",
    "var = pd.cut(info.V8005,faixa1)\n",
    "var.value_counts()"
   ]
  },
  {
   "cell_type": "markdown",
   "metadata": {},
   "source": [
    "### Histograma do Brasil"
   ]
  },
  {
   "cell_type": "code",
   "execution_count": 71,
   "metadata": {
    "collapsed": false
   },
   "outputs": [
    {
     "data": {
      "text/plain": [
       "<matplotlib.text.Text at 0x1edd0da2160>"
      ]
     },
     "execution_count": 71,
     "metadata": {},
     "output_type": "execute_result"
    },
    {
     "data": {
      "image/png": "[encoded data removed]",
      "text/plain": [
       "<matplotlib.figure.Figure at 0x1edd1f074a8>"
      ]
     },
     "metadata": {},
     "output_type": "display_data"
    }
   ],
   "source": [
    "plot = info.V8005.plot.hist(bins=faixa1)\n",
    "plt.xlabel(\"Idade\")"
   ]
  },
  {
   "cell_type": "markdown",
   "metadata": {},
   "source": [
    "### Idade da população para cada região"
   ]
  },
  {
   "cell_type": "code",
   "execution_count": 170,
   "metadata": {
    "collapsed": false,
    "scrolled": true
   },
   "outputs": [
    {
     "data": {
      "text/html": [
       "<div>\n",
       "<table border=\"1\" class=\"dataframe\">\n",
       "  <thead>\n",
       "    <tr style=\"text-align: right;\">\n",
       "      <th>V8005</th>\n",
       "      <th>0</th>\n",
       "      <th>1</th>\n",
       "      <th>2</th>\n",
       "      <th>3</th>\n",
       "      <th>4</th>\n",
       "      <th>5</th>\n",
       "      <th>6</th>\n",
       "      <th>7</th>\n",
       "      <th>8</th>\n",
       "      <th>9</th>\n",
       "      <th>10</th>\n",
       "      <th>11</th>\n",
       "      <th>12</th>\n",
       "      <th>13</th>\n",
       "      <th>14</th>\n",
       "      <th>15</th>\n",
       "      <th>16</th>\n",
       "      <th>17</th>\n",
       "      <th>18</th>\n",
       "      <th>19</th>\n",
       "    </tr>\n",
       "    <tr>\n",
       "      <th>regiao</th>\n",
       "      <th></th>\n",
       "      <th></th>\n",
       "      <th></th>\n",
       "      <th></th>\n",
       "      <th></th>\n",
       "      <th></th>\n",
       "      <th></th>\n",
       "      <th></th>\n",
       "      <th></th>\n",
       "      <th></th>\n",
       "      <th></th>\n",
       "      <th></th>\n",
       "      <th></th>\n",
       "      <th></th>\n",
       "      <th></th>\n",
       "      <th></th>\n",
       "      <th></th>\n",
       "      <th></th>\n",
       "      <th></th>\n",
       "      <th></th>\n",
       "    </tr>\n",
       "  </thead>\n",
       "  <tbody>\n",
       "    <tr>\n",
       "      <th>NORTE</th>\n",
       "      <td>915</td>\n",
       "      <td>918</td>\n",
       "      <td>985</td>\n",
       "      <td>1039</td>\n",
       "      <td>1042</td>\n",
       "      <td>1029</td>\n",
       "      <td>1109</td>\n",
       "      <td>1101</td>\n",
       "      <td>1184</td>\n",
       "      <td>1281</td>\n",
       "      <td>1101</td>\n",
       "      <td>1169</td>\n",
       "      <td>1166</td>\n",
       "      <td>1269</td>\n",
       "      <td>1273</td>\n",
       "      <td>1255</td>\n",
       "      <td>1215</td>\n",
       "      <td>1211</td>\n",
       "      <td>1208</td>\n",
       "      <td>1153</td>\n",
       "    </tr>\n",
       "    <tr>\n",
       "      <th>NORDESTE</th>\n",
       "      <td>1349</td>\n",
       "      <td>1372</td>\n",
       "      <td>1451</td>\n",
       "      <td>1547</td>\n",
       "      <td>1538</td>\n",
       "      <td>1543</td>\n",
       "      <td>1618</td>\n",
       "      <td>1688</td>\n",
       "      <td>1765</td>\n",
       "      <td>1796</td>\n",
       "      <td>1744</td>\n",
       "      <td>1777</td>\n",
       "      <td>1835</td>\n",
       "      <td>2053</td>\n",
       "      <td>1962</td>\n",
       "      <td>1924</td>\n",
       "      <td>2113</td>\n",
       "      <td>1871</td>\n",
       "      <td>2015</td>\n",
       "      <td>1746</td>\n",
       "    </tr>\n",
       "    <tr>\n",
       "      <th>SUDESTE</th>\n",
       "      <td>1224</td>\n",
       "      <td>1250</td>\n",
       "      <td>1234</td>\n",
       "      <td>1260</td>\n",
       "      <td>1344</td>\n",
       "      <td>1291</td>\n",
       "      <td>1403</td>\n",
       "      <td>1385</td>\n",
       "      <td>1482</td>\n",
       "      <td>1538</td>\n",
       "      <td>1340</td>\n",
       "      <td>1442</td>\n",
       "      <td>1573</td>\n",
       "      <td>1759</td>\n",
       "      <td>1708</td>\n",
       "      <td>1755</td>\n",
       "      <td>1720</td>\n",
       "      <td>1730</td>\n",
       "      <td>1747</td>\n",
       "      <td>1624</td>\n",
       "    </tr>\n",
       "    <tr>\n",
       "      <th>SUL</th>\n",
       "      <td>650</td>\n",
       "      <td>649</td>\n",
       "      <td>651</td>\n",
       "      <td>734</td>\n",
       "      <td>680</td>\n",
       "      <td>691</td>\n",
       "      <td>684</td>\n",
       "      <td>739</td>\n",
       "      <td>750</td>\n",
       "      <td>821</td>\n",
       "      <td>732</td>\n",
       "      <td>728</td>\n",
       "      <td>833</td>\n",
       "      <td>968</td>\n",
       "      <td>916</td>\n",
       "      <td>917</td>\n",
       "      <td>921</td>\n",
       "      <td>902</td>\n",
       "      <td>1009</td>\n",
       "      <td>812</td>\n",
       "    </tr>\n",
       "    <tr>\n",
       "      <th>CENTRO-OESTE</th>\n",
       "      <td>501</td>\n",
       "      <td>517</td>\n",
       "      <td>470</td>\n",
       "      <td>539</td>\n",
       "      <td>506</td>\n",
       "      <td>511</td>\n",
       "      <td>580</td>\n",
       "      <td>546</td>\n",
       "      <td>583</td>\n",
       "      <td>553</td>\n",
       "      <td>548</td>\n",
       "      <td>613</td>\n",
       "      <td>619</td>\n",
       "      <td>644</td>\n",
       "      <td>640</td>\n",
       "      <td>620</td>\n",
       "      <td>667</td>\n",
       "      <td>670</td>\n",
       "      <td>651</td>\n",
       "      <td>647</td>\n",
       "    </tr>\n",
       "  </tbody>\n",
       "</table>\n",
       "</div>"
      ],
      "text/plain": [
       "V8005           0     1     2     3     4     5     6     7     8     9   \\\n",
       "regiao                                                                     \n",
       "NORTE          915   918   985  1039  1042  1029  1109  1101  1184  1281   \n",
       "NORDESTE      1349  1372  1451  1547  1538  1543  1618  1688  1765  1796   \n",
       "SUDESTE       1224  1250  1234  1260  1344  1291  1403  1385  1482  1538   \n",
       "SUL            650   649   651   734   680   691   684   739   750   821   \n",
       "CENTRO-OESTE   501   517   470   539   506   511   580   546   583   553   \n",
       "\n",
       "V8005           10    11    12    13    14    15    16    17    18    19  \n",
       "regiao                                                                    \n",
       "NORTE         1101  1169  1166  1269  1273  1255  1215  1211  1208  1153  \n",
       "NORDESTE      1744  1777  1835  2053  1962  1924  2113  1871  2015  1746  \n",
       "SUDESTE       1340  1442  1573  1759  1708  1755  1720  1730  1747  1624  \n",
       "SUL            732   728   833   968   916   917   921   902  1009   812  \n",
       "CENTRO-OESTE   548   613   619   644   640   620   667   670   651   647  "
      ]
     },
     "execution_count": 170,
     "metadata": {},
     "output_type": "execute_result"
    }
   ],
   "source": [
    "ctir = pd.crosstab(d.regiao, info.V8005)\n",
    "ctir.iloc[:,0:20]"
   ]
  },
  {
   "cell_type": "code",
   "execution_count": 172,
   "metadata": {
    "collapsed": false
   },
   "outputs": [
    {
     "data": {
      "text/html": [
       "<div>\n",
       "<table border=\"1\" class=\"dataframe\">\n",
       "  <thead>\n",
       "    <tr style=\"text-align: right;\">\n",
       "      <th>V8005</th>\n",
       "      <th>20</th>\n",
       "      <th>21</th>\n",
       "      <th>22</th>\n",
       "      <th>23</th>\n",
       "      <th>24</th>\n",
       "      <th>25</th>\n",
       "      <th>26</th>\n",
       "      <th>27</th>\n",
       "      <th>28</th>\n",
       "      <th>29</th>\n",
       "      <th>30</th>\n",
       "      <th>31</th>\n",
       "      <th>32</th>\n",
       "      <th>33</th>\n",
       "      <th>34</th>\n",
       "      <th>35</th>\n",
       "      <th>36</th>\n",
       "      <th>37</th>\n",
       "      <th>38</th>\n",
       "      <th>39</th>\n",
       "    </tr>\n",
       "    <tr>\n",
       "      <th>regiao</th>\n",
       "      <th></th>\n",
       "      <th></th>\n",
       "      <th></th>\n",
       "      <th></th>\n",
       "      <th></th>\n",
       "      <th></th>\n",
       "      <th></th>\n",
       "      <th></th>\n",
       "      <th></th>\n",
       "      <th></th>\n",
       "      <th></th>\n",
       "      <th></th>\n",
       "      <th></th>\n",
       "      <th></th>\n",
       "      <th></th>\n",
       "      <th></th>\n",
       "      <th></th>\n",
       "      <th></th>\n",
       "      <th></th>\n",
       "      <th></th>\n",
       "    </tr>\n",
       "  </thead>\n",
       "  <tbody>\n",
       "    <tr>\n",
       "      <th>NORTE</th>\n",
       "      <td>1072</td>\n",
       "      <td>1068</td>\n",
       "      <td>1010</td>\n",
       "      <td>1008</td>\n",
       "      <td>955</td>\n",
       "      <td>1020</td>\n",
       "      <td>924</td>\n",
       "      <td>922</td>\n",
       "      <td>980</td>\n",
       "      <td>955</td>\n",
       "      <td>1052</td>\n",
       "      <td>985</td>\n",
       "      <td>959</td>\n",
       "      <td>1012</td>\n",
       "      <td>846</td>\n",
       "      <td>984</td>\n",
       "      <td>860</td>\n",
       "      <td>846</td>\n",
       "      <td>857</td>\n",
       "      <td>821</td>\n",
       "    </tr>\n",
       "    <tr>\n",
       "      <th>NORDESTE</th>\n",
       "      <td>1792</td>\n",
       "      <td>1745</td>\n",
       "      <td>1719</td>\n",
       "      <td>1586</td>\n",
       "      <td>1712</td>\n",
       "      <td>1711</td>\n",
       "      <td>1696</td>\n",
       "      <td>1692</td>\n",
       "      <td>1720</td>\n",
       "      <td>1497</td>\n",
       "      <td>1880</td>\n",
       "      <td>1709</td>\n",
       "      <td>1760</td>\n",
       "      <td>1725</td>\n",
       "      <td>1615</td>\n",
       "      <td>1701</td>\n",
       "      <td>1499</td>\n",
       "      <td>1541</td>\n",
       "      <td>1514</td>\n",
       "      <td>1428</td>\n",
       "    </tr>\n",
       "    <tr>\n",
       "      <th>SUDESTE</th>\n",
       "      <td>1631</td>\n",
       "      <td>1547</td>\n",
       "      <td>1520</td>\n",
       "      <td>1601</td>\n",
       "      <td>1682</td>\n",
       "      <td>1643</td>\n",
       "      <td>1614</td>\n",
       "      <td>1609</td>\n",
       "      <td>1702</td>\n",
       "      <td>1564</td>\n",
       "      <td>1858</td>\n",
       "      <td>1700</td>\n",
       "      <td>1769</td>\n",
       "      <td>1796</td>\n",
       "      <td>1679</td>\n",
       "      <td>1767</td>\n",
       "      <td>1593</td>\n",
       "      <td>1559</td>\n",
       "      <td>1634</td>\n",
       "      <td>1516</td>\n",
       "    </tr>\n",
       "    <tr>\n",
       "      <th>SUL</th>\n",
       "      <td>838</td>\n",
       "      <td>849</td>\n",
       "      <td>838</td>\n",
       "      <td>832</td>\n",
       "      <td>862</td>\n",
       "      <td>810</td>\n",
       "      <td>796</td>\n",
       "      <td>832</td>\n",
       "      <td>811</td>\n",
       "      <td>810</td>\n",
       "      <td>929</td>\n",
       "      <td>856</td>\n",
       "      <td>878</td>\n",
       "      <td>957</td>\n",
       "      <td>851</td>\n",
       "      <td>858</td>\n",
       "      <td>754</td>\n",
       "      <td>796</td>\n",
       "      <td>842</td>\n",
       "      <td>825</td>\n",
       "    </tr>\n",
       "    <tr>\n",
       "      <th>CENTRO-OESTE</th>\n",
       "      <td>650</td>\n",
       "      <td>632</td>\n",
       "      <td>603</td>\n",
       "      <td>617</td>\n",
       "      <td>584</td>\n",
       "      <td>641</td>\n",
       "      <td>589</td>\n",
       "      <td>618</td>\n",
       "      <td>662</td>\n",
       "      <td>606</td>\n",
       "      <td>686</td>\n",
       "      <td>671</td>\n",
       "      <td>731</td>\n",
       "      <td>660</td>\n",
       "      <td>611</td>\n",
       "      <td>664</td>\n",
       "      <td>626</td>\n",
       "      <td>601</td>\n",
       "      <td>583</td>\n",
       "      <td>583</td>\n",
       "    </tr>\n",
       "  </tbody>\n",
       "</table>\n",
       "</div>"
      ],
      "text/plain": [
       "V8005           20    21    22    23    24    25    26    27    28    29  \\\n",
       "regiao                                                                     \n",
       "NORTE         1072  1068  1010  1008   955  1020   924   922   980   955   \n",
       "NORDESTE      1792  1745  1719  1586  1712  1711  1696  1692  1720  1497   \n",
       "SUDESTE       1631  1547  1520  1601  1682  1643  1614  1609  1702  1564   \n",
       "SUL            838   849   838   832   862   810   796   832   811   810   \n",
       "CENTRO-OESTE   650   632   603   617   584   641   589   618   662   606   \n",
       "\n",
       "V8005           30    31    32    33    34    35    36    37    38    39  \n",
       "regiao                                                                    \n",
       "NORTE         1052   985   959  1012   846   984   860   846   857   821  \n",
       "NORDESTE      1880  1709  1760  1725  1615  1701  1499  1541  1514  1428  \n",
       "SUDESTE       1858  1700  1769  1796  1679  1767  1593  1559  1634  1516  \n",
       "SUL            929   856   878   957   851   858   754   796   842   825  \n",
       "CENTRO-OESTE   686   671   731   660   611   664   626   601   583   583  "
      ]
     },
     "execution_count": 172,
     "metadata": {},
     "output_type": "execute_result"
    }
   ],
   "source": [
    "ctir.iloc[:,20:40]"
   ]
  },
  {
   "cell_type": "code",
   "execution_count": 173,
   "metadata": {
    "collapsed": false
   },
   "outputs": [
    {
     "data": {
      "text/html": [
       "<div>\n",
       "<table border=\"1\" class=\"dataframe\">\n",
       "  <thead>\n",
       "    <tr style=\"text-align: right;\">\n",
       "      <th>V8005</th>\n",
       "      <th>40</th>\n",
       "      <th>41</th>\n",
       "      <th>42</th>\n",
       "      <th>43</th>\n",
       "      <th>44</th>\n",
       "      <th>45</th>\n",
       "      <th>46</th>\n",
       "      <th>47</th>\n",
       "      <th>48</th>\n",
       "      <th>49</th>\n",
       "      <th>50</th>\n",
       "      <th>51</th>\n",
       "      <th>52</th>\n",
       "      <th>53</th>\n",
       "      <th>54</th>\n",
       "      <th>55</th>\n",
       "      <th>56</th>\n",
       "      <th>57</th>\n",
       "      <th>58</th>\n",
       "      <th>59</th>\n",
       "    </tr>\n",
       "    <tr>\n",
       "      <th>regiao</th>\n",
       "      <th></th>\n",
       "      <th></th>\n",
       "      <th></th>\n",
       "      <th></th>\n",
       "      <th></th>\n",
       "      <th></th>\n",
       "      <th></th>\n",
       "      <th></th>\n",
       "      <th></th>\n",
       "      <th></th>\n",
       "      <th></th>\n",
       "      <th></th>\n",
       "      <th></th>\n",
       "      <th></th>\n",
       "      <th></th>\n",
       "      <th></th>\n",
       "      <th></th>\n",
       "      <th></th>\n",
       "      <th></th>\n",
       "      <th></th>\n",
       "    </tr>\n",
       "  </thead>\n",
       "  <tbody>\n",
       "    <tr>\n",
       "      <th>NORTE</th>\n",
       "      <td>894</td>\n",
       "      <td>780</td>\n",
       "      <td>714</td>\n",
       "      <td>779</td>\n",
       "      <td>671</td>\n",
       "      <td>722</td>\n",
       "      <td>560</td>\n",
       "      <td>654</td>\n",
       "      <td>648</td>\n",
       "      <td>625</td>\n",
       "      <td>636</td>\n",
       "      <td>552</td>\n",
       "      <td>544</td>\n",
       "      <td>550</td>\n",
       "      <td>516</td>\n",
       "      <td>521</td>\n",
       "      <td>481</td>\n",
       "      <td>480</td>\n",
       "      <td>431</td>\n",
       "      <td>428</td>\n",
       "    </tr>\n",
       "    <tr>\n",
       "      <th>NORDESTE</th>\n",
       "      <td>1552</td>\n",
       "      <td>1374</td>\n",
       "      <td>1412</td>\n",
       "      <td>1447</td>\n",
       "      <td>1336</td>\n",
       "      <td>1345</td>\n",
       "      <td>1225</td>\n",
       "      <td>1298</td>\n",
       "      <td>1254</td>\n",
       "      <td>1234</td>\n",
       "      <td>1264</td>\n",
       "      <td>1116</td>\n",
       "      <td>1060</td>\n",
       "      <td>1107</td>\n",
       "      <td>1021</td>\n",
       "      <td>1047</td>\n",
       "      <td>959</td>\n",
       "      <td>954</td>\n",
       "      <td>959</td>\n",
       "      <td>875</td>\n",
       "    </tr>\n",
       "    <tr>\n",
       "      <th>SUDESTE</th>\n",
       "      <td>1615</td>\n",
       "      <td>1461</td>\n",
       "      <td>1442</td>\n",
       "      <td>1474</td>\n",
       "      <td>1393</td>\n",
       "      <td>1508</td>\n",
       "      <td>1421</td>\n",
       "      <td>1441</td>\n",
       "      <td>1466</td>\n",
       "      <td>1506</td>\n",
       "      <td>1534</td>\n",
       "      <td>1319</td>\n",
       "      <td>1270</td>\n",
       "      <td>1439</td>\n",
       "      <td>1264</td>\n",
       "      <td>1264</td>\n",
       "      <td>1204</td>\n",
       "      <td>1137</td>\n",
       "      <td>1182</td>\n",
       "      <td>1137</td>\n",
       "    </tr>\n",
       "    <tr>\n",
       "      <th>SUL</th>\n",
       "      <td>844</td>\n",
       "      <td>803</td>\n",
       "      <td>864</td>\n",
       "      <td>791</td>\n",
       "      <td>804</td>\n",
       "      <td>812</td>\n",
       "      <td>818</td>\n",
       "      <td>788</td>\n",
       "      <td>819</td>\n",
       "      <td>845</td>\n",
       "      <td>865</td>\n",
       "      <td>787</td>\n",
       "      <td>768</td>\n",
       "      <td>786</td>\n",
       "      <td>689</td>\n",
       "      <td>670</td>\n",
       "      <td>676</td>\n",
       "      <td>640</td>\n",
       "      <td>602</td>\n",
       "      <td>653</td>\n",
       "    </tr>\n",
       "    <tr>\n",
       "      <th>CENTRO-OESTE</th>\n",
       "      <td>592</td>\n",
       "      <td>547</td>\n",
       "      <td>548</td>\n",
       "      <td>536</td>\n",
       "      <td>513</td>\n",
       "      <td>491</td>\n",
       "      <td>488</td>\n",
       "      <td>510</td>\n",
       "      <td>493</td>\n",
       "      <td>537</td>\n",
       "      <td>485</td>\n",
       "      <td>442</td>\n",
       "      <td>426</td>\n",
       "      <td>426</td>\n",
       "      <td>383</td>\n",
       "      <td>416</td>\n",
       "      <td>344</td>\n",
       "      <td>332</td>\n",
       "      <td>344</td>\n",
       "      <td>325</td>\n",
       "    </tr>\n",
       "  </tbody>\n",
       "</table>\n",
       "</div>"
      ],
      "text/plain": [
       "V8005           40    41    42    43    44    45    46    47    48    49  \\\n",
       "regiao                                                                     \n",
       "NORTE          894   780   714   779   671   722   560   654   648   625   \n",
       "NORDESTE      1552  1374  1412  1447  1336  1345  1225  1298  1254  1234   \n",
       "SUDESTE       1615  1461  1442  1474  1393  1508  1421  1441  1466  1506   \n",
       "SUL            844   803   864   791   804   812   818   788   819   845   \n",
       "CENTRO-OESTE   592   547   548   536   513   491   488   510   493   537   \n",
       "\n",
       "V8005           50    51    52    53    54    55    56    57    58    59  \n",
       "regiao                                                                    \n",
       "NORTE          636   552   544   550   516   521   481   480   431   428  \n",
       "NORDESTE      1264  1116  1060  1107  1021  1047   959   954   959   875  \n",
       "SUDESTE       1534  1319  1270  1439  1264  1264  1204  1137  1182  1137  \n",
       "SUL            865   787   768   786   689   670   676   640   602   653  \n",
       "CENTRO-OESTE   485   442   426   426   383   416   344   332   344   325  "
      ]
     },
     "execution_count": 173,
     "metadata": {},
     "output_type": "execute_result"
    }
   ],
   "source": [
    "ctir.iloc[:,40:60]"
   ]
  },
  {
   "cell_type": "markdown",
   "metadata": {},
   "source": [
    "### Histograma por região"
   ]
  },
  {
   "cell_type": "markdown",
   "metadata": {},
   "source": [
    "## Norte"
   ]
  },
  {
   "cell_type": "code",
   "execution_count": 72,
   "metadata": {
    "collapsed": false
   },
   "outputs": [
    {
     "data": {
      "text/plain": [
       "<matplotlib.text.Text at 0x1edb774f208>"
      ]
     },
     "execution_count": 72,
     "metadata": {},
     "output_type": "execute_result"
    },
    {
     "data": {
      "image/png": "[encoded data removed]",
      "text/plain": [
       "<matplotlib.figure.Figure at 0x1edd5e87fd0>"
      ]
     },
     "metadata": {},
     "output_type": "display_data"
    }
   ],
   "source": [
    "plot = info[d.regiao==\"NORTE\"].V8005.plot.hist(bins=faixa1)\n",
    "plt.xlabel(\"Idade\")"
   ]
  },
  {
   "cell_type": "markdown",
   "metadata": {},
   "source": [
    "## Nordeste"
   ]
  },
  {
   "cell_type": "code",
   "execution_count": 73,
   "metadata": {
    "collapsed": false
   },
   "outputs": [
    {
     "data": {
      "text/plain": [
       "<matplotlib.text.Text at 0x1edc4ba0d68>"
      ]
     },
     "execution_count": 73,
     "metadata": {},
     "output_type": "execute_result"
    },
    {
     "data": {
      "image/png": "[encoded data removed]",
      "text/plain": [
       "<matplotlib.figure.Figure at 0x1edb86f5828>"
      ]
     },
     "metadata": {},
     "output_type": "display_data"
    }
   ],
   "source": [
    "plot = info[d.regiao==\"NORDESTE\"].V8005.plot.hist(bins=faixa1)\n",
    "plt.xlabel(\"Idade\")"
   ]
  },
  {
   "cell_type": "markdown",
   "metadata": {},
   "source": [
    "## Centro-oeste"
   ]
  },
  {
   "cell_type": "code",
   "execution_count": 74,
   "metadata": {
    "collapsed": false
   },
   "outputs": [
    {
     "data": {
      "text/plain": [
       "<matplotlib.text.Text at 0x1edb044d908>"
      ]
     },
     "execution_count": 74,
     "metadata": {},
     "output_type": "execute_result"
    },
    {
     "data": {
      "image/png": "[encoded data removed]",
      "text/plain": [
       "<matplotlib.figure.Figure at 0x1edb9fe77f0>"
      ]
     },
     "metadata": {},
     "output_type": "display_data"
    }
   ],
   "source": [
    "plot = info[d.regiao==\"CENTRO-OESTE\"].V8005.plot.hist(bins=faixa1)\n",
    "plt.xlabel(\"Idade\")"
   ]
  },
  {
   "cell_type": "markdown",
   "metadata": {},
   "source": [
    "## Sudeste"
   ]
  },
  {
   "cell_type": "code",
   "execution_count": 75,
   "metadata": {
    "collapsed": false
   },
   "outputs": [
    {
     "data": {
      "text/plain": [
       "<matplotlib.text.Text at 0x1edb12bba90>"
      ]
     },
     "execution_count": 75,
     "metadata": {},
     "output_type": "execute_result"
    },
    {
     "data": {
      "image/png": "[encoded data removed]",
      "text/plain": [
       "<matplotlib.figure.Figure at 0x1edba0b7748>"
      ]
     },
     "metadata": {},
     "output_type": "display_data"
    }
   ],
   "source": [
    "plot = info[d.regiao==\"SUDESTE\"].V8005.plot.hist(bins=faixa1)\n",
    "plt.xlabel(\"Idade\")"
   ]
  },
  {
   "cell_type": "markdown",
   "metadata": {},
   "source": [
    "## Sul"
   ]
  },
  {
   "cell_type": "code",
   "execution_count": 76,
   "metadata": {
    "collapsed": false
   },
   "outputs": [
    {
     "data": {
      "text/plain": [
       "<matplotlib.text.Text at 0x1edb7664080>"
      ]
     },
     "execution_count": 76,
     "metadata": {},
     "output_type": "execute_result"
    },
    {
     "data": {
      "image/png": "[encoded data removed]",
      "text/plain": [
       "<matplotlib.figure.Figure at 0x1edce08fa20>"
      ]
     },
     "metadata": {},
     "output_type": "display_data"
    }
   ],
   "source": [
    "plot = info[d.regiao==\"SUL\"].V8005.plot.hist(bins=faixa1)\n",
    "plt.xlabel(\"Idade\")"
   ]
  },
  {
   "cell_type": "markdown",
   "metadata": {},
   "source": [
    "### Boxplots"
   ]
  },
  {
   "cell_type": "markdown",
   "metadata": {},
   "source": [
    "## Brasil"
   ]
  },
  {
   "cell_type": "code",
   "execution_count": 175,
   "metadata": {
    "collapsed": false
   },
   "outputs": [
    {
     "data": {
      "image/png": "[encoded data removed]",
      "text/plain": [
       "<matplotlib.figure.Figure at 0x1ed860f5390>"
      ]
     },
     "metadata": {},
     "output_type": "display_data"
    }
   ],
   "source": [
    "plot00 = info.V8005.plot.box()"
   ]
  },
  {
   "cell_type": "markdown",
   "metadata": {},
   "source": [
    "## Norte"
   ]
  },
  {
   "cell_type": "code",
   "execution_count": 176,
   "metadata": {
    "collapsed": false
   },
   "outputs": [
    {
     "data": {
      "image/png": "[encoded data removed]",
      "text/plain": [
       "<matplotlib.figure.Figure at 0x1ed85f18e80>"
      ]
     },
     "metadata": {},
     "output_type": "display_data"
    }
   ],
   "source": [
    "plot01 = info[d.regiao==\"NORTE\"].V8005.plot.box()"
   ]
  },
  {
   "cell_type": "markdown",
   "metadata": {},
   "source": [
    "## Nordeste"
   ]
  },
  {
   "cell_type": "code",
   "execution_count": 177,
   "metadata": {
    "collapsed": false
   },
   "outputs": [
    {
     "data": {
      "image/png": "[encoded data removed]",
      "text/plain": [
       "<matplotlib.figure.Figure at 0x1ed94e85518>"
      ]
     },
     "metadata": {},
     "output_type": "display_data"
    }
   ],
   "source": [
    "plot02 = info[d.regiao==\"NORDESTE\"].V8005.plot.box()"
   ]
  },
  {
   "cell_type": "markdown",
   "metadata": {},
   "source": [
    "## Nordeste"
   ]
  },
  {
   "cell_type": "code",
   "execution_count": 178,
   "metadata": {
    "collapsed": false
   },
   "outputs": [
    {
     "data": {
      "image/png": "[encoded data removed]",
      "text/plain": [
       "<matplotlib.figure.Figure at 0x1ed860c3dd8>"
      ]
     },
     "metadata": {},
     "output_type": "display_data"
    }
   ],
   "source": [
    "plot03 = info[d.regiao==\"CENTRO-OESTE\"].V8005.plot.box()"
   ]
  },
  {
   "cell_type": "markdown",
   "metadata": {},
   "source": [
    "## Sudeste"
   ]
  },
  {
   "cell_type": "code",
   "execution_count": 179,
   "metadata": {
    "collapsed": false
   },
   "outputs": [
    {
     "data": {
      "image/png": "[encoded data removed]",
      "text/plain": [
       "<matplotlib.figure.Figure at 0x1ed94f335f8>"
      ]
     },
     "metadata": {},
     "output_type": "display_data"
    }
   ],
   "source": [
    "plot04 = info[d.regiao==\"SUDESTE\"].V8005.plot.box()"
   ]
  },
  {
   "cell_type": "markdown",
   "metadata": {},
   "source": [
    "## Sul"
   ]
  },
  {
   "cell_type": "code",
   "execution_count": 180,
   "metadata": {
    "collapsed": false
   },
   "outputs": [
    {
     "data": {
      "image/png": "[encoded data removed]",
      "text/plain": [
       "<matplotlib.figure.Figure at 0x1ed94d300b8>"
      ]
     },
     "metadata": {},
     "output_type": "display_data"
    }
   ],
   "source": [
    "plot05 = info[d.regiao==\"SUL\"].V8005.plot.box()"
   ]
  },
  {
   "cell_type": "markdown",
   "metadata": {},
   "source": [
    "# ---------------------------------------------------------------------------------------------------------------"
   ]
  },
  {
   "cell_type": "markdown",
   "metadata": {},
   "source": [
    "### 2) Número de anos estudando"
   ]
  },
  {
   "cell_type": "markdown",
   "metadata": {},
   "source": [
    "### Descrição da variável"
   ]
  },
  {
   "cell_type": "code",
   "execution_count": 66,
   "metadata": {
    "collapsed": false,
    "scrolled": true
   },
   "outputs": [
    {
     "data": {
      "text/plain": [
       "count    362555.000000\n",
       "mean          7.600745\n",
       "std           4.877807\n",
       "min           1.000000\n",
       "25%           3.000000\n",
       "50%           8.000000\n",
       "75%          12.000000\n",
       "max          17.000000\n",
       "Name: V4803, dtype: float64"
      ]
     },
     "execution_count": 66,
     "metadata": {},
     "output_type": "execute_result"
    }
   ],
   "source": [
    "info.V4803.describe()"
   ]
  },
  {
   "cell_type": "markdown",
   "metadata": {},
   "source": [
    "### Criação da faixa da variável"
   ]
  },
  {
   "cell_type": "code",
   "execution_count": 152,
   "metadata": {
    "collapsed": false
   },
   "outputs": [
    {
     "data": {
      "text/plain": [
       "(0, 1]      71673\n",
       "(11, 12]    70167\n",
       "(8, 9]      31589\n",
       "(4, 5]      30096\n",
       "(15, 16]    28046\n",
       "(5, 6]      20636\n",
       "(3, 4]      16644\n",
       "(6, 7]      14137\n",
       "(2, 3]      13930\n",
       "(7, 8]      13726\n",
       "(9, 10]     11049\n",
       "(10, 11]    11021\n",
       "(1, 2]      11009\n",
       "(12, 13]     7829\n",
       "(14, 15]     5293\n",
       "(13, 14]     4812\n",
       "(16, 17]      898\n",
       "(17, 18]        0\n",
       "dtype: int64"
      ]
     },
     "execution_count": 152,
     "metadata": {},
     "output_type": "execute_result"
    }
   ],
   "source": [
    "# Anos de estudo\n",
    "\n",
    "faixa2 = np.arange(0,19,1)\n",
    "var2 = pd.cut(info.V4803,faixa2)\n",
    "var2.value_counts()"
   ]
  },
  {
   "cell_type": "markdown",
   "metadata": {},
   "source": [
    "### Histograma do Brasil"
   ]
  },
  {
   "cell_type": "code",
   "execution_count": 153,
   "metadata": {
    "collapsed": false,
    "scrolled": true
   },
   "outputs": [
    {
     "data": {
      "text/plain": [
       "<matplotlib.text.Text at 0x1ed95e6eba8>"
      ]
     },
     "execution_count": 153,
     "metadata": {},
     "output_type": "execute_result"
    },
    {
     "data": {
      "image/png": "[encoded data removed]",
      "text/plain": [
       "<matplotlib.figure.Figure at 0x1ed951fa940>"
      ]
     },
     "metadata": {},
     "output_type": "display_data"
    }
   ],
   "source": [
    "plot = info.V4803.plot.hist(bins=faixa2)\n",
    "plt.xlabel(\"anos\")"
   ]
  },
  {
   "cell_type": "markdown",
   "metadata": {},
   "source": [
    "### Anos de estudo para cada região"
   ]
  },
  {
   "cell_type": "code",
   "execution_count": 174,
   "metadata": {
    "collapsed": false
   },
   "outputs": [
    {
     "data": {
      "text/html": [
       "<div>\n",
       "<table border=\"1\" class=\"dataframe\">\n",
       "  <thead>\n",
       "    <tr style=\"text-align: right;\">\n",
       "      <th>V4803</th>\n",
       "      <th>1</th>\n",
       "      <th>2</th>\n",
       "      <th>3</th>\n",
       "      <th>4</th>\n",
       "      <th>5</th>\n",
       "      <th>6</th>\n",
       "      <th>7</th>\n",
       "      <th>8</th>\n",
       "      <th>9</th>\n",
       "      <th>10</th>\n",
       "      <th>11</th>\n",
       "      <th>12</th>\n",
       "      <th>13</th>\n",
       "      <th>14</th>\n",
       "      <th>15</th>\n",
       "      <th>16</th>\n",
       "      <th>17</th>\n",
       "    </tr>\n",
       "    <tr>\n",
       "      <th>regiao</th>\n",
       "      <th></th>\n",
       "      <th></th>\n",
       "      <th></th>\n",
       "      <th></th>\n",
       "      <th></th>\n",
       "      <th></th>\n",
       "      <th></th>\n",
       "      <th></th>\n",
       "      <th></th>\n",
       "      <th></th>\n",
       "      <th></th>\n",
       "      <th></th>\n",
       "      <th></th>\n",
       "      <th></th>\n",
       "      <th></th>\n",
       "      <th></th>\n",
       "      <th></th>\n",
       "    </tr>\n",
       "  </thead>\n",
       "  <tbody>\n",
       "    <tr>\n",
       "      <th>NORTE</th>\n",
       "      <td>13858</td>\n",
       "      <td>2163</td>\n",
       "      <td>2700</td>\n",
       "      <td>3070</td>\n",
       "      <td>4364</td>\n",
       "      <td>3468</td>\n",
       "      <td>2402</td>\n",
       "      <td>2247</td>\n",
       "      <td>4638</td>\n",
       "      <td>1948</td>\n",
       "      <td>1878</td>\n",
       "      <td>10637</td>\n",
       "      <td>1102</td>\n",
       "      <td>611</td>\n",
       "      <td>690</td>\n",
       "      <td>3190</td>\n",
       "      <td>221</td>\n",
       "    </tr>\n",
       "    <tr>\n",
       "      <th>NORDESTE</th>\n",
       "      <td>25023</td>\n",
       "      <td>4003</td>\n",
       "      <td>4698</td>\n",
       "      <td>5315</td>\n",
       "      <td>8083</td>\n",
       "      <td>6118</td>\n",
       "      <td>4216</td>\n",
       "      <td>4010</td>\n",
       "      <td>7796</td>\n",
       "      <td>3312</td>\n",
       "      <td>2981</td>\n",
       "      <td>18996</td>\n",
       "      <td>1822</td>\n",
       "      <td>1053</td>\n",
       "      <td>1122</td>\n",
       "      <td>5745</td>\n",
       "      <td>304</td>\n",
       "    </tr>\n",
       "    <tr>\n",
       "      <th>SUDESTE</th>\n",
       "      <td>16981</td>\n",
       "      <td>2437</td>\n",
       "      <td>3400</td>\n",
       "      <td>4264</td>\n",
       "      <td>10023</td>\n",
       "      <td>5096</td>\n",
       "      <td>3880</td>\n",
       "      <td>3896</td>\n",
       "      <td>10055</td>\n",
       "      <td>3068</td>\n",
       "      <td>3191</td>\n",
       "      <td>22867</td>\n",
       "      <td>2476</td>\n",
       "      <td>1500</td>\n",
       "      <td>1779</td>\n",
       "      <td>10081</td>\n",
       "      <td>134</td>\n",
       "    </tr>\n",
       "    <tr>\n",
       "      <th>SUL</th>\n",
       "      <td>8782</td>\n",
       "      <td>1366</td>\n",
       "      <td>1818</td>\n",
       "      <td>2429</td>\n",
       "      <td>4989</td>\n",
       "      <td>3937</td>\n",
       "      <td>2111</td>\n",
       "      <td>2009</td>\n",
       "      <td>5889</td>\n",
       "      <td>1533</td>\n",
       "      <td>1790</td>\n",
       "      <td>10596</td>\n",
       "      <td>1525</td>\n",
       "      <td>944</td>\n",
       "      <td>962</td>\n",
       "      <td>5276</td>\n",
       "      <td>160</td>\n",
       "    </tr>\n",
       "    <tr>\n",
       "      <th>CENTRO-OESTE</th>\n",
       "      <td>7029</td>\n",
       "      <td>1040</td>\n",
       "      <td>1314</td>\n",
       "      <td>1566</td>\n",
       "      <td>2637</td>\n",
       "      <td>2017</td>\n",
       "      <td>1528</td>\n",
       "      <td>1564</td>\n",
       "      <td>3211</td>\n",
       "      <td>1188</td>\n",
       "      <td>1181</td>\n",
       "      <td>7071</td>\n",
       "      <td>904</td>\n",
       "      <td>704</td>\n",
       "      <td>740</td>\n",
       "      <td>3754</td>\n",
       "      <td>79</td>\n",
       "    </tr>\n",
       "  </tbody>\n",
       "</table>\n",
       "</div>"
      ],
      "text/plain": [
       "V4803            1     2     3     4      5     6     7     8      9     10  \\\n",
       "regiao                                                                        \n",
       "NORTE         13858  2163  2700  3070   4364  3468  2402  2247   4638  1948   \n",
       "NORDESTE      25023  4003  4698  5315   8083  6118  4216  4010   7796  3312   \n",
       "SUDESTE       16981  2437  3400  4264  10023  5096  3880  3896  10055  3068   \n",
       "SUL            8782  1366  1818  2429   4989  3937  2111  2009   5889  1533   \n",
       "CENTRO-OESTE   7029  1040  1314  1566   2637  2017  1528  1564   3211  1188   \n",
       "\n",
       "V4803           11     12    13    14    15     16   17  \n",
       "regiao                                                   \n",
       "NORTE         1878  10637  1102   611   690   3190  221  \n",
       "NORDESTE      2981  18996  1822  1053  1122   5745  304  \n",
       "SUDESTE       3191  22867  2476  1500  1779  10081  134  \n",
       "SUL           1790  10596  1525   944   962   5276  160  \n",
       "CENTRO-OESTE  1181   7071   904   704   740   3754   79  "
      ]
     },
     "execution_count": 174,
     "metadata": {},
     "output_type": "execute_result"
    }
   ],
   "source": [
    "ctar = pd.crosstab(d.regiao, info.V4803)\n",
    "ctar"
   ]
  },
  {
   "cell_type": "markdown",
   "metadata": {},
   "source": [
    "### Gráfico dos anos de estudo em cada região"
   ]
  },
  {
   "cell_type": "code",
   "execution_count": 154,
   "metadata": {
    "collapsed": false
   },
   "outputs": [
    {
     "data": {
      "text/plain": [
       "<matplotlib.axes._subplots.AxesSubplot at 0x1ed95e58710>"
      ]
     },
     "execution_count": 154,
     "metadata": {},
     "output_type": "execute_result"
    },
    {
     "data": {
      "image/png": "[encoded data removed]",
      "text/plain": [
       "<matplotlib.figure.Figure at 0x1ed84f36a20>"
      ]
     },
     "metadata": {},
     "output_type": "display_data"
    }
   ],
   "source": [
    "anos_reg = pd.crosstab(d.regiao, info.V4803)\n",
    "anos_reg.plot.bar(color=(\"green\",\"red\",\"blue\",\"yellow\",\"brown\",\"white\",\"salmon\",\"grey\",\"k\",\"pink\",\"purple\"),figsize=(8,8),stacked=True)"
   ]
  },
  {
   "cell_type": "markdown",
   "metadata": {},
   "source": [
    "### Histograma por região"
   ]
  },
  {
   "cell_type": "markdown",
   "metadata": {},
   "source": [
    "### Norte"
   ]
  },
  {
   "cell_type": "code",
   "execution_count": 155,
   "metadata": {
    "collapsed": false,
    "scrolled": true
   },
   "outputs": [
    {
     "data": {
      "text/plain": [
       "<matplotlib.text.Text at 0x1ed953575f8>"
      ]
     },
     "execution_count": 155,
     "metadata": {},
     "output_type": "execute_result"
    },
    {
     "data": {
      "image/png": "[encoded data removed]",
      "text/plain": [
       "<matplotlib.figure.Figure at 0x1ed95325d30>"
      ]
     },
     "metadata": {},
     "output_type": "display_data"
    }
   ],
   "source": [
    "plot = info[d.regiao==\"NORTE\"].V4803.plot.hist(bins=faixa2)\n",
    "plt.xlabel(\"anos\")"
   ]
  },
  {
   "cell_type": "markdown",
   "metadata": {},
   "source": [
    "## Nordeste"
   ]
  },
  {
   "cell_type": "code",
   "execution_count": 156,
   "metadata": {
    "collapsed": false
   },
   "outputs": [
    {
     "data": {
      "text/plain": [
       "<matplotlib.text.Text at 0x1ed8562cb70>"
      ]
     },
     "execution_count": 156,
     "metadata": {},
     "output_type": "execute_result"
    },
    {
     "data": {
      "image/png": "[encoded data removed]",
      "text/plain": [
       "<matplotlib.figure.Figure at 0x1ed857fdeb8>"
      ]
     },
     "metadata": {},
     "output_type": "display_data"
    }
   ],
   "source": [
    "plot = info[d.regiao==\"NORDESTE\"].V4803.plot.hist(bins=faixa2)\n",
    "plt.xlabel(\"anos\")"
   ]
  },
  {
   "cell_type": "markdown",
   "metadata": {},
   "source": [
    "## Centro-Oeste"
   ]
  },
  {
   "cell_type": "code",
   "execution_count": 157,
   "metadata": {
    "collapsed": false
   },
   "outputs": [
    {
     "data": {
      "text/plain": [
       "<matplotlib.text.Text at 0x1ed85ede358>"
      ]
     },
     "execution_count": 157,
     "metadata": {},
     "output_type": "execute_result"
    },
    {
     "data": {
      "image/png": "[encoded data removed]",
      "text/plain": [
       "<matplotlib.figure.Figure at 0x1ed86a8b438>"
      ]
     },
     "metadata": {},
     "output_type": "display_data"
    }
   ],
   "source": [
    "plot = info[d.regiao==\"CENTRO-OESTE\"].V4803.plot.hist(bins=faixa2)\n",
    "plt.xlabel(\"anos\")"
   ]
  },
  {
   "cell_type": "markdown",
   "metadata": {},
   "source": [
    "## Sudeste"
   ]
  },
  {
   "cell_type": "code",
   "execution_count": 158,
   "metadata": {
    "collapsed": false
   },
   "outputs": [
    {
     "data": {
      "text/plain": [
       "<matplotlib.text.Text at 0x1ed85f7fb38>"
      ]
     },
     "execution_count": 158,
     "metadata": {},
     "output_type": "execute_result"
    },
    {
     "data": {
      "image/png": "[encoded data removed]",
      "text/plain": [
       "<matplotlib.figure.Figure at 0x1ed86651940>"
      ]
     },
     "metadata": {},
     "output_type": "display_data"
    }
   ],
   "source": [
    "plot = info[d.regiao==\"SUDESTE\"].V4803.plot.hist(bins=faixa2)\n",
    "plt.xlabel(\"anos\")"
   ]
  },
  {
   "cell_type": "markdown",
   "metadata": {},
   "source": [
    "## Sul"
   ]
  },
  {
   "cell_type": "code",
   "execution_count": 159,
   "metadata": {
    "collapsed": false
   },
   "outputs": [
    {
     "data": {
      "text/plain": [
       "<matplotlib.text.Text at 0x1ed86689ef0>"
      ]
     },
     "execution_count": 159,
     "metadata": {},
     "output_type": "execute_result"
    },
    {
     "data": {
      "image/png": "[encoded data removed]",
      "text/plain": [
       "<matplotlib.figure.Figure at 0x1ed85f38c50>"
      ]
     },
     "metadata": {},
     "output_type": "display_data"
    }
   ],
   "source": [
    "plot = info[d.regiao==\"SUL\"].V4803.plot.hist(bins=faixa2)\n",
    "plt.xlabel(\"anos\")"
   ]
  },
  {
   "cell_type": "markdown",
   "metadata": {},
   "source": [
    "### Boxplots"
   ]
  },
  {
   "cell_type": "markdown",
   "metadata": {},
   "source": [
    "### Brasil"
   ]
  },
  {
   "cell_type": "code",
   "execution_count": 160,
   "metadata": {
    "collapsed": false
   },
   "outputs": [
    {
     "data": {
      "text/plain": [
       "<matplotlib.text.Text at 0x1ed85aaa390>"
      ]
     },
     "execution_count": 160,
     "metadata": {},
     "output_type": "execute_result"
    },
    {
     "data": {
      "image/png": "[encoded data removed]",
      "text/plain": [
       "<matplotlib.figure.Figure at 0x1ed85bd2438>"
      ]
     },
     "metadata": {},
     "output_type": "display_data"
    }
   ],
   "source": [
    "plot = info.V4803.plot.box()\n",
    "plt.xlabel(\"anos\")"
   ]
  },
  {
   "cell_type": "markdown",
   "metadata": {},
   "source": [
    "### Regiões do Brasil"
   ]
  },
  {
   "cell_type": "markdown",
   "metadata": {},
   "source": [
    "## Norte"
   ]
  },
  {
   "cell_type": "code",
   "execution_count": 161,
   "metadata": {
    "collapsed": false
   },
   "outputs": [
    {
     "data": {
      "text/plain": [
       "<matplotlib.text.Text at 0x1ed866902e8>"
      ]
     },
     "execution_count": 161,
     "metadata": {},
     "output_type": "execute_result"
    },
    {
     "data": {
      "image/png": "[encoded data removed]",
      "text/plain": [
       "<matplotlib.figure.Figure at 0x1ed965f80f0>"
      ]
     },
     "metadata": {},
     "output_type": "display_data"
    }
   ],
   "source": [
    "plot = info[d.regiao==\"NORTE\"].V4803.plot.box()\n",
    "plt.xlabel(\"anos\")"
   ]
  },
  {
   "cell_type": "markdown",
   "metadata": {},
   "source": [
    "## Nordeste"
   ]
  },
  {
   "cell_type": "code",
   "execution_count": 162,
   "metadata": {
    "collapsed": false
   },
   "outputs": [
    {
     "data": {
      "text/plain": [
       "<matplotlib.text.Text at 0x1ed95344b00>"
      ]
     },
     "execution_count": 162,
     "metadata": {},
     "output_type": "execute_result"
    },
    {
     "data": {
      "image/png": "[encoded data removed]",
      "text/plain": [
       "<matplotlib.figure.Figure at 0x1ed8679f358>"
      ]
     },
     "metadata": {},
     "output_type": "display_data"
    }
   ],
   "source": [
    "plot = info[d.regiao==\"NORDESTE\"].V4803.plot.box()\n",
    "plt.xlabel(\"anos\")"
   ]
  },
  {
   "cell_type": "markdown",
   "metadata": {},
   "source": [
    "## Centro-Oeste"
   ]
  },
  {
   "cell_type": "code",
   "execution_count": 163,
   "metadata": {
    "collapsed": false
   },
   "outputs": [
    {
     "data": {
      "text/plain": [
       "<matplotlib.text.Text at 0x1ed86797ef0>"
      ]
     },
     "execution_count": 163,
     "metadata": {},
     "output_type": "execute_result"
    },
    {
     "data": {
      "image/png": "[encoded data removed]",
      "text/plain": [
       "<matplotlib.figure.Figure at 0x1ed873a12e8>"
      ]
     },
     "metadata": {},
     "output_type": "display_data"
    }
   ],
   "source": [
    "plot = info[d.regiao==\"CENTRO-OESTE\"].V4803.plot.box()\n",
    "plt.xlabel(\"anos\")"
   ]
  },
  {
   "cell_type": "markdown",
   "metadata": {},
   "source": [
    "## Sudeste"
   ]
  },
  {
   "cell_type": "code",
   "execution_count": 164,
   "metadata": {
    "collapsed": false
   },
   "outputs": [
    {
     "data": {
      "text/plain": [
       "<matplotlib.text.Text at 0x1ed87394828>"
      ]
     },
     "execution_count": 164,
     "metadata": {},
     "output_type": "execute_result"
    },
    {
     "data": {
      "image/png": "[encoded data removed]",
      "text/plain": [
       "<matplotlib.figure.Figure at 0x1ed860cbcc0>"
      ]
     },
     "metadata": {},
     "output_type": "display_data"
    }
   ],
   "source": [
    "plot = info[d.regiao==\"SUDESTE\"].V4803.plot.box()\n",
    "plt.xlabel(\"anos\")"
   ]
  },
  {
   "cell_type": "markdown",
   "metadata": {},
   "source": [
    "## Sul"
   ]
  },
  {
   "cell_type": "code",
   "execution_count": 165,
   "metadata": {
    "collapsed": false
   },
   "outputs": [
    {
     "data": {
      "text/plain": [
       "<matplotlib.text.Text at 0x1ed867aa860>"
      ]
     },
     "execution_count": 165,
     "metadata": {},
     "output_type": "execute_result"
    },
    {
     "data": {
      "image/png": "[encoded data removed]",
      "text/plain": [
       "<matplotlib.figure.Figure at 0x1ed87a46898>"
      ]
     },
     "metadata": {},
     "output_type": "display_data"
    }
   ],
   "source": [
    "plot = info[d.regiao==\"SUL\"].V4803.plot.box()\n",
    "plt.xlabel(\"anos\")"
   ]
  },
  {
   "cell_type": "markdown",
   "metadata": {},
   "source": [
    "### Histograma por Rede de Ensino"
   ]
  },
  {
   "cell_type": "markdown",
   "metadata": {},
   "source": [
    "## Rede Pública"
   ]
  },
  {
   "cell_type": "code",
   "execution_count": 184,
   "metadata": {
    "collapsed": false
   },
   "outputs": [
    {
     "data": {
      "text/plain": [
       "<matplotlib.text.Text at 0x1ed95634588>"
      ]
     },
     "execution_count": 184,
     "metadata": {},
     "output_type": "execute_result"
    },
    {
     "data": {
      "image/png": "[encoded data removed]",
      "text/plain": [
       "<matplotlib.figure.Figure at 0x1ed95626908>"
      ]
     },
     "metadata": {},
     "output_type": "display_data"
    }
   ],
   "source": [
    "plot = info[info.REDE==\"Pública\"].V4803.plot.hist(bins=faixa2)\n",
    "plt.xlabel(\"anos\")"
   ]
  },
  {
   "cell_type": "markdown",
   "metadata": {},
   "source": [
    "## Rede Privada"
   ]
  },
  {
   "cell_type": "code",
   "execution_count": 185,
   "metadata": {
    "collapsed": false
   },
   "outputs": [
    {
     "data": {
      "text/plain": [
       "<matplotlib.text.Text at 0x1ed9563dc50>"
      ]
     },
     "execution_count": 185,
     "metadata": {},
     "output_type": "execute_result"
    },
    {
     "data": {
      "image/png": "[encoded data removed]",
      "text/plain": [
       "<matplotlib.figure.Figure at 0x1ed87eccd68>"
      ]
     },
     "metadata": {},
     "output_type": "display_data"
    }
   ],
   "source": [
    "plot = info[info.REDE==\"Privada\"].V4803.plot.hist(bins=faixa2)\n",
    "plt.xlabel(\"anos\")"
   ]
  },
  {
   "cell_type": "markdown",
   "metadata": {},
   "source": [
    "### Boxplot po Rede de Ensino"
   ]
  },
  {
   "cell_type": "markdown",
   "metadata": {},
   "source": [
    "## Rede Pública"
   ]
  },
  {
   "cell_type": "code",
   "execution_count": 186,
   "metadata": {
    "collapsed": false
   },
   "outputs": [
    {
     "data": {
      "text/plain": [
       "<matplotlib.text.Text at 0x1ed87eda278>"
      ]
     },
     "execution_count": 186,
     "metadata": {},
     "output_type": "execute_result"
    },
    {
     "data": {
      "image/png": "[encoded data removed]",
      "text/plain": [
       "<matplotlib.figure.Figure at 0x1ed95562550>"
      ]
     },
     "metadata": {},
     "output_type": "display_data"
    }
   ],
   "source": [
    "plot = info[info.REDE==\"Pública\"].V4803.plot.box()\n",
    "plt.xlabel(\"anos\")"
   ]
  },
  {
   "cell_type": "markdown",
   "metadata": {},
   "source": [
    "## Rede Privada"
   ]
  },
  {
   "cell_type": "code",
   "execution_count": 188,
   "metadata": {
    "collapsed": false,
    "scrolled": true
   },
   "outputs": [
    {
     "data": {
      "text/plain": [
       "<matplotlib.text.Text at 0x1ed9703ad68>"
      ]
     },
     "execution_count": 188,
     "metadata": {},
     "output_type": "execute_result"
    },
    {
     "data": {
      "image/png": "[encoded data removed]",
      "text/plain": [
       "<matplotlib.figure.Figure at 0x1ed95020278>"
      ]
     },
     "metadata": {},
     "output_type": "display_data"
    }
   ],
   "source": [
    "plot = info[info.REDE==\"Privada\"].V4803.plot.box()\n",
    "plt.xlabel(\"anos\")"
   ]
  },
  {
   "cell_type": "markdown",
   "metadata": {},
   "source": [
    "# Conclusão 2"
   ]
  },
  {
   "cell_type": "markdown",
   "metadata": {},
   "source": [
    "A partir da análise de duas das variáveis quantitativas da PNAD, idade da população e anos de estudo dos indivíduos, foi possível chegar a conclusão de que o Sr. Gold deveria investir no setor superior privado na região sudeste. Pela formatação de histogramas e boxplots no python vemos que as populações economicamente ativa (PEA) da região sudeste e nordeste são as maior e a com a maior previsão de crescimento, ou seja, apresentará um número grande de jovens e devido a forte atividade econômica a tendência será dos pais inscreverem os filhos numa escola privada. Além dessa análise também foi feita uma em relação ao número de anos estudado por indivíduos. Nessa segunda análise foi vista que o maior número de indivíduos que completa 17 ou mais anos de estudo se concentra no sudeste e o maior número de alunos que completou 17 ou mais anos está envolvido com redes particulares."
   ]
  }
 ],
 "metadata": {
  "anaconda-cloud": {},
  "kernelspec": {
   "display_name": "Python 3",
   "language": "python",
   "name": "python3"
  },
  "language_info": {
   "codemirror_mode": {
    "name": "ipython",
    "version": 3
   },
   "file_extension": ".py",
   "mimetype": "text/x-python",
   "name": "python",
   "nbconvert_exporter": "python",
   "pygments_lexer": "ipython3",
   "version": "3.5.2"
  }
 },
 "nbformat": 4,
 "nbformat_minor": 0
}
