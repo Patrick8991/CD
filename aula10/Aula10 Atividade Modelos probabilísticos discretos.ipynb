{
 "cells": [
  {
   "cell_type": "markdown",
   "metadata": {},
   "source": [
    "___\n",
    "# Atividade: Modelos probabilísticos discretos e Dados\n",
    "___\n",
    "\n",
    "## Aula 10\n",
    "\n",
    "**Referência de Leitura:**\n",
    "1. Magalhães e Lima (7ª. Edição): Seções 3.2 e 3.3\n",
    "\n",
    "**Hoje:**\n",
    "1.\tDescrever modelos discretos quanto aos resultados teóricos.\n",
    "2.\tExplicar a utilização de modelos probabilísticos no contexto da literatura estatística.\n",
    "3.\tContrastar resultados teóricos e empíricos.\n",
    "4.\tFechamento do conteúdo.\n",
    "\n",
    "**Próxima aula:**\n",
    "1. Leitura prévia necessária: Magalhães e Lima (7ª. Edição): Seção 5.1 (pág. 137) e Seção 5.2 (pág. 146).\n",
    "___"
   ]
  },
  {
   "cell_type": "code",
   "execution_count": 1,
   "metadata": {
    "collapsed": true
   },
   "outputs": [],
   "source": [
    "%matplotlib inline\n",
    "import pandas as pd\n",
    "import matplotlib.pyplot as plt\n",
    "\n",
    "from scipy import stats #importa apenas as funções de estatísticas da biblioteca SciPy.\n",
    "import itertools #importante para gerar todos os resultados possíveis!!\n"
   ]
  },
  {
   "cell_type": "markdown",
   "metadata": {},
   "source": [
    "___\n",
    "## <font color='blue'>Exercício 1</font>\n",
    "\n",
    "Um resistor de 100K Ohms comprado na Santa Efigênia tem probabilidade de falha de 5%, segundo um fabricante ruim.\n",
    "\n",
    "Ainda, assuma os resistores falham de forma independente entre si.\n",
    "\n",
    "Um aluno de engenharia compra um pacote contendo $n$ resistores.\n",
    "\n",
    "1. Assuma $n=3$ e faça os itens a seguir.\n",
    "  1. Monte o espaço amostral que combine todos os resultados possíveis de Falha e não Falha desses $n$ resistores. Ainda, calcule a probabilidade de cada resultado do espaço amostral acontecer.\n",
    "  2. Se $Y$ representa o número de resistores que falham em um pacotinho com $n$ resistores, então construa a distribuição de probabilidades de $Y$.\n",
    "  3. Calcule a média e o desvio padrão de $Y$. Interprete os resultados.\n",
    "    \n",
    "2. Assuma $n=7$ e repita os itens A) a C) anteriores. No caso de $n=7$ ou maiores quantidades de resistores em um pacotinho, qual a viabilidade de construir a distribuição de probabilidades do número de resistores com defeitos quando $n$ não é pequeno?\n",
    "    \n",
    "3. Encontre a distribuição de probabilidades de cada possível valor de $Y$ utilizando a distribuição Binomial para $n=3$ e $n=7$. Calcule também $E(X)$ e $Var(X)$. Compare com as distribuições de probabilidades obtidas nos itens anteriores e discuta porque esses valores são iguais ou diferentes!\n",
    "    \n",
    "> **DISTRIBUIÇÃO BINOMIAL - TEORIA:**\n",
    "\n",
    "> É responsável por modelar uma variável $Y$ definida pelo Número de sucessos em $n$ tentativas, cuja probabilidade de sucesso é dada por $p$. Assim, dizemos que $Y$~$Bin(n,p)$ e lê-se: $Y$ segue uma distribuição binomial com $n$ tentativas e $p$ como probabilidade de sucesso. \n",
    "\n",
    "> A função de probabilidade nesse caso é dada por:\n",
    "$P(Y=y)=\\left(\n",
    "\\begin{array}{c}\n",
    "    n \\\\\n",
    "    y\n",
    "\\end{array}\\right) p^y (1-p)^{(n-y)}$\n",
    "\n",
    "> Para um experimento ter as probabilidade dos números de sucessos modeladas por uma distribuição Binomial, o mesmo precisa ter as seguintes propriedades:\n",
    "* é uma contagem de $n$ repetições (ou tentativas ou ensaios) idênticas;\n",
    "* cada repetição tem apenas 2 resultados possíveis: um é denominado sucesso e o outro, fracasso;\n",
    "* a probabilidade de sucesso para cada ensaio é denominada $p$ e será constante em cada repetição. Então, a probabilidade de fracasso $(1-p)$ também não varia de tentativa para tentativa;\n",
    "* As tentativas são independentes.\n",
    "\n",
    "\n",
    "> **DISTRIBUIÇÃO BINOMIAL - PYTHON:** <sup> [https://en.wikipedia.org/wiki/SciPy]\n",
    "\n",
    "> Algumas funções úteis para desenvolver seu código: <sup> [http://docs.scipy.org/doc/scipy-0.16.1/reference/generated/scipy.stats.binom.html]\n",
    "* $P(Y=y)$: `stats.binom.pmf(y, n, p)`\n",
    "* $P(Y\\leq y)$: `stats.binom.cdf(y, n, p)`\n",
    "* $E(X)$ e $Var(X)$: `stats.binom.stats(n, p, moments='mv')`\n"
   ]
  },
  {
   "cell_type": "code",
   "execution_count": 20,
   "metadata": {
    "collapsed": false
   },
   "outputs": [],
   "source": [
    "prob = {\"NF\": 0.95, \"F\":0.05}\n",
    "##################################################################################\n",
    "#item 1\n",
    "n=3\n",
    "\n",
    "#A\n",
    "possibilidades01 = [\"NF\", \"F\"]\n",
    "\n",
    "arranjos01 = itertools.product(possibilidades01, repeat=n)\n",
    "espaco_amostral01 = list(arranjos01)\n",
    "\n",
    "prob_linhas01 = []\n",
    "\n",
    "for res in espaco_amostral01:\n",
    "    p = 1.0\n",
    "    for e in res:\n",
    "        p*=prob[e]\n",
    "    prob_linhas01.append(p)\n",
    "#################################################################################\n",
    "# B\n",
    "valores_X01 = {}\n",
    "for i in range(len(espaco_amostral01)):\n",
    "    resistores01 = espaco_amostral01[i].count(\"F\")\n",
    "    # Checar antes se a chave está no dicionário\n",
    "    if resistores01 in valores_X01:\n",
    "        valores_X01[resistores01] += prob_linhas01[i]\n",
    "    else:\n",
    "        valores_X01[resistores01] = prob_linhas01[i]"
   ]
  },
  {
   "cell_type": "code",
   "execution_count": 7,
   "metadata": {
    "collapsed": false
   },
   "outputs": [
    {
     "data": {
      "text/plain": [
       "[('NF', 'NF', 'NF'),\n",
       " ('NF', 'NF', 'F'),\n",
       " ('NF', 'F', 'NF'),\n",
       " ('NF', 'F', 'F'),\n",
       " ('F', 'NF', 'NF'),\n",
       " ('F', 'NF', 'F'),\n",
       " ('F', 'F', 'NF'),\n",
       " ('F', 'F', 'F')]"
      ]
     },
     "execution_count": 7,
     "metadata": {},
     "output_type": "execute_result"
    }
   ],
   "source": [
    "espaco_amostral01"
   ]
  },
  {
   "cell_type": "code",
   "execution_count": 8,
   "metadata": {
    "collapsed": false
   },
   "outputs": [
    {
     "data": {
      "text/plain": [
       "[0.8573749999999999,\n",
       " 0.045125,\n",
       " 0.045125,\n",
       " 0.0023750000000000004,\n",
       " 0.045125,\n",
       " 0.0023750000000000004,\n",
       " 0.0023750000000000004,\n",
       " 0.00012500000000000003]"
      ]
     },
     "execution_count": 8,
     "metadata": {},
     "output_type": "execute_result"
    }
   ],
   "source": [
    "prob_linhas01"
   ]
  },
  {
   "cell_type": "code",
   "execution_count": 9,
   "metadata": {
    "collapsed": false
   },
   "outputs": [
    {
     "data": {
      "text/plain": [
       "0.9999999999999999"
      ]
     },
     "execution_count": 9,
     "metadata": {},
     "output_type": "execute_result"
    }
   ],
   "source": [
    "sum(prob_linhas01)"
   ]
  },
  {
   "cell_type": "code",
   "execution_count": 22,
   "metadata": {
    "collapsed": false
   },
   "outputs": [
    {
     "name": "stdout",
     "output_type": "stream",
     "text": [
      "Número de resistores que falharam:  0  Probabilidade 0.85737 \n",
      "Número de resistores que falharam:  1  Probabilidade 0.13537 \n",
      "Número de resistores que falharam:  2  Probabilidade 0.00713 \n",
      "Número de resistores que falharam:  3  Probabilidade 0.00013 \n"
     ]
    }
   ],
   "source": [
    "for k in valores_X01:\n",
    "    print(\"Número de resistores que falharam: \", k, \" Probabilidade\", \"%6.5f \"%valores_X01[k])"
   ]
  },
  {
   "cell_type": "code",
   "execution_count": 24,
   "metadata": {
    "collapsed": false
   },
   "outputs": [
    {
     "name": "stdout",
     "output_type": "stream",
     "text": [
      "Média: 0.15 \n",
      "Variância: 0.1425 \n",
      "Desvio Padrão: 0.37749172176353746\n"
     ]
    }
   ],
   "source": [
    "m = (0*valores_X01[0]+1*valores_X01[1]+2*valores_X01[2]+3*valores_X01[3])\n",
    "var = ((0-m)**2)*valores_X01[0]+((1-m)**2)*valores_X01[1]+((2-m)**2)*valores_X01[2]+((3-m)**2)*valores_X01[3]\n",
    "dp = (var)**(1/2)\n",
    "print(\"Média: {0} \\nVariância: {1} \\nDesvio Padrão: {2}\".format(m,var,dp))"
   ]
  },
  {
   "cell_type": "code",
   "execution_count": 25,
   "metadata": {
    "collapsed": true
   },
   "outputs": [],
   "source": [
    "#item 2\n",
    "n=7\n",
    "\n",
    "#A\n",
    "possibilidades02 = [\"NF\", \"F\"]\n",
    "\n",
    "arranjos02 = itertools.product(possibilidades01, repeat=n)\n",
    "espaco_amostral02 = list(arranjos02)\n",
    "\n",
    "prob_linhas02 = []\n",
    "\n",
    "for res in espaco_amostral02:\n",
    "    p = 1.0\n",
    "    for e in res:\n",
    "        p*=prob[e]\n",
    "    prob_linhas02.append(p)\n",
    "#################################################################################\n",
    "# B\n",
    "valores_X02 = {}\n",
    "for i in range(len(espaco_amostral02)):\n",
    "    resistores02 = espaco_amostral02[i].count(\"F\")\n",
    "    # Checar antes se a chave está no dicionário\n",
    "    if resistores02 in valores_X02:\n",
    "        valores_X02[resistores02] += prob_linhas02[i]\n",
    "    else:\n",
    "        valores_X02[resistores02] = prob_linhas02[i]"
   ]
  },
  {
   "cell_type": "code",
   "execution_count": 26,
   "metadata": {
    "collapsed": false
   },
   "outputs": [
    {
     "data": {
      "text/plain": [
       "[('NF', 'NF', 'NF', 'NF', 'NF', 'NF', 'NF'),\n",
       " ('NF', 'NF', 'NF', 'NF', 'NF', 'NF', 'F'),\n",
       " ('NF', 'NF', 'NF', 'NF', 'NF', 'F', 'NF'),\n",
       " ('NF', 'NF', 'NF', 'NF', 'NF', 'F', 'F'),\n",
       " ('NF', 'NF', 'NF', 'NF', 'F', 'NF', 'NF'),\n",
       " ('NF', 'NF', 'NF', 'NF', 'F', 'NF', 'F'),\n",
       " ('NF', 'NF', 'NF', 'NF', 'F', 'F', 'NF'),\n",
       " ('NF', 'NF', 'NF', 'NF', 'F', 'F', 'F'),\n",
       " ('NF', 'NF', 'NF', 'F', 'NF', 'NF', 'NF'),\n",
       " ('NF', 'NF', 'NF', 'F', 'NF', 'NF', 'F'),\n",
       " ('NF', 'NF', 'NF', 'F', 'NF', 'F', 'NF'),\n",
       " ('NF', 'NF', 'NF', 'F', 'NF', 'F', 'F'),\n",
       " ('NF', 'NF', 'NF', 'F', 'F', 'NF', 'NF'),\n",
       " ('NF', 'NF', 'NF', 'F', 'F', 'NF', 'F'),\n",
       " ('NF', 'NF', 'NF', 'F', 'F', 'F', 'NF'),\n",
       " ('NF', 'NF', 'NF', 'F', 'F', 'F', 'F'),\n",
       " ('NF', 'NF', 'F', 'NF', 'NF', 'NF', 'NF'),\n",
       " ('NF', 'NF', 'F', 'NF', 'NF', 'NF', 'F'),\n",
       " ('NF', 'NF', 'F', 'NF', 'NF', 'F', 'NF'),\n",
       " ('NF', 'NF', 'F', 'NF', 'NF', 'F', 'F'),\n",
       " ('NF', 'NF', 'F', 'NF', 'F', 'NF', 'NF'),\n",
       " ('NF', 'NF', 'F', 'NF', 'F', 'NF', 'F'),\n",
       " ('NF', 'NF', 'F', 'NF', 'F', 'F', 'NF'),\n",
       " ('NF', 'NF', 'F', 'NF', 'F', 'F', 'F'),\n",
       " ('NF', 'NF', 'F', 'F', 'NF', 'NF', 'NF'),\n",
       " ('NF', 'NF', 'F', 'F', 'NF', 'NF', 'F'),\n",
       " ('NF', 'NF', 'F', 'F', 'NF', 'F', 'NF'),\n",
       " ('NF', 'NF', 'F', 'F', 'NF', 'F', 'F'),\n",
       " ('NF', 'NF', 'F', 'F', 'F', 'NF', 'NF'),\n",
       " ('NF', 'NF', 'F', 'F', 'F', 'NF', 'F'),\n",
       " ('NF', 'NF', 'F', 'F', 'F', 'F', 'NF'),\n",
       " ('NF', 'NF', 'F', 'F', 'F', 'F', 'F'),\n",
       " ('NF', 'F', 'NF', 'NF', 'NF', 'NF', 'NF'),\n",
       " ('NF', 'F', 'NF', 'NF', 'NF', 'NF', 'F'),\n",
       " ('NF', 'F', 'NF', 'NF', 'NF', 'F', 'NF'),\n",
       " ('NF', 'F', 'NF', 'NF', 'NF', 'F', 'F'),\n",
       " ('NF', 'F', 'NF', 'NF', 'F', 'NF', 'NF'),\n",
       " ('NF', 'F', 'NF', 'NF', 'F', 'NF', 'F'),\n",
       " ('NF', 'F', 'NF', 'NF', 'F', 'F', 'NF'),\n",
       " ('NF', 'F', 'NF', 'NF', 'F', 'F', 'F'),\n",
       " ('NF', 'F', 'NF', 'F', 'NF', 'NF', 'NF'),\n",
       " ('NF', 'F', 'NF', 'F', 'NF', 'NF', 'F'),\n",
       " ('NF', 'F', 'NF', 'F', 'NF', 'F', 'NF'),\n",
       " ('NF', 'F', 'NF', 'F', 'NF', 'F', 'F'),\n",
       " ('NF', 'F', 'NF', 'F', 'F', 'NF', 'NF'),\n",
       " ('NF', 'F', 'NF', 'F', 'F', 'NF', 'F'),\n",
       " ('NF', 'F', 'NF', 'F', 'F', 'F', 'NF'),\n",
       " ('NF', 'F', 'NF', 'F', 'F', 'F', 'F'),\n",
       " ('NF', 'F', 'F', 'NF', 'NF', 'NF', 'NF'),\n",
       " ('NF', 'F', 'F', 'NF', 'NF', 'NF', 'F'),\n",
       " ('NF', 'F', 'F', 'NF', 'NF', 'F', 'NF'),\n",
       " ('NF', 'F', 'F', 'NF', 'NF', 'F', 'F'),\n",
       " ('NF', 'F', 'F', 'NF', 'F', 'NF', 'NF'),\n",
       " ('NF', 'F', 'F', 'NF', 'F', 'NF', 'F'),\n",
       " ('NF', 'F', 'F', 'NF', 'F', 'F', 'NF'),\n",
       " ('NF', 'F', 'F', 'NF', 'F', 'F', 'F'),\n",
       " ('NF', 'F', 'F', 'F', 'NF', 'NF', 'NF'),\n",
       " ('NF', 'F', 'F', 'F', 'NF', 'NF', 'F'),\n",
       " ('NF', 'F', 'F', 'F', 'NF', 'F', 'NF'),\n",
       " ('NF', 'F', 'F', 'F', 'NF', 'F', 'F'),\n",
       " ('NF', 'F', 'F', 'F', 'F', 'NF', 'NF'),\n",
       " ('NF', 'F', 'F', 'F', 'F', 'NF', 'F'),\n",
       " ('NF', 'F', 'F', 'F', 'F', 'F', 'NF'),\n",
       " ('NF', 'F', 'F', 'F', 'F', 'F', 'F'),\n",
       " ('F', 'NF', 'NF', 'NF', 'NF', 'NF', 'NF'),\n",
       " ('F', 'NF', 'NF', 'NF', 'NF', 'NF', 'F'),\n",
       " ('F', 'NF', 'NF', 'NF', 'NF', 'F', 'NF'),\n",
       " ('F', 'NF', 'NF', 'NF', 'NF', 'F', 'F'),\n",
       " ('F', 'NF', 'NF', 'NF', 'F', 'NF', 'NF'),\n",
       " ('F', 'NF', 'NF', 'NF', 'F', 'NF', 'F'),\n",
       " ('F', 'NF', 'NF', 'NF', 'F', 'F', 'NF'),\n",
       " ('F', 'NF', 'NF', 'NF', 'F', 'F', 'F'),\n",
       " ('F', 'NF', 'NF', 'F', 'NF', 'NF', 'NF'),\n",
       " ('F', 'NF', 'NF', 'F', 'NF', 'NF', 'F'),\n",
       " ('F', 'NF', 'NF', 'F', 'NF', 'F', 'NF'),\n",
       " ('F', 'NF', 'NF', 'F', 'NF', 'F', 'F'),\n",
       " ('F', 'NF', 'NF', 'F', 'F', 'NF', 'NF'),\n",
       " ('F', 'NF', 'NF', 'F', 'F', 'NF', 'F'),\n",
       " ('F', 'NF', 'NF', 'F', 'F', 'F', 'NF'),\n",
       " ('F', 'NF', 'NF', 'F', 'F', 'F', 'F'),\n",
       " ('F', 'NF', 'F', 'NF', 'NF', 'NF', 'NF'),\n",
       " ('F', 'NF', 'F', 'NF', 'NF', 'NF', 'F'),\n",
       " ('F', 'NF', 'F', 'NF', 'NF', 'F', 'NF'),\n",
       " ('F', 'NF', 'F', 'NF', 'NF', 'F', 'F'),\n",
       " ('F', 'NF', 'F', 'NF', 'F', 'NF', 'NF'),\n",
       " ('F', 'NF', 'F', 'NF', 'F', 'NF', 'F'),\n",
       " ('F', 'NF', 'F', 'NF', 'F', 'F', 'NF'),\n",
       " ('F', 'NF', 'F', 'NF', 'F', 'F', 'F'),\n",
       " ('F', 'NF', 'F', 'F', 'NF', 'NF', 'NF'),\n",
       " ('F', 'NF', 'F', 'F', 'NF', 'NF', 'F'),\n",
       " ('F', 'NF', 'F', 'F', 'NF', 'F', 'NF'),\n",
       " ('F', 'NF', 'F', 'F', 'NF', 'F', 'F'),\n",
       " ('F', 'NF', 'F', 'F', 'F', 'NF', 'NF'),\n",
       " ('F', 'NF', 'F', 'F', 'F', 'NF', 'F'),\n",
       " ('F', 'NF', 'F', 'F', 'F', 'F', 'NF'),\n",
       " ('F', 'NF', 'F', 'F', 'F', 'F', 'F'),\n",
       " ('F', 'F', 'NF', 'NF', 'NF', 'NF', 'NF'),\n",
       " ('F', 'F', 'NF', 'NF', 'NF', 'NF', 'F'),\n",
       " ('F', 'F', 'NF', 'NF', 'NF', 'F', 'NF'),\n",
       " ('F', 'F', 'NF', 'NF', 'NF', 'F', 'F'),\n",
       " ('F', 'F', 'NF', 'NF', 'F', 'NF', 'NF'),\n",
       " ('F', 'F', 'NF', 'NF', 'F', 'NF', 'F'),\n",
       " ('F', 'F', 'NF', 'NF', 'F', 'F', 'NF'),\n",
       " ('F', 'F', 'NF', 'NF', 'F', 'F', 'F'),\n",
       " ('F', 'F', 'NF', 'F', 'NF', 'NF', 'NF'),\n",
       " ('F', 'F', 'NF', 'F', 'NF', 'NF', 'F'),\n",
       " ('F', 'F', 'NF', 'F', 'NF', 'F', 'NF'),\n",
       " ('F', 'F', 'NF', 'F', 'NF', 'F', 'F'),\n",
       " ('F', 'F', 'NF', 'F', 'F', 'NF', 'NF'),\n",
       " ('F', 'F', 'NF', 'F', 'F', 'NF', 'F'),\n",
       " ('F', 'F', 'NF', 'F', 'F', 'F', 'NF'),\n",
       " ('F', 'F', 'NF', 'F', 'F', 'F', 'F'),\n",
       " ('F', 'F', 'F', 'NF', 'NF', 'NF', 'NF'),\n",
       " ('F', 'F', 'F', 'NF', 'NF', 'NF', 'F'),\n",
       " ('F', 'F', 'F', 'NF', 'NF', 'F', 'NF'),\n",
       " ('F', 'F', 'F', 'NF', 'NF', 'F', 'F'),\n",
       " ('F', 'F', 'F', 'NF', 'F', 'NF', 'NF'),\n",
       " ('F', 'F', 'F', 'NF', 'F', 'NF', 'F'),\n",
       " ('F', 'F', 'F', 'NF', 'F', 'F', 'NF'),\n",
       " ('F', 'F', 'F', 'NF', 'F', 'F', 'F'),\n",
       " ('F', 'F', 'F', 'F', 'NF', 'NF', 'NF'),\n",
       " ('F', 'F', 'F', 'F', 'NF', 'NF', 'F'),\n",
       " ('F', 'F', 'F', 'F', 'NF', 'F', 'NF'),\n",
       " ('F', 'F', 'F', 'F', 'NF', 'F', 'F'),\n",
       " ('F', 'F', 'F', 'F', 'F', 'NF', 'NF'),\n",
       " ('F', 'F', 'F', 'F', 'F', 'NF', 'F'),\n",
       " ('F', 'F', 'F', 'F', 'F', 'F', 'NF'),\n",
       " ('F', 'F', 'F', 'F', 'F', 'F', 'F')]"
      ]
     },
     "execution_count": 26,
     "metadata": {},
     "output_type": "execute_result"
    }
   ],
   "source": [
    "espaco_amostral02"
   ]
  },
  {
   "cell_type": "code",
   "execution_count": 27,
   "metadata": {
    "collapsed": false,
    "scrolled": true
   },
   "outputs": [
    {
     "data": {
      "text/plain": [
       "[0.6983372960937497,\n",
       " 0.03675459453124999,\n",
       " 0.03675459453124999,\n",
       " 0.0019344523437499997,\n",
       " 0.03675459453125,\n",
       " 0.0019344523437500002,\n",
       " 0.0019344523437499997,\n",
       " 0.00010181328125,\n",
       " 0.03675459453124999,\n",
       " 0.0019344523437499997,\n",
       " 0.0019344523437499997,\n",
       " 0.00010181328125,\n",
       " 0.0019344523437499997,\n",
       " 0.00010181328125,\n",
       " 0.00010181328125,\n",
       " 5.358593750000001e-06,\n",
       " 0.03675459453124999,\n",
       " 0.0019344523437499997,\n",
       " 0.0019344523437499997,\n",
       " 0.00010181328125,\n",
       " 0.0019344523437499997,\n",
       " 0.00010181328125,\n",
       " 0.00010181328125,\n",
       " 5.358593750000001e-06,\n",
       " 0.0019344523437499997,\n",
       " 0.00010181328125,\n",
       " 0.00010181328125,\n",
       " 5.358593750000001e-06,\n",
       " 0.00010181328125,\n",
       " 5.358593750000001e-06,\n",
       " 5.35859375e-06,\n",
       " 2.8203125e-07,\n",
       " 0.03675459453124999,\n",
       " 0.0019344523437499997,\n",
       " 0.0019344523437499997,\n",
       " 0.00010181328125,\n",
       " 0.0019344523437499997,\n",
       " 0.00010181328125,\n",
       " 0.00010181328125,\n",
       " 5.358593750000001e-06,\n",
       " 0.0019344523437499997,\n",
       " 0.00010181328125,\n",
       " 0.00010181328125,\n",
       " 5.358593750000001e-06,\n",
       " 0.00010181328125,\n",
       " 5.358593750000001e-06,\n",
       " 5.35859375e-06,\n",
       " 2.8203125e-07,\n",
       " 0.0019344523437500002,\n",
       " 0.00010181328125000002,\n",
       " 0.00010181328125000001,\n",
       " 5.358593750000001e-06,\n",
       " 0.00010181328125000001,\n",
       " 5.358593750000001e-06,\n",
       " 5.358593750000001e-06,\n",
       " 2.820312500000001e-07,\n",
       " 0.00010181328125000001,\n",
       " 5.358593750000001e-06,\n",
       " 5.358593750000001e-06,\n",
       " 2.820312500000001e-07,\n",
       " 5.358593750000001e-06,\n",
       " 2.820312500000001e-07,\n",
       " 2.820312500000001e-07,\n",
       " 1.4843750000000007e-08,\n",
       " 0.03675459453124999,\n",
       " 0.0019344523437499997,\n",
       " 0.0019344523437499997,\n",
       " 0.00010181328125,\n",
       " 0.0019344523437499997,\n",
       " 0.00010181328125,\n",
       " 0.00010181328125,\n",
       " 5.358593750000001e-06,\n",
       " 0.0019344523437499997,\n",
       " 0.00010181328125,\n",
       " 0.00010181328125,\n",
       " 5.358593750000001e-06,\n",
       " 0.00010181328125,\n",
       " 5.358593750000001e-06,\n",
       " 5.35859375e-06,\n",
       " 2.8203125e-07,\n",
       " 0.0019344523437500002,\n",
       " 0.00010181328125000002,\n",
       " 0.00010181328125000001,\n",
       " 5.358593750000001e-06,\n",
       " 0.00010181328125000001,\n",
       " 5.358593750000001e-06,\n",
       " 5.358593750000001e-06,\n",
       " 2.820312500000001e-07,\n",
       " 0.00010181328125000001,\n",
       " 5.358593750000001e-06,\n",
       " 5.358593750000001e-06,\n",
       " 2.820312500000001e-07,\n",
       " 5.358593750000001e-06,\n",
       " 2.820312500000001e-07,\n",
       " 2.820312500000001e-07,\n",
       " 1.4843750000000007e-08,\n",
       " 0.0019344523437500002,\n",
       " 0.00010181328125000002,\n",
       " 0.00010181328125000001,\n",
       " 5.358593750000001e-06,\n",
       " 0.00010181328125000001,\n",
       " 5.358593750000001e-06,\n",
       " 5.358593750000001e-06,\n",
       " 2.820312500000001e-07,\n",
       " 0.00010181328125000001,\n",
       " 5.358593750000001e-06,\n",
       " 5.358593750000001e-06,\n",
       " 2.820312500000001e-07,\n",
       " 5.358593750000001e-06,\n",
       " 2.820312500000001e-07,\n",
       " 2.820312500000001e-07,\n",
       " 1.4843750000000007e-08,\n",
       " 0.00010181328125000001,\n",
       " 5.358593750000001e-06,\n",
       " 5.358593750000001e-06,\n",
       " 2.820312500000001e-07,\n",
       " 5.358593750000001e-06,\n",
       " 2.820312500000001e-07,\n",
       " 2.820312500000001e-07,\n",
       " 1.4843750000000007e-08,\n",
       " 5.358593750000001e-06,\n",
       " 2.820312500000001e-07,\n",
       " 2.820312500000001e-07,\n",
       " 1.4843750000000007e-08,\n",
       " 2.820312500000001e-07,\n",
       " 1.4843750000000007e-08,\n",
       " 1.4843750000000005e-08,\n",
       " 7.812500000000004e-10]"
      ]
     },
     "execution_count": 27,
     "metadata": {},
     "output_type": "execute_result"
    }
   ],
   "source": [
    "prob_linhas02"
   ]
  },
  {
   "cell_type": "code",
   "execution_count": 28,
   "metadata": {
    "collapsed": false
   },
   "outputs": [
    {
     "data": {
      "text/plain": [
       "0.9999999999999992"
      ]
     },
     "execution_count": 28,
     "metadata": {},
     "output_type": "execute_result"
    }
   ],
   "source": [
    "sum(prob_linhas02)"
   ]
  },
  {
   "cell_type": "code",
   "execution_count": 29,
   "metadata": {
    "collapsed": false
   },
   "outputs": [
    {
     "name": "stdout",
     "output_type": "stream",
     "text": [
      "Número de resistores que falharam:  0  Probabilidade 0.69834 \n",
      "Número de resistores que falharam:  1  Probabilidade 0.25728 \n",
      "Número de resistores que falharam:  2  Probabilidade 0.04062 \n",
      "Número de resistores que falharam:  3  Probabilidade 0.00356 \n",
      "Número de resistores que falharam:  4  Probabilidade 0.00019 \n",
      "Número de resistores que falharam:  5  Probabilidade 0.00001 \n",
      "Número de resistores que falharam:  6  Probabilidade 0.00000 \n",
      "Número de resistores que falharam:  7  Probabilidade 0.00000 \n"
     ]
    }
   ],
   "source": [
    "for k in valores_X02:\n",
    "    print(\"Número de resistores que falharam: \", k, \" Probabilidade\", \"%6.5f \"%valores_X02[k])"
   ]
  },
  {
   "cell_type": "code",
   "execution_count": 30,
   "metadata": {
    "collapsed": false
   },
   "outputs": [
    {
     "name": "stdout",
     "output_type": "stream",
     "text": [
      "Média: 0.34921955468749993 \n",
      "Variância: 0.3298694371271424 \n",
      "Desvio Padrão: 0.5743426130169539\n"
     ]
    }
   ],
   "source": [
    "m = (0*valores_X02[0]+1*valores_X02[1]+2*valores_X02[2]+3*valores_X02[3])\n",
    "var = ((0-m)**2)*valores_X02[0]+((1-m)**2)*valores_X02[1]+((2-m)**2)*valores_X02[2]+((3-m)**2)*valores_X02[3]\n",
    "dp = (var)**(1/2)\n",
    "print(\"Média: {0} \\nVariância: {1} \\nDesvio Padrão: {2}\".format(m,var,dp))"
   ]
  },
  {
   "cell_type": "markdown",
   "metadata": {},
   "source": [
    "Percebe-se que quanto maior o número de resitores num pacote menor a chance de existirem resistirores defeituosos, ou seja, a construção da distribuição de probabilidades do número de resistores com defeitos quando  \"n\"  não é pequeno não é viável."
   ]
  },
  {
   "cell_type": "code",
   "execution_count": 36,
   "metadata": {
    "collapsed": false
   },
   "outputs": [
    {
     "data": {
      "text/plain": [
       "0.0071250000000000072"
      ]
     },
     "execution_count": 36,
     "metadata": {},
     "output_type": "execute_result"
    }
   ],
   "source": [
    "# item 3\n",
    "stats.binom.pmf(2, 3, 0.05)"
   ]
  },
  {
   "cell_type": "code",
   "execution_count": 50,
   "metadata": {
    "collapsed": false
   },
   "outputs": [
    {
     "data": {
      "text/plain": [
       "0.00018755078124999986"
      ]
     },
     "execution_count": 50,
     "metadata": {},
     "output_type": "execute_result"
    }
   ],
   "source": [
    "stats.binom.pmf(4, 7, 0.05)"
   ]
  },
  {
   "cell_type": "code",
   "execution_count": 45,
   "metadata": {
    "collapsed": false
   },
   "outputs": [
    {
     "data": {
      "text/plain": [
       "1.0"
      ]
     },
     "execution_count": 45,
     "metadata": {},
     "output_type": "execute_result"
    }
   ],
   "source": [
    "stats.binom.cdf(3, 3, 0.05)"
   ]
  },
  {
   "cell_type": "code",
   "execution_count": 42,
   "metadata": {
    "collapsed": false
   },
   "outputs": [
    {
     "data": {
      "text/plain": [
       "1.0"
      ]
     },
     "execution_count": 42,
     "metadata": {},
     "output_type": "execute_result"
    }
   ],
   "source": [
    "stats.binom.cdf(7, 7, 0.05)"
   ]
  },
  {
   "cell_type": "code",
   "execution_count": 43,
   "metadata": {
    "collapsed": false
   },
   "outputs": [
    {
     "data": {
      "text/plain": [
       "(array(0.15000000000000002), array(0.14250000000000002))"
      ]
     },
     "execution_count": 43,
     "metadata": {},
     "output_type": "execute_result"
    }
   ],
   "source": [
    "stats.binom.stats(3, 0.05, moments='mv')"
   ]
  },
  {
   "cell_type": "code",
   "execution_count": 44,
   "metadata": {
    "collapsed": false
   },
   "outputs": [
    {
     "data": {
      "text/plain": [
       "(array(0.35000000000000003), array(0.3325))"
      ]
     },
     "execution_count": 44,
     "metadata": {},
     "output_type": "execute_result"
    }
   ],
   "source": [
    "stats.binom.stats(7, 0.05, moments='mv')"
   ]
  },
  {
   "cell_type": "markdown",
   "metadata": {
    "collapsed": true
   },
   "source": [
    "___\n",
    "## <font color='blue'>Exercício 2</font>\n",
    "\n",
    "Uma fábrica produz determinado veículo. O gerente de vendas fechou um negócio que implica na produção de pelo menos 110 unidades nos próximos dois meses. Para isso, será construída uma nova linha de montagem com capacidade para produzir em média 50 veículos por mês (considere meses de 30 dias). A linha funcionará ininterruptamente. Além disso, apenas um veículo é produzido por vez. Considere que um modelo Poisson seja adequado para a quantidade de veículos produzidos.\n",
    "   1. Qual a probabilidade  da produção ser igual a 100 veículos nos próximos dois meses?\n",
    "   2. Qual a probabilidade  da produção ser de pelo menos 100 veículos nos próximos dois meses?\n",
    "   3. Qual a probabilidade da produção ser entre 100 e 110 veículos nos próximos dois meses?\n",
    "   4. Se forem produzidos de pelo menos 100 veículos no próximo mês, qual a probabilidade do gerente cumprir a meta negociada?\n",
    "   5. Caso o prazo seja cumprido, o lucro será da ordem de $250$ mil, caso não seja, o lucro cai para $200$ mil. Qual é o lucro esperado e seu desvio-padrão?\n",
    "\n",
    "**Observação:** Explore os comandos de `stats.poisson`. <sup>[http://docs.scipy.org/doc/scipy/reference/generated/scipy.stats.poisson.html]\n"
   ]
  },
  {
   "cell_type": "code",
   "execution_count": null,
   "metadata": {
    "collapsed": true
   },
   "outputs": [],
   "source": []
  },
  {
   "cell_type": "markdown",
   "metadata": {},
   "source": [
    "___\n",
    "## <font color='blue'>Exercício 3</font> \n",
    "### <font color='red'>**Check para dia 13/09 em DUPLA **</font>\n",
    "\n",
    "Esse exercício irá explorar uma modelagem de dados reais.\n",
    "\n",
    "> **Confira alguns itens obrigatórios verificados durante a vistoria do Detran**\n",
    "\n",
    "> *Todos os veículos, novos ou velhos, precisam passar por uma vistoria todos os anos. (...) O motorista precisa estar atento a alguns itens obrigatórios. Tudo deve funcionar perfeitamente, apresentar bom estado de conservação e estar dentro do prazo de validade.*\n",
    "\n",
    "> <sup>Fonte: http://extra.globo.com/noticias/brasil/transito-seguro/confira-alguns-itens-obrigatorios-verificados-durante-vistoria-do-detran-10190355.html</sup>\n",
    "\n",
    "Essa matéria lista 14 itens que são inspecionados pelo Detran, dentre os quais têm-se: extintor de incêndio deve estar dentro do prazo de validade; pneus devem estar em bom estado de conservação; buzina deve funcionar perfeitamente; e cintos de segurança para todos os ocupantes do carro. Se, no final das contas, todos os 14 itens estiverem funcionando perfeitamente, o motorista irá feliz para casa assegurado de que seu carro está sem problemas com a vistoria.\n",
    "\n",
    "1. A base de dados `Carros.txt` apresenta, para cada um dos três mil carros de passeio vistoriados, duas informações: tipo de carro (1: Popular e 2: Não Popular) e quantidade de itens vistoriados em não conformidade (que pode variar de 0 a 14). \n",
    "    1. Considerando todos os carros, analise a quantidade de itens vistoriados em não conformidade. Pela tabela de frequências relativas, calcule a média e variância dessa quantidade. Interprete-os.\n",
    "    2. Assuma que a variável *Quantidade de itens em não conformidade* possa ser ajustada pelo modelo Binomial com parâmetros $n=14$ e $p=0,10$. Interprete esses parâmetros para o problema em questão e, ainda, discuta se as propriedades da distribuição Binomial estão satisfeitas para o problema aqui me questão.\n",
    "    \n",
    "    **Independente da sua resposta anterior, considere que a distribuição binomial seja adequada para modelar a variável de interesse nos próximos itens!**\n",
    "    3. Utilizando o método `stats.binom.pmf`, obtenha a probabilidade de cada uma das quantidades de itens em não conformidade quando $n=14$ e $p=0,10$. Calcule o valor esperado e a variância da quantidade de itens em não conformidade utilizando o método `stats.binom.stats` e via resultado da Tabela 4.4 do Magalhães e Lima (pág. 125).\n",
    "    4. Compare as probabilidades teóricas com as frequências relativas observadas nos dados. Para isso, tem-se, por exemplo, as duas opções abaixo para comparar se os resultados empíricos se encaixam com o modelo teórico proposto. \n",
    "        - A primeira opção gráfica contrasta a frequência relativa e a probabilidade teórica para uma determinada quantidade de itens em não conformidade! Vide Figura 3.4 do livro Magalhães e Lima (pág. 87). Ou seja, essa opção contrasta a frequência relativa em um valor de $y$ e a probabilidade pontual $P(Y=y)$.\n",
    "        - A segunda contrasta a frequência relativa acumulada com a probabilidade acumulada até determinada quantidade de itens em não conformidade. Ou seja, compara a frequência relativa acumulada até $y$ com a probabilidade acumulada $P(Y\\leq y)$.\n",
    "    Construa os gráficos de acordo com as duas opções e refine sua conclusão quanto ao uso do modelo teórico para ajustar a variável em questão!\n",
    "    5. Na prática, qual a necessidade de um modelo probabilístico já que se têm os dados observados?\n",
    "    6. Considerando apenas os carros populares, o modelo Binomial com parâmetros $n=14$ e $p=0,10$ é adequado para ajustar a variável Quantidade de itens em não conformidade? Se sim, justifique; caso não, sugira novos valores para os parâmetros da distribuição ajuste aos dados."
   ]
  },
  {
   "cell_type": "code",
   "execution_count": 51,
   "metadata": {
    "collapsed": false
   },
   "outputs": [
    {
     "name": "stdout",
     "output_type": "stream",
     "text": [
      "Esperamos trabalhar no diretório\n",
      "C:\\Users\\Patrick Wiegerinck\\Documents\\2 Semestre\\Ciência dos Dados\n"
     ]
    }
   ],
   "source": [
    "import os\n",
    "print('Esperamos trabalhar no diretório')\n",
    "print(os.getcwd())\n",
    "carros = pd.read_table('Carros.txt', sep=' ')"
   ]
  },
  {
   "cell_type": "code",
   "execution_count": 52,
   "metadata": {
    "collapsed": false
   },
   "outputs": [
    {
     "data": {
      "text/html": [
       "<div>\n",
       "<table border=\"1\" class=\"dataframe\">\n",
       "  <thead>\n",
       "    <tr style=\"text-align: right;\">\n",
       "      <th></th>\n",
       "      <th>Tipo</th>\n",
       "      <th>Quantidade</th>\n",
       "    </tr>\n",
       "  </thead>\n",
       "  <tbody>\n",
       "    <tr>\n",
       "      <th>1</th>\n",
       "      <td>1</td>\n",
       "      <td>0</td>\n",
       "    </tr>\n",
       "    <tr>\n",
       "      <th>2</th>\n",
       "      <td>1</td>\n",
       "      <td>2</td>\n",
       "    </tr>\n",
       "    <tr>\n",
       "      <th>3</th>\n",
       "      <td>1</td>\n",
       "      <td>2</td>\n",
       "    </tr>\n",
       "    <tr>\n",
       "      <th>4</th>\n",
       "      <td>1</td>\n",
       "      <td>3</td>\n",
       "    </tr>\n",
       "    <tr>\n",
       "      <th>5</th>\n",
       "      <td>1</td>\n",
       "      <td>1</td>\n",
       "    </tr>\n",
       "  </tbody>\n",
       "</table>\n",
       "</div>"
      ],
      "text/plain": [
       "   Tipo  Quantidade\n",
       "1     1           0\n",
       "2     1           2\n",
       "3     1           2\n",
       "4     1           3\n",
       "5     1           1"
      ]
     },
     "execution_count": 52,
     "metadata": {},
     "output_type": "execute_result"
    }
   ],
   "source": [
    "carros.head()"
   ]
  },
  {
   "cell_type": "markdown",
   "metadata": {},
   "source": [
    "# A"
   ]
  },
  {
   "cell_type": "code",
   "execution_count": 81,
   "metadata": {
    "collapsed": false
   },
   "outputs": [
    {
     "data": {
      "text/plain": [
       "1    0.316667\n",
       "0    0.288000\n",
       "2    0.221333\n",
       "3    0.108333\n",
       "4    0.046333\n",
       "5    0.015667\n",
       "6    0.002667\n",
       "7    0.000667\n",
       "8    0.000333\n",
       "Name: Quantidade, dtype: float64"
      ]
     },
     "execution_count": 81,
     "metadata": {},
     "output_type": "execute_result"
    }
   ],
   "source": [
    "carros.Quantidade.value_counts(True)"
   ]
  },
  {
   "cell_type": "code",
   "execution_count": 82,
   "metadata": {
    "collapsed": false
   },
   "outputs": [
    {
     "data": {
      "text/plain": [
       "1.3713333333333333"
      ]
     },
     "execution_count": 82,
     "metadata": {},
     "output_type": "execute_result"
    }
   ],
   "source": [
    "carros.Quantidade.mean()"
   ]
  },
  {
   "cell_type": "code",
   "execution_count": 101,
   "metadata": {
    "collapsed": false
   },
   "outputs": [
    {
     "data": {
      "text/plain": [
       "1.5799715460709343"
      ]
     },
     "execution_count": 101,
     "metadata": {},
     "output_type": "execute_result"
    }
   ],
   "source": [
    "v = carros.Quantidade.var()\n",
    "v"
   ]
  },
  {
   "cell_type": "code",
   "execution_count": 102,
   "metadata": {
    "collapsed": false
   },
   "outputs": [
    {
     "data": {
      "text/plain": [
       "1.2569691905814295"
      ]
     },
     "execution_count": 102,
     "metadata": {},
     "output_type": "execute_result"
    }
   ],
   "source": [
    "v**(1/2)"
   ]
  },
  {
   "cell_type": "markdown",
   "metadata": {},
   "source": [
    "# B"
   ]
  },
  {
   "cell_type": "markdown",
   "metadata": {},
   "source": [
    "O teorema do binômio não é adequado para avaliar a probabilidade de todos os carros estarem ou não conforme as regulamentações do Detran, pois existem diferentes tipos de carros, com diferentes probabilidades de existirem peças quebradas."
   ]
  },
  {
   "cell_type": "markdown",
   "metadata": {},
   "source": [
    "# C"
   ]
  },
  {
   "cell_type": "code",
   "execution_count": 116,
   "metadata": {
    "collapsed": false
   },
   "outputs": [],
   "source": [
    "pr = []\n",
    "n=14\n",
    "#carros.Quantidade"
   ]
  },
  {
   "cell_type": "code",
   "execution_count": 117,
   "metadata": {
    "collapsed": false
   },
   "outputs": [],
   "source": [
    "for y in range(n+1):\n",
    "    pr.append(stats.binom.pmf(y,14,0.1))"
   ]
  },
  {
   "cell_type": "code",
   "execution_count": 118,
   "metadata": {
    "collapsed": false
   },
   "outputs": [
    {
     "data": {
      "text/plain": [
       "[0.22876792454960998,\n",
       " 0.35586121596606141,\n",
       " 0.2570108781977114,\n",
       " 0.11422705697676022,\n",
       " 0.034902711854010011,\n",
       " 0.0077561581897800267,\n",
       " 0.0012926930316300015,\n",
       " 0.00016415149608000069,\n",
       " 1.5959173230000058e-05,\n",
       " 1.1821609800000021e-06,\n",
       " 6.5675610000000304e-08,\n",
       " 2.6535600000000108e-09,\n",
       " 7.3710000000000372e-11,\n",
       " 1.2600000000000108e-12,\n",
       " 1.0000000000000058e-14]"
      ]
     },
     "execution_count": 118,
     "metadata": {},
     "output_type": "execute_result"
    }
   ],
   "source": [
    "pr"
   ]
  },
  {
   "cell_type": "code",
   "execution_count": 120,
   "metadata": {
    "collapsed": false,
    "scrolled": true
   },
   "outputs": [
    {
     "name": "stdout",
     "output_type": "stream",
     "text": [
      "1.4000000000000001 1.2600000000000002\n"
     ]
    }
   ],
   "source": [
    "esp, var = stats.binom.stats(n, 0.1, moments='mv')\n",
    "print (esp, var)"
   ]
  },
  {
   "cell_type": "markdown",
   "metadata": {},
   "source": [
    "# D"
   ]
  },
  {
   "cell_type": "code",
   "execution_count": 131,
   "metadata": {
    "collapsed": false
   },
   "outputs": [
    {
     "data": {
      "text/plain": [
       "<matplotlib.text.Text at 0x1f4977ddbe0>"
      ]
     },
     "execution_count": 131,
     "metadata": {},
     "output_type": "execute_result"
    },
    {
     "data": {
      "image/png": "[encoded data removed]",
      "text/plain": [
       "<matplotlib.figure.Figure at 0x1f4977c8b70>"
      ]
     },
     "metadata": {},
     "output_type": "display_data"
    }
   ],
   "source": [
    "plt.plot(pr,\"o\")\n",
    "plt.plot(carros.Quantidade.value_counts(True),\"o\")\n",
    "plt.legend((\"Prático\",\"Teórico\"))\n",
    "plt.xlabel(\"Número de materiais quebrados\")\n",
    "plt.ylabel(\"Probabilidade de sucesso\")"
   ]
  },
  {
   "cell_type": "markdown",
   "metadata": {},
   "source": [
    "O gráfico acima apresenta as probabilidades de existirem diferentes combinações. A probabilidade é maior das combinações que apresentam menos peças quebradas."
   ]
  },
  {
   "cell_type": "markdown",
   "metadata": {},
   "source": [
    "# E"
   ]
  },
  {
   "cell_type": "markdown",
   "metadata": {},
   "source": [
    "Um modelo probabilístico é importante para que seja possível prever e simular diferentes situações a partir de um modelo menor, ou seja, o modelo facilita a análise de uma situação real."
   ]
  },
  {
   "cell_type": "markdown",
   "metadata": {},
   "source": [
    "# F"
   ]
  },
  {
   "cell_type": "markdown",
   "metadata": {},
   "source": [
    "O modelo Binomial com as especificações utilizadas acima não é adequado, pois cada carro, \"popular\" ou \"não popular\", apresenta diferentes características e, portanto, diferentes probabilidades de sucesso. Abaixo segue a probabilidade ideal para os carros populares."
   ]
  },
  {
   "cell_type": "code",
   "execution_count": 132,
   "metadata": {
    "collapsed": false
   },
   "outputs": [
    {
     "name": "stdout",
     "output_type": "stream",
     "text": [
      "1.82 1.5834000000000001\n"
     ]
    }
   ],
   "source": [
    "esp, var = stats.binom.stats(n, 0.13, moments='mv')\n",
    "print (esp, var)"
   ]
  },
  {
   "cell_type": "code",
   "execution_count": 133,
   "metadata": {
    "collapsed": false
   },
   "outputs": [
    {
     "data": {
      "text/plain": [
       "<matplotlib.text.Text at 0x1f49785f358>"
      ]
     },
     "execution_count": 133,
     "metadata": {},
     "output_type": "execute_result"
    },
    {
     "data": {
      "image/png": "[encoded data removed]",
      "text/plain": [
       "<matplotlib.figure.Figure at 0x1f4977f0780>"
      ]
     },
     "metadata": {},
     "output_type": "display_data"
    }
   ],
   "source": [
    "pr = []\n",
    "n=14\n",
    "for y in range(n+1):\n",
    "    pr.append(stats.binom.pmf(y,14,0.13))\n",
    "plt.plot(pr,\"o\")\n",
    "plt.plot(carros.Quantidade.value_counts(True),\"o\")\n",
    "plt.legend((\"Prático\",\"Teórico\"))\n",
    "plt.xlabel(\"Número de materiais quebrados\")\n",
    "plt.ylabel(\"Probabilidade de sucesso\")"
   ]
  }
 ],
 "metadata": {
  "anaconda-cloud": {},
  "kernelspec": {
   "display_name": "Python 3",
   "language": "python",
   "name": "python3"
  },
  "language_info": {
   "codemirror_mode": {
    "name": "ipython",
    "version": 3
   },
   "file_extension": ".py",
   "mimetype": "text/x-python",
   "name": "python",
   "nbconvert_exporter": "python",
   "pygments_lexer": "ipython3",
   "version": "3.5.2"
  }
 },
 "nbformat": 4,
 "nbformat_minor": 0
}
