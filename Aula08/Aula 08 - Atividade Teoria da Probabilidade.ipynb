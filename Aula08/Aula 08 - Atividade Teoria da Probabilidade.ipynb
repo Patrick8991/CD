{
 "cells": [
  {
   "cell_type": "markdown",
   "metadata": {},
   "source": [
    "___\n",
    "# Atividade: Teoria da Probabilidade\n",
    "___\n",
    "\n",
    "## Aula 08\n",
    "\n",
    "**Referência de Leitura:**\n",
    "1. Magalhães e Lima (7ª. Edição): pág. 49 a 68 - Probabilidades\n",
    "\n",
    "**Hoje:**\n",
    "1. Conceito de Probabilidade\n",
    "4. Probabilidade Condicional\n",
    "3. Independência de eventos\n",
    "5. Teorema de Bayes. Simulação do problema de Monty Hall\n",
    "\n",
    "**Próxima aula:**\n",
    "1. Magalhães e Lima (7ª. Edição): pág. 69 a 104 - Variáveis aleatórias discretas\n",
    "___"
   ]
  },
  {
   "cell_type": "code",
   "execution_count": 1,
   "metadata": {
    "collapsed": true
   },
   "outputs": [],
   "source": [
    "%matplotlib inline\n",
    "import pandas as pd\n",
    "import matplotlib.pyplot as plt\n",
    "\n",
    "#Bibliotecas necessárias\n",
    "from numpy.random import shuffle, randint, choice\n",
    "import numpy as np"
   ]
  },
  {
   "cell_type": "markdown",
   "metadata": {},
   "source": [
    "## <font color='blue'>Exercício 1</font>\n",
    "\n",
    "Monte a simulação de 1000 jogadas de um dado idôneo de 6 faces. Faça o histograma (normalizado) da frequência.\n",
    "\n",
    "    a) Olhando o histograma, o que pode se dizer sobre as probabilidade de cada face?\n",
    "    \n",
    "    b) Discorra sobre o porque da probabilidade não ser exatamente igual à teórica."
   ]
  },
  {
   "cell_type": "code",
   "execution_count": 6,
   "metadata": {
    "collapsed": false
   },
   "outputs": [
    {
     "data": {
      "text/plain": [
       "<Container object of 6 artists>"
      ]
     },
     "execution_count": 6,
     "metadata": {},
     "output_type": "execute_result"
    },
    {
     "data": {
      "image/png": "[encoded data removed]",
      "text/plain": [
       "<matplotlib.figure.Figure at 0x2029b4c0828>"
      ]
     },
     "metadata": {},
     "output_type": "display_data"
    }
   ],
   "source": [
    "def dice_roll(number):\n",
    "    counts = [0] * 6\n",
    "    for i in range(number):\n",
    "        roll = randint(1,7)\n",
    "        counts[roll - 1] += 1\n",
    "    return counts\n",
    "\n",
    "n = 1000\n",
    "dr = dice_roll(n)\n",
    "\n",
    "pos = np.arange(len(dr))\n",
    "width = 1.0\n",
    "\n",
    "plt.bar(pos, dr, width)"
   ]
  },
  {
   "cell_type": "markdown",
   "metadata": {},
   "source": [
    "## a)\n",
    "Em relação a probabilidade de cada face pode-se dizer que são muito próximas, visto que no histograma acima todos as colunas tem um número muito semelhante de ocorrências."
   ]
  },
  {
   "cell_type": "markdown",
   "metadata": {},
   "source": [
    "## b)\n",
    "A probabilidade prática de todas as ocorrências de cada face ser igual a probabilidade teórica não é provavável, uma vez que a queda teórica representa uma probabilidade e não uma certeza, indicando que o número de ocorrências de cada face do dado se assemelhará à teórica."
   ]
  },
  {
   "cell_type": "markdown",
   "metadata": {},
   "source": [
    "___\n",
    "## <font color='blue'>Exercício 2</font>\n",
    "\n",
    "Ampliando o espaço amostral para as possíveis jogadas de 2 dados, analise as seguintes situações:\n",
    "    \n",
    "    a) Jogando os dois dados ao mesmo tempo. Qual é a probabilidade de obter soma 7?\n",
    "    \n",
    "    b) Jogando um dado e depois o segundo dado. Qual é a probabilidade de obter soma 7 já sabendo o resultado do primeiro? Compare o resultado com item anterior! Por que é igual ou diferente?"
   ]
  },
  {
   "cell_type": "code",
   "execution_count": 72,
   "metadata": {
    "collapsed": false
   },
   "outputs": [
    {
     "data": {
      "text/plain": [
       "<Container object of 12 artists>"
      ]
     },
     "execution_count": 72,
     "metadata": {},
     "output_type": "execute_result"
    },
    {
     "data": {
      "image/png": "[encoded data removed]",
      "text/plain": [
       "<matplotlib.figure.Figure at 0x11db6632f98>"
      ]
     },
     "metadata": {},
     "output_type": "display_data"
    }
   ],
   "source": [
    "def two_dice(number):\n",
    "    counts = [0] * 12\n",
    "    for i in range(number):\n",
    "        roll1 = randint(1,7)\n",
    "        roll2 = randint(1,7)\n",
    "        counts[(roll1+roll2)-1] += 1\n",
    "    return counts\n",
    "\n",
    "n = 1000\n",
    "td = two_dice(n)\n",
    "\n",
    "pos = np.arange(len(td))\n",
    "width = 1.0\n",
    "\n",
    "plt.bar(pos, td, width)"
   ]
  },
  {
   "cell_type": "code",
   "execution_count": 116,
   "metadata": {
    "collapsed": false
   },
   "outputs": [
    {
     "name": "stdout",
     "output_type": "stream",
     "text": [
      "Número de ocorrências da soma 2:\n",
      "30\n",
      "Número de ocorrências da soma 3:\n",
      "45\n",
      "Número de ocorrências da soma 4:\n",
      "89\n",
      "Número de ocorrências da soma 5:\n",
      "103\n",
      "Número de ocorrências da soma 6:\n",
      "150\n",
      "Número de ocorrências da soma 7:\n",
      "156\n",
      "Número de ocorrências da soma 8:\n",
      "164\n",
      "Número de ocorrências da soma 9:\n",
      "104\n",
      "Número de ocorrências da soma 10:\n",
      "81\n",
      "Número de ocorrências da soma 11:\n",
      "50\n",
      "Número de ocorrências da soma 12:\n",
      "28\n"
     ]
    }
   ],
   "source": [
    "for i in range(1,12):\n",
    "    print(\"Número de ocorrências da soma {0}:\".format(i+1))\n",
    "    print(td[i])"
   ]
  },
  {
   "cell_type": "markdown",
   "metadata": {},
   "source": [
    "## a)"
   ]
  },
  {
   "cell_type": "code",
   "execution_count": 74,
   "metadata": {
    "collapsed": false
   },
   "outputs": [
    {
     "name": "stdout",
     "output_type": "stream",
     "text": [
      "Probabilidade de se obter a soma 7 é de 15.6%.\n"
     ]
    }
   ],
   "source": [
    "# Probabilidade de se obter a soma 7\n",
    "\n",
    "P = (td[6]/1000)*100\n",
    "print(\"Probabilidade de se obter a soma 7 é de {0}%.\".format(P))"
   ]
  },
  {
   "cell_type": "markdown",
   "metadata": {},
   "source": [
    "## b)\n",
    "A probabilidade da soma dos dados reslutar em 7 é igual a, aproximadamente, 16.7%, uma vez que já conhecendo a face do primeiro dado haverá sempre apens um número, entre seis, que somado à primeira face resultará na soma 7. Perceb-se que essa probabilidade se deu muito próxima da probabilidade calculada no item anterior, pois o resultado do fenômeno aleatório do segundo evento é independente do resultado do primeiro evento."
   ]
  },
  {
   "cell_type": "markdown",
   "metadata": {},
   "source": [
    "___\n",
    "## <font color='blue'>Exercício 3</font>\n",
    "\n",
    "Simule 10000 vezes o problema de Monty Hall¹ , usar o seguinte algoritmo:\n",
    "\n",
    "\n",
    "* Repetir 10000 vezes:\n",
    "    * Sorteie um número de porta de 1 a 3 para ser a premiada\n",
    "    * Sorteie um número de porta de 1 a 3 para ser a porta escolhida.\n",
    "    * Sorteie um número de porta para ser a aberta, desde que não seja a premiada e nem a porta escolhida. Assim, se:\n",
    "        * porta premiada é 1 e a escolhida é 1, sorteie entre as portas 2 e 3 para ser aberta\n",
    "        * porta premiada é 1 e a escolhida é 2, com probabilidade 1 deve abrir a porta 3\n",
    "        * porta premiada é 1 e a escolhida é 3, com probabilidade 1 deve abrir a porta 2\n",
    "        * assim para demais casos...\n",
    "    \n",
    "    * Calcule quantas vezes indivíduo ganha ao trocar de porta. Ou seja, se:\n",
    "        * porta premiada é 1, a escolhida é 1 e aberta é 2 (ou 3), indivíduo perde se trocar de porta\n",
    "        * porta premiada é 1, a escolhida é 2 e aberta é 3, indivíduo ganha se trocar de porta\n",
    "        * porta premiada é 1, a escolhida é 3 e aberta é 2, indivíduo ganha se trocar de porta\n",
    "        * assim para demais casos...\n",
    "        \n",
    "    * Exibir quantas vezes em 10000, o indivíduo ganhou ao trocar de porta.\n",
    "\n",
    "Compare o resultado numérico com o resultado analítico obtido via Teorema de Bayes.\n",
    "\n",
    "¹https://en.wikipedia.org/wiki/Monty_Hall_problem e \n",
    "Exercício 1.4.5 de http://www.portalaction.com.br/probabilidades/14-eventos-independentes-e-probabilidade-condicional"
   ]
  },
  {
   "cell_type": "code",
   "execution_count": 113,
   "metadata": {
    "collapsed": false
   },
   "outputs": [
    {
     "name": "stdout",
     "output_type": "stream",
     "text": [
      "Ao trocar de porta obteve-se 6656 vitórias, em oposição à 3344 derrotas.\n",
      "\n",
      "A porcentagem de vitórias foi de 66.56%.\n",
      "A porcentagem de derrotas foi de 33.44%.\n"
     ]
    }
   ],
   "source": [
    "def Monty_Hall(games):\n",
    "    doors = [\"cabra\",\"cabra\",\"carro\"]\n",
    "    g_wins = 0\n",
    "    g_loses = 0\n",
    "\n",
    "    for i in range(games):\n",
    "        shuffle(doors)\n",
    "        n = choice(doors)\n",
    "        sequence = [0,1,2]\n",
    "        shuffle(sequence)\n",
    "        for k in sequence:\n",
    "            if doors[k] == n or doors[k] == \"carro\":\n",
    "                continue\n",
    "        if n == \"carro\":\n",
    "            g_loses += 1\n",
    "        else:\n",
    "            g_wins += 1\n",
    "    return(g_wins,g_loses)\n",
    "\n",
    "games = 10000\n",
    "MH = Monty_Hall(games)\n",
    "\n",
    "print(\"Ao trocar de porta obteve-se {0} vitórias, em oposição à {1} derrotas.\\n\".format(MH[0], MH[1]))\n",
    "print(\"A porcentagem de vitórias foi de {0}%.\".format(100 * (MH[0]/10000)))\n",
    "print(\"A porcentagem de derrotas foi de {0}%.\".format(100 * (MH[1]/10000)))"
   ]
  }
 ],
 "metadata": {
  "anaconda-cloud": {},
  "kernelspec": {
   "display_name": "Python 3",
   "language": "python",
   "name": "python3"
  },
  "language_info": {
   "codemirror_mode": {
    "name": "ipython",
    "version": 3
   },
   "file_extension": ".py",
   "mimetype": "text/x-python",
   "name": "python",
   "nbconvert_exporter": "python",
   "pygments_lexer": "ipython3",
   "version": "3.5.2"
  }
 },
 "nbformat": 4,
 "nbformat_minor": 0
}
