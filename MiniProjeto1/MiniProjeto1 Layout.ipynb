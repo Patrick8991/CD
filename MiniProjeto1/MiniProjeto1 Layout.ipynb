{
 "cells": [
  {
   "cell_type": "markdown",
   "metadata": {},
   "source": [
    "___\n",
    "# MINIPROJETO 1"
   ]
  },
  {
   "cell_type": "markdown",
   "metadata": {},
   "source": [
    "## <font color='red'>Patrick Serrano Wiegerinck</font>\n",
    "___"
   ]
  },
  {
   "cell_type": "markdown",
   "metadata": {},
   "source": [
    "## <font color='blue'>Uso de energia no mundo (kg de petróleo per capita)</font>"
   ]
  },
  {
   "cell_type": "markdown",
   "metadata": {},
   "source": [
    " No projeto a seguir será analisado a variável quantitativa da quantidade de energia que é utilizada no mundo per capita em um ano, em kg de petróleo. O espaço amostral utilizado para realizar esse trabalho foi de, aproximadamente, 239 países, simulando a realidade do mundo. O objetivo é analisar o uso de energia em um ano por todos os países cadastrados na base de dados do World Bank, de forma a calcular a frequência de países consumirem certo nível de energia em kg de petróleo.\n",
    " \n",
    " link do base de dados: http://data.worldbank.org/indicator/EG.USE.PCAP.KG.OE?view=chart"
   ]
  },
  {
   "cell_type": "markdown",
   "metadata": {},
   "source": [
    "___\n",
    "### Itens 1 a 3 - Resolução:"
   ]
  },
  {
   "cell_type": "markdown",
   "metadata": {},
   "source": [
    "##### Importando as ferramentas necessárias para a realização do projeto"
   ]
  },
  {
   "cell_type": "code",
   "execution_count": 310,
   "metadata": {
    "collapsed": false
   },
   "outputs": [
    {
     "name": "stdout",
     "output_type": "stream",
     "text": [
      "Esperamos trabalhar no diretório\n",
      "C:\\Users\\Patrick Wiegerinck\\Documents\\2 Semestre\\Ciência dos Dados\\Mini Projeto 1\n"
     ]
    }
   ],
   "source": [
    "%matplotlib inline\n",
    "import pandas as pd\n",
    "import matplotlib.pyplot as plt\n",
    "import numpy as np\n",
    "import os\n",
    "from scipy import stats\n",
    "import pylab as pl\n",
    "\n",
    "print('Esperamos trabalhar no diretório')\n",
    "print(os.getcwd())"
   ]
  },
  {
   "cell_type": "markdown",
   "metadata": {},
   "source": [
    "##### Realizando a leitura da base de dados"
   ]
  },
  {
   "cell_type": "code",
   "execution_count": 311,
   "metadata": {
    "collapsed": false
   },
   "outputs": [],
   "source": [
    "ENE = pd.read_excel('ENERGIA1.xlsx', sep=\" \")"
   ]
  },
  {
   "cell_type": "code",
   "execution_count": 312,
   "metadata": {
    "collapsed": false
   },
   "outputs": [
    {
     "data": {
      "text/html": [
       "<div>\n",
       "<table border=\"1\" class=\"dataframe\">\n",
       "  <thead>\n",
       "    <tr style=\"text-align: right;\">\n",
       "      <th></th>\n",
       "      <th>Country Name</th>\n",
       "      <th>Country Code</th>\n",
       "      <th>Indicator Name</th>\n",
       "      <th>Indicator Code</th>\n",
       "      <th>1960</th>\n",
       "      <th>1961</th>\n",
       "      <th>1962</th>\n",
       "      <th>1963</th>\n",
       "      <th>1964</th>\n",
       "      <th>1965</th>\n",
       "      <th>...</th>\n",
       "      <th>2006</th>\n",
       "      <th>2007</th>\n",
       "      <th>2008</th>\n",
       "      <th>2009</th>\n",
       "      <th>2010</th>\n",
       "      <th>2011</th>\n",
       "      <th>2012</th>\n",
       "      <th>a2013</th>\n",
       "      <th>2014</th>\n",
       "      <th>2015</th>\n",
       "    </tr>\n",
       "  </thead>\n",
       "  <tbody>\n",
       "    <tr>\n",
       "      <th>0</th>\n",
       "      <td>Aruba</td>\n",
       "      <td>ABW</td>\n",
       "      <td>Energy use (kg of oil equivalent per capita)</td>\n",
       "      <td>EG.USE.PCAP.KG.OE</td>\n",
       "      <td>NaN</td>\n",
       "      <td>NaN</td>\n",
       "      <td>NaN</td>\n",
       "      <td>NaN</td>\n",
       "      <td>NaN</td>\n",
       "      <td>NaN</td>\n",
       "      <td>...</td>\n",
       "      <td>NaN</td>\n",
       "      <td>NaN</td>\n",
       "      <td>NaN</td>\n",
       "      <td>NaN</td>\n",
       "      <td>NaN</td>\n",
       "      <td>NaN</td>\n",
       "      <td>NaN</td>\n",
       "      <td>NaN</td>\n",
       "      <td>NaN</td>\n",
       "      <td>NaN</td>\n",
       "    </tr>\n",
       "    <tr>\n",
       "      <th>1</th>\n",
       "      <td>Andorra</td>\n",
       "      <td>AND</td>\n",
       "      <td>Energy use (kg of oil equivalent per capita)</td>\n",
       "      <td>EG.USE.PCAP.KG.OE</td>\n",
       "      <td>NaN</td>\n",
       "      <td>NaN</td>\n",
       "      <td>NaN</td>\n",
       "      <td>NaN</td>\n",
       "      <td>NaN</td>\n",
       "      <td>NaN</td>\n",
       "      <td>...</td>\n",
       "      <td>NaN</td>\n",
       "      <td>NaN</td>\n",
       "      <td>NaN</td>\n",
       "      <td>NaN</td>\n",
       "      <td>NaN</td>\n",
       "      <td>NaN</td>\n",
       "      <td>NaN</td>\n",
       "      <td>NaN</td>\n",
       "      <td>NaN</td>\n",
       "      <td>NaN</td>\n",
       "    </tr>\n",
       "    <tr>\n",
       "      <th>2</th>\n",
       "      <td>Afghanistan</td>\n",
       "      <td>AFG</td>\n",
       "      <td>Energy use (kg of oil equivalent per capita)</td>\n",
       "      <td>EG.USE.PCAP.KG.OE</td>\n",
       "      <td>NaN</td>\n",
       "      <td>NaN</td>\n",
       "      <td>NaN</td>\n",
       "      <td>NaN</td>\n",
       "      <td>NaN</td>\n",
       "      <td>NaN</td>\n",
       "      <td>...</td>\n",
       "      <td>NaN</td>\n",
       "      <td>NaN</td>\n",
       "      <td>NaN</td>\n",
       "      <td>NaN</td>\n",
       "      <td>NaN</td>\n",
       "      <td>NaN</td>\n",
       "      <td>NaN</td>\n",
       "      <td>NaN</td>\n",
       "      <td>NaN</td>\n",
       "      <td>NaN</td>\n",
       "    </tr>\n",
       "    <tr>\n",
       "      <th>3</th>\n",
       "      <td>Angola</td>\n",
       "      <td>AGO</td>\n",
       "      <td>Energy use (kg of oil equivalent per capita)</td>\n",
       "      <td>EG.USE.PCAP.KG.OE</td>\n",
       "      <td>NaN</td>\n",
       "      <td>NaN</td>\n",
       "      <td>NaN</td>\n",
       "      <td>NaN</td>\n",
       "      <td>NaN</td>\n",
       "      <td>NaN</td>\n",
       "      <td>...</td>\n",
       "      <td>542.108669</td>\n",
       "      <td>561.550106</td>\n",
       "      <td>589.420122</td>\n",
       "      <td>620.638746</td>\n",
       "      <td>632.248119</td>\n",
       "      <td>638.642146</td>\n",
       "      <td>689.050938</td>\n",
       "      <td>654.905481</td>\n",
       "      <td>NaN</td>\n",
       "      <td>NaN</td>\n",
       "    </tr>\n",
       "    <tr>\n",
       "      <th>4</th>\n",
       "      <td>Albania</td>\n",
       "      <td>ALB</td>\n",
       "      <td>Energy use (kg of oil equivalent per capita)</td>\n",
       "      <td>EG.USE.PCAP.KG.OE</td>\n",
       "      <td>NaN</td>\n",
       "      <td>NaN</td>\n",
       "      <td>NaN</td>\n",
       "      <td>NaN</td>\n",
       "      <td>NaN</td>\n",
       "      <td>NaN</td>\n",
       "      <td>...</td>\n",
       "      <td>689.300452</td>\n",
       "      <td>679.861765</td>\n",
       "      <td>697.004120</td>\n",
       "      <td>722.583867</td>\n",
       "      <td>724.562919</td>\n",
       "      <td>770.340267</td>\n",
       "      <td>685.956403</td>\n",
       "      <td>800.568726</td>\n",
       "      <td>NaN</td>\n",
       "      <td>NaN</td>\n",
       "    </tr>\n",
       "  </tbody>\n",
       "</table>\n",
       "<p>5 rows × 60 columns</p>\n",
       "</div>"
      ],
      "text/plain": [
       "  Country Name Country Code                                Indicator Name  \\\n",
       "0        Aruba          ABW  Energy use (kg of oil equivalent per capita)   \n",
       "1      Andorra          AND  Energy use (kg of oil equivalent per capita)   \n",
       "2  Afghanistan          AFG  Energy use (kg of oil equivalent per capita)   \n",
       "3       Angola          AGO  Energy use (kg of oil equivalent per capita)   \n",
       "4      Albania          ALB  Energy use (kg of oil equivalent per capita)   \n",
       "\n",
       "      Indicator Code  1960  1961  1962  1963  1964  1965  ...         2006  \\\n",
       "0  EG.USE.PCAP.KG.OE   NaN   NaN   NaN   NaN   NaN   NaN  ...          NaN   \n",
       "1  EG.USE.PCAP.KG.OE   NaN   NaN   NaN   NaN   NaN   NaN  ...          NaN   \n",
       "2  EG.USE.PCAP.KG.OE   NaN   NaN   NaN   NaN   NaN   NaN  ...          NaN   \n",
       "3  EG.USE.PCAP.KG.OE   NaN   NaN   NaN   NaN   NaN   NaN  ...   542.108669   \n",
       "4  EG.USE.PCAP.KG.OE   NaN   NaN   NaN   NaN   NaN   NaN  ...   689.300452   \n",
       "\n",
       "         2007        2008        2009        2010        2011        2012  \\\n",
       "0         NaN         NaN         NaN         NaN         NaN         NaN   \n",
       "1         NaN         NaN         NaN         NaN         NaN         NaN   \n",
       "2         NaN         NaN         NaN         NaN         NaN         NaN   \n",
       "3  561.550106  589.420122  620.638746  632.248119  638.642146  689.050938   \n",
       "4  679.861765  697.004120  722.583867  724.562919  770.340267  685.956403   \n",
       "\n",
       "        a2013  2014  2015  \n",
       "0         NaN   NaN   NaN  \n",
       "1         NaN   NaN   NaN  \n",
       "2         NaN   NaN   NaN  \n",
       "3  654.905481   NaN   NaN  \n",
       "4  800.568726   NaN   NaN  \n",
       "\n",
       "[5 rows x 60 columns]"
      ]
     },
     "execution_count": 312,
     "metadata": {},
     "output_type": "execute_result"
    }
   ],
   "source": [
    "ENE.head()"
   ]
  },
  {
   "cell_type": "code",
   "execution_count": 313,
   "metadata": {
    "collapsed": false
   },
   "outputs": [
    {
     "data": {
      "text/plain": [
       "(264, 60)"
      ]
     },
     "execution_count": 313,
     "metadata": {},
     "output_type": "execute_result"
    }
   ],
   "source": [
    "ENE.shape"
   ]
  },
  {
   "cell_type": "markdown",
   "metadata": {},
   "source": [
    "##### Delimeitando a variável que será utilizada no projeto"
   ]
  },
  {
   "cell_type": "code",
   "execution_count": 314,
   "metadata": {
    "collapsed": false
   },
   "outputs": [],
   "source": [
    "e = pd.DataFrame()\n",
    "e[\"Ano_2013\"] = ENE[~ENE.a2013.isnull()].a2013"
   ]
  },
  {
   "cell_type": "markdown",
   "metadata": {},
   "source": [
    "##### Descrevendo as características da variável que será analisada no projeto"
   ]
  },
  {
   "cell_type": "code",
   "execution_count": 315,
   "metadata": {
    "collapsed": false
   },
   "outputs": [
    {
     "data": {
      "text/plain": [
       "count      181.000000\n",
       "mean      2435.924120\n",
       "std       2849.268962\n",
       "min         59.120066\n",
       "25%        670.790705\n",
       "50%       1466.608239\n",
       "75%       3019.819231\n",
       "max      19120.344284\n",
       "Name: Ano_2013, dtype: float64"
      ]
     },
     "execution_count": 315,
     "metadata": {},
     "output_type": "execute_result"
    }
   ],
   "source": [
    "e[\"Ano_2013\"].describe()"
   ]
  },
  {
   "cell_type": "markdown",
   "metadata": {},
   "source": [
    "##### Criando a faixa que será utilizada para plotar o histograma da variável"
   ]
  },
  {
   "cell_type": "code",
   "execution_count": 316,
   "metadata": {
    "collapsed": true
   },
   "outputs": [],
   "source": [
    "faixa = np.arange(0,20000,250)"
   ]
  },
  {
   "cell_type": "markdown",
   "metadata": {},
   "source": [
    "## Histograma da Variável"
   ]
  },
  {
   "cell_type": "code",
   "execution_count": 317,
   "metadata": {
    "collapsed": false
   },
   "outputs": [
    {
     "data": {
      "text/plain": [
       "<matplotlib.text.Text at 0x1a9b8c9ccf8>"
      ]
     },
     "execution_count": 317,
     "metadata": {},
     "output_type": "execute_result"
    },
    {
     "data": {
      "image/png": "[encoded data removed]",
      "text/plain": [
       "<matplotlib.figure.Figure at 0x1a9b8c96048>"
      ]
     },
     "metadata": {},
     "output_type": "display_data"
    }
   ],
   "source": [
    "plot = e.Ano_2013.plot.hist(bins=faixa, normed=True)\n",
    "plt.xlabel(\"Energia/ kg de petróleo\")\n",
    "plt.ylabel(\"Frequência Relativa\")\n",
    "plt.title(\"Histogrma de Energia\")"
   ]
  },
  {
   "cell_type": "markdown",
   "metadata": {},
   "source": [
    " Como pode ser visto pelo histograma, a variável escolhida resulta num gráfico assimétrico à direita, ou positivo, uma vez que a moda é menor que a mediana, que, por sua vez, é menor que a média."
   ]
  },
  {
   "cell_type": "markdown",
   "metadata": {
    "collapsed": true
   },
   "source": [
    "___\n",
    "### Itens 4 a 6 - Resolução:"
   ]
  },
  {
   "cell_type": "markdown",
   "metadata": {
    "collapsed": true
   },
   "source": [
    "## Tipo de distribuição:\n",
    " A variável escolhida é contínua, pois os valores representados no eixo \"x\" podem apresentar valores não inteiros, uma vez que a quantidade de energia, em kg de petróleo, utilizados per capita não será necessariamente um valor inteiro."
   ]
  },
  {
   "cell_type": "markdown",
   "metadata": {},
   "source": [
    "## Distribuição Lognormal"
   ]
  },
  {
   "cell_type": "code",
   "execution_count": 318,
   "metadata": {
    "collapsed": false
   },
   "outputs": [
    {
     "data": {
      "text/plain": [
       "<matplotlib.text.Text at 0x1a9b8b0ce80>"
      ]
     },
     "execution_count": 318,
     "metadata": {},
     "output_type": "execute_result"
    },
    {
     "data": {
      "image/png": "[encoded data removed]",
      "text/plain": [
       "<matplotlib.figure.Figure at 0x1a9b8a02668>"
      ]
     },
     "metadata": {},
     "output_type": "display_data"
    }
   ],
   "source": [
    "x = sorted(e.Ano_2013)\n",
    "plt.plot(x, stats.lognorm.pdf(x, 1.6, loc= 0, scale=2849.2),'r-', lw=5, alpha=0.6, label='lognorm pdf')\n",
    "plot = e.Ano_2013.plot.hist(bins=faixa, normed=True)\n",
    "plt.xlabel(\"Energia/ kg de petróleo\")\n",
    "plt.ylabel(\"Frequência Relativa\")"
   ]
  },
  {
   "cell_type": "markdown",
   "metadata": {},
   "source": [
    "## Distribuição Weibull"
   ]
  },
  {
   "cell_type": "code",
   "execution_count": 319,
   "metadata": {
    "collapsed": false
   },
   "outputs": [
    {
     "data": {
      "text/plain": [
       "<matplotlib.text.Text at 0x1a9b8f0dd30>"
      ]
     },
     "execution_count": 319,
     "metadata": {},
     "output_type": "execute_result"
    },
    {
     "data": {
      "image/png": "[encoded data removed]",
      "text/plain": [
       "<matplotlib.figure.Figure at 0x1a9b8b61710>"
      ]
     },
     "metadata": {},
     "output_type": "display_data"
    }
   ],
   "source": [
    "x = sorted(e.Ano_2013)\n",
    "plt.plot(x, stats.weibull_min.pdf(x, 1.6, loc= 0, scale=2849.2),'r-', lw=5, alpha=0.6, label='lognorm pdf')\n",
    "plot = e.Ano_2013.plot.hist(bins=faixa, normed=True)\n",
    "plt.xlabel(\"Energia/ kg de petróleo\")\n",
    "plt.ylabel(\"Frequência Relativa\")"
   ]
  },
  {
   "cell_type": "markdown",
   "metadata": {},
   "source": [
    "## Utilização do comando .fit() para estimar os valores dos parâmetros"
   ]
  },
  {
   "cell_type": "markdown",
   "metadata": {},
   "source": [
    "## Lognormal "
   ]
  },
  {
   "cell_type": "markdown",
   "metadata": {},
   "source": [
    "##### Geração dos parâmetros da distribuição lognormal por meio da ferramenta fit"
   ]
  },
  {
   "cell_type": "code",
   "execution_count": 320,
   "metadata": {
    "collapsed": false
   },
   "outputs": [
    {
     "data": {
      "text/plain": [
       "(6.4962676043377989, 59.120065724854896, 4.1605574348361216)"
      ]
     },
     "execution_count": 320,
     "metadata": {},
     "output_type": "execute_result"
    }
   ],
   "source": [
    "a = stats.lognorm.fit(x)\n",
    "a"
   ]
  },
  {
   "cell_type": "markdown",
   "metadata": {},
   "source": [
    "#### Comparação entre a função com os parâmetros estimados no item 5 em relação ao dos estimados pelo comando fit"
   ]
  },
  {
   "cell_type": "code",
   "execution_count": 321,
   "metadata": {
    "collapsed": false
   },
   "outputs": [
    {
     "data": {
      "text/plain": [
       "<matplotlib.text.Text at 0x1a9ba059208>"
      ]
     },
     "execution_count": 321,
     "metadata": {},
     "output_type": "execute_result"
    },
    {
     "data": {
      "image/png": "[encoded data removed]",
      "text/plain": [
       "<matplotlib.figure.Figure at 0x1a9b9f4c5c0>"
      ]
     },
     "metadata": {},
     "output_type": "display_data"
    }
   ],
   "source": [
    "plt.plot(x, stats.lognorm.pdf(x, a[0], loc= a[1], scale=a[2]),'r-', lw=5, alpha=0.6, label='lognorm pdf')\n",
    "plt.plot(x, stats.lognorm.pdf(x, 1.6, loc= 0, scale=2849.2), lw=5, alpha=0.6, label='lognorm pdf')\n",
    "plot = e.Ano_2013.plot.hist(bins=faixa, normed=True)\n",
    "plt.xlabel(\"Energia/ kg de petróleo\")\n",
    "plt.ylabel(\"Frequência Relativa\")"
   ]
  },
  {
   "cell_type": "markdown",
   "metadata": {},
   "source": [
    "O gráfico acima se apresenta dessa forma, pois os parâmetros gerados pelo comando fit não apresentam uma boa simulação do comportamento do histograma da variável analisada."
   ]
  },
  {
   "cell_type": "markdown",
   "metadata": {},
   "source": [
    "## Weibull"
   ]
  },
  {
   "cell_type": "markdown",
   "metadata": {},
   "source": [
    "##### Geração dos parâmetros da distribuição de Weibull por meio da ferramenta fit"
   ]
  },
  {
   "cell_type": "code",
   "execution_count": 322,
   "metadata": {
    "collapsed": false
   },
   "outputs": [
    {
     "data": {
      "text/plain": [
       "(0.96738106641231991, 59.120065724854896, 2324.7249690164745)"
      ]
     },
     "execution_count": 322,
     "metadata": {},
     "output_type": "execute_result"
    }
   ],
   "source": [
    "b = stats.weibull_min.fit(x)\n",
    "b"
   ]
  },
  {
   "cell_type": "markdown",
   "metadata": {},
   "source": [
    "#### Comparação entre a função com os parâmetros estimados no item 5 em relação ao dos estimados pelo comando fit"
   ]
  },
  {
   "cell_type": "code",
   "execution_count": 323,
   "metadata": {
    "collapsed": false,
    "scrolled": true
   },
   "outputs": [
    {
     "data": {
      "text/plain": [
       "<matplotlib.text.Text at 0x1a9ba1cf160>"
      ]
     },
     "execution_count": 323,
     "metadata": {},
     "output_type": "execute_result"
    },
    {
     "data": {
      "image/png": "[encoded data removed]",
      "text/plain": [
       "<matplotlib.figure.Figure at 0x1a9ba097978>"
      ]
     },
     "metadata": {},
     "output_type": "display_data"
    }
   ],
   "source": [
    "plt.plot(x, stats.weibull_min.pdf(x, b[0], loc= b[1], scale=b[2]),'r-', lw=5, alpha=0.6, label='lognorm pdf')\n",
    "plt.plot(x, stats.weibull_min.pdf(x, 1.6, loc= 0, scale=2849.2), lw=5, alpha=0.6, label='lognorm pdf')\n",
    "plot = e.Ano_2013.plot.hist(bins=faixa, normed=True)\n",
    "plt.xlabel(\"Energia/ kg de petróleo\")\n",
    "plt.ylabel(\"Frequência Relativa\")"
   ]
  },
  {
   "cell_type": "markdown",
   "metadata": {},
   "source": [
    "## Escolha dos parâmetros mais adequados para a análise da variável contínua\n",
    "Como pode ser visto de primeira mão pelos gráficos plotados acima os parâmetros estimados pelo comando fit não são totalmente verdadeiros em relação aos histogramas plotados acima. No caso da função Lognormal os parâmetros estimados pelo fit não podem ser utilizados para simular o comportamento do histograma, já no caso da função de Weibull os parâmetros estimados pelo fit podem ser utilizados para simular o comportamento do histograma, porém ele poderia ser adaptado com a modificação do valor do parâmetro \"loc\" de 59 para 0."
   ]
  },
  {
   "cell_type": "markdown",
   "metadata": {
    "collapsed": true
   },
   "source": [
    "___\n",
    "### Itens 7 a 9 - Resolução:"
   ]
  },
  {
   "cell_type": "markdown",
   "metadata": {},
   "source": [
    "## Gráfico do Histograma com a distrubuição da Lognormal e de Weibull"
   ]
  },
  {
   "cell_type": "code",
   "execution_count": 324,
   "metadata": {
    "collapsed": false
   },
   "outputs": [
    {
     "data": {
      "text/plain": [
       "<matplotlib.legend.Legend at 0x1a9ba4740b8>"
      ]
     },
     "execution_count": 324,
     "metadata": {},
     "output_type": "execute_result"
    },
    {
     "data": {
      "image/png": "[encoded data removed]",
      "text/plain": [
       "<matplotlib.figure.Figure at 0x1a9ba085cf8>"
      ]
     },
     "metadata": {},
     "output_type": "display_data"
    }
   ],
   "source": [
    "plot = e.Ano_2013.plot.hist(bins=faixa, normed=True)\n",
    "plt.plot(x, stats.weibull_min.pdf(x, b[0], loc= 0, scale=b[2]), lw=5, alpha=0.6, label='lognorm pdf')\n",
    "plt.plot(x, stats.lognorm.pdf(x, 1.6, loc= 0, scale=2849.2),'r-', lw=5, alpha=0.6, label='lognorm pdf')\n",
    "plt.legend((\"Weibull\",\"Lognormal\",\"Histograma\"))"
   ]
  },
  {
   "cell_type": "markdown",
   "metadata": {},
   "source": [
    "O gráfico acima representa o união da distribuição lognormal, com os parâmetros estimados sem o comando fit, da distribuição de Weibull, com os parâmetros estimados pelo comando fit, com excessão do \"loc\", que foi substituído por 0, e do histograma da variável analisada."
   ]
  },
  {
   "cell_type": "markdown",
   "metadata": {},
   "source": [
    "## Q-Q Plot das distribuições com os parâmetros estimados sem o comando fit"
   ]
  },
  {
   "cell_type": "code",
   "execution_count": 346,
   "metadata": {
    "collapsed": false
   },
   "outputs": [
    {
     "data": {
      "image/png": "[encoded data removed]",
      "text/plain": [
       "<matplotlib.figure.Figure at 0x1a9baf35ac8>"
      ]
     },
     "metadata": {},
     "output_type": "display_data"
    }
   ],
   "source": [
    "ea2013 = pd.Series(sorted(e.Ano_2013.dropna()))\n",
    "\n",
    "fra = [] # frequencia relativa acumulada\n",
    "for i in range(len(ea2013)):\n",
    "    acc = (i - 0.5) / len(ea2013)\n",
    "    if acc < 0:\n",
    "        acc = 0\n",
    "    fra.append(acc)\n",
    "\n",
    "fra = pd.Series(data=fra)\n",
    "\n",
    "# Gera os valores dos quantis teóricos para as distribuições analisadas\n",
    "q_ln0 = stats.lognorm.ppf(fra, 1.6, loc=0, scale=2849.2) # quantis teóricos da exponencial\n",
    "q_wb0 = stats.weibull_min.ppf(fra, 1.6, loc=0, scale=2849.2)\n",
    "\n",
    "fig = plt.figure(figsize=(12,8))\n",
    "\n",
    "plt.title(\"Q-Q plot: Dados x Lognorm x Weibull\")\n",
    "\n",
    "ln_plot, = plt.plot(ea2013, q_ln0, 'o', color=\"red\", label=\"Lognorm\")\n",
    "wb_plot, = plt.plot(ea2013, q_wb0, 'o', color=\"green\", label = \"Weibull\")\n",
    "\n",
    "plt.legend(handles=[ln_plot, wb_plot])\n",
    "plt.plot((min(ea2013), max(ea2013)), (min(ea2013), max(ea2013)), '-')\n",
    "\n",
    "\n",
    "for i in range(len(ea2013)):\n",
    "    plt.plot((ea2013[i], ea2013[i]), (q_ln0[i], ea2013[i]), '-', color='red', alpha=0.3  )\n",
    "    plt.plot((ea2013[i], ea2013[i]), (q_wb0[i], ea2013[i]), '-', color='green', alpha=0.3  )\n"
   ]
  },
  {
   "cell_type": "markdown",
   "metadata": {},
   "source": [
    "A partir do gráfico pode-se analisar que a distribuição lognormal, com os parâmetros adotados nesse caso, não simulam bem o comportamento do histograma da variável, uma vez que os pontos plotados por essa distribuição fogem da bissetriz representada pela reta azul. Isso não vale para a distribuição de Weibull, que apesar de fugir parcialmente da reta azul, apresenta uma simulação mais real da variável analisada."
   ]
  },
  {
   "cell_type": "markdown",
   "metadata": {},
   "source": [
    "## Testes de aderência que usam a cumulativa com os parâmetros estimados sem o fit"
   ]
  },
  {
   "cell_type": "code",
   "execution_count": 348,
   "metadata": {
    "collapsed": false
   },
   "outputs": [
    {
     "data": {
      "image/png": "[encoded data removed]",
      "text/plain": [
       "<matplotlib.figure.Figure at 0x1a9bcfa9ac8>"
      ]
     },
     "metadata": {},
     "output_type": "display_data"
    }
   ],
   "source": [
    "# fra e FDA\n",
    "cdf_lognormal0 = stats.lognorm.cdf(ea2013, 1.6, loc=0, scale=2849.2) #FDA\n",
    "cdf_weibull0 = stats.weibull_min.cdf(ea2013, 1.6, loc=0, scale=2849.2)\n",
    "\n",
    "\n",
    "fig = plt.figure(figsize=(12,8))\n",
    "\n",
    "plt.title(\"Cumulativa: Dados x Lognormal x Weibull\")\n",
    "\n",
    "dados_fra_plot, = plt.plot(ea2013, fra, '-', color='black', label=\"F.R.A dos dados\")\n",
    "cdf_ln_plot,   = plt.plot(ea2013, cdf_lognormal0, '-', color='red', label = \"Cumulativa da lognormal\")\n",
    "cdf_wb_plot, = plt.plot(ea2013, cdf_weibull0, '-', color='green', label = \"Cumulativa de Weibull\")\n",
    "\n",
    "plt.legend(handles=[dados_fra_plot, cdf_ln_plot, cdf_wb_plot])\n",
    "\n",
    "\n",
    "for i in range(len(ea2013)):\n",
    "    plt.plot((ea2013[i], ea2013[i]), (fra[i], cdf_lognormal0[i]), ':', color=\"red\", alpha=0.3)\n",
    "    #Omitido para não poluir muito o gráfico\n",
    "    plt.plot((ea2013[i], ea2013[i]), (fra[i], cdf_weibull0[i]), '--', color=\"green\", alpha=0.3)"
   ]
  },
  {
   "cell_type": "markdown",
   "metadata": {},
   "source": [
    "Percebe-se nesse gráfico como a distribuição lognormal não representa a frequência relativa acumulada dos dados da variável analisada. O mesmo acontece com a de Weibull, porém numa escala muito menor."
   ]
  },
  {
   "cell_type": "markdown",
   "metadata": {},
   "source": [
    "## Q-Q Plot das distribuições com os parâmetros estimados com o comando fit"
   ]
  },
  {
   "cell_type": "markdown",
   "metadata": {},
   "source": [
    "### Distribuição Lognormal"
   ]
  },
  {
   "cell_type": "code",
   "execution_count": 366,
   "metadata": {
    "collapsed": false
   },
   "outputs": [
    {
     "data": {
      "image/png": "[encoded data removed]",
      "text/plain": [
       "<matplotlib.figure.Figure at 0x1a9babc09b0>"
      ]
     },
     "metadata": {},
     "output_type": "display_data"
    }
   ],
   "source": [
    "ea2013 = pd.Series(sorted(e.Ano_2013.dropna()))\n",
    "\n",
    "fra = [] # frequencia relativa acumulada\n",
    "for i in range(len(ea2013)):\n",
    "    acc = (i - 0.5) / len(ea2013)\n",
    "    if acc < 0:\n",
    "        acc = 0\n",
    "    fra.append(acc)\n",
    "\n",
    "fra = pd.Series(data=fra)\n",
    "\n",
    "# Gera os valores dos quantis teóricos para as distribuições analisadas\n",
    "q_ln1 = stats.lognorm.ppf(fra, a[0], loc=a[1], scale=a[2]) # quantis teóricos da exponencial\n",
    "\n",
    "fig = plt.figure(figsize=(12,8))\n",
    "\n",
    "plt.title(\"Q-Q plot: Dados x Lognorm x Weibull\")\n",
    "\n",
    "ln_plot, = plt.plot(ea2013, q_ln1, 'o', color=\"red\", label=\"Lognorm\")\n",
    "\n",
    "plt.legend(handles=[ln_plot])\n",
    "plt.plot((min(ea2013), max(ea2013)), (min(ea2013), max(ea2013)), '-')\n",
    "\n",
    "\n",
    "for i in range(len(ea2013)):\n",
    "    plt.plot((ea2013[i], ea2013[i]), (q_ln1[i], ea2013[i]), '-', color='red', alpha=0.3  )"
   ]
  },
  {
   "cell_type": "markdown",
   "metadata": {},
   "source": [
    "A partir do gráfico a seguir percebe-se que a distribuição lognormal, com os parâmetros estimados pelo comando fit, não representa o comportamento do histograma da variável analisada, visto como os pontos daquela foge da reta azul."
   ]
  },
  {
   "cell_type": "markdown",
   "metadata": {},
   "source": [
    "### Distribuição de Weibull"
   ]
  },
  {
   "cell_type": "code",
   "execution_count": 367,
   "metadata": {
    "collapsed": false
   },
   "outputs": [
    {
     "data": {
      "image/png": "[encoded data removed]",
      "text/plain": [
       "<matplotlib.figure.Figure at 0x1a9b70bd5f8>"
      ]
     },
     "metadata": {},
     "output_type": "display_data"
    }
   ],
   "source": [
    "ea2013 = pd.Series(sorted(e.Ano_2013.dropna()))\n",
    "\n",
    "fra = [] # frequencia relativa acumulada\n",
    "for i in range(len(ea2013)):\n",
    "    acc = (i - 0.5) / len(ea2013)\n",
    "    if acc < 0:\n",
    "        acc = 0\n",
    "    fra.append(acc)\n",
    "\n",
    "fra = pd.Series(data=fra)\n",
    "\n",
    "# Gera os valores dos quantis teóricos para as distribuições analisadas\n",
    "q_wb1 = stats.weibull_min.ppf(fra, b[0], loc=b[1], scale=b[2])\n",
    "\n",
    "fig = plt.figure(figsize=(12,8))\n",
    "\n",
    "plt.title(\"Q-Q plot: Dados x Lognorm x Weibull\")\n",
    "\n",
    "wb_plot, = plt.plot(ea2013, q_wb1, 'o', color=\"green\", label = \"Weibull\")\n",
    "\n",
    "plt.legend(handles=[wb_plot])\n",
    "plt.plot((min(ea2013), max(ea2013)), (min(ea2013), max(ea2013)), '-')\n",
    "\n",
    "\n",
    "for i in range(len(ea2013)):\n",
    "    plt.plot((ea2013[i], ea2013[i]), (q_wb1[i], ea2013[i]), '-', color='green', alpha=0.3  )"
   ]
  },
  {
   "cell_type": "markdown",
   "metadata": {},
   "source": [
    "A partir do gráfico acima percebe-se como a distribuição de Weibull, com os parâmetros estimados pelo comando fit, representa de forma muito mais eficiente o comportamento do histograma da variável analisada, do que a distribuição lognormal."
   ]
  },
  {
   "cell_type": "markdown",
   "metadata": {},
   "source": [
    "## Testes de aderência que usam a cumulativa com os parâmetros estimados com o fit"
   ]
  },
  {
   "cell_type": "code",
   "execution_count": 350,
   "metadata": {
    "collapsed": false
   },
   "outputs": [
    {
     "data": {
      "image/png": "[encoded data removed]",
      "text/plain": [
       "<matplotlib.figure.Figure at 0x1a9b5f30390>"
      ]
     },
     "metadata": {},
     "output_type": "display_data"
    }
   ],
   "source": [
    "# fra e FDA\n",
    "cdf_lognormal1 = stats.lognorm.cdf(ea2013, a[0], loc=a[1], scale=a[2]) #FDA\n",
    "cdf_weibull1 = stats.weibull_min.cdf(ea2013, b[0], loc=b[1], scale=b[2])\n",
    "\n",
    "\n",
    "fig = plt.figure(figsize=(12,8))\n",
    "\n",
    "plt.title(\"Cumulativa: Dados x Lognormal x Weibull\")\n",
    "\n",
    "dados_fra_plot, = plt.plot(ea2013, fra, '-', color='black', label=\"F.R.A dos dados\")\n",
    "cdf_ln_plot,   = plt.plot(ea2013, cdf_lognormal1, '-', color='red', label = \"Cumulativa da lognormal\")\n",
    "cdf_wb_plot, = plt.plot(ea2013, cdf_weibull1, '-', color='green', label = \"Cumulativa de Weibull\")\n",
    "\n",
    "plt.legend(handles=[dados_fra_plot, cdf_ln_plot, cdf_wb_plot])\n",
    "\n",
    "\n",
    "for i in range(len(ea2013)):\n",
    "    plt.plot((ea2013[i], ea2013[i]), (fra[i], cdf_lognormal1[i]), ':', color=\"red\", alpha=0.3)\n",
    "    #Omitido para não poluir muito o gráfico\n",
    "    plt.plot((ea2013[i], ea2013[i]), (fra[i], cdf_weibull1[i]), '--', color=\"green\", alpha=0.3)"
   ]
  },
  {
   "cell_type": "markdown",
   "metadata": {},
   "source": [
    "O gráfico acima é mais uma evidência de como a distribuição lognormal, com os parâmetros estimados pelo comando fit, não simula a frequência relativa acumulada da variável. A distribuição de Weibull, porém, representa de forma muito eficiente a frequência relativa acumulada, visto que a linha da Cumulativa de Weibull acompanha de forma muito semelhante a F.R.A. dos dados da variável."
   ]
  },
  {
   "cell_type": "markdown",
   "metadata": {},
   "source": [
    "___\n",
    "### Itens 10 e 11 - Resolução:"
   ]
  },
  {
   "cell_type": "markdown",
   "metadata": {},
   "source": [
    "## Testes de aderência que usam a diferença entre quantis"
   ]
  },
  {
   "cell_type": "markdown",
   "metadata": {},
   "source": [
    "### <font color='red'>Parâmetros sem fit</font>"
   ]
  },
  {
   "cell_type": "markdown",
   "metadata": {},
   "source": [
    "### Erro quadrático"
   ]
  },
  {
   "cell_type": "code",
   "execution_count": 352,
   "metadata": {
    "collapsed": false
   },
   "outputs": [
    {
     "name": "stdout",
     "output_type": "stream",
     "text": [
      "Erro quadrático da lognormal : 40230061324.917\n",
      "\n",
      "Erro quadrático da weibull : 452755084.011\n",
      "\n"
     ]
    }
   ],
   "source": [
    "erro_quadratico_lognormal0 = sum((ea2013 - q_ln0)**2)\n",
    "erro_quadratico_weibull0 = sum((ea2013 - q_wb0)**2)\n",
    "\n",
    "print(\"Erro quadrático da lognormal : {:4.3f}\\n\".format(erro_quadratico_lognormal0))\n",
    "print(\"Erro quadrático da weibull : {:4.3f}\\n\".format(erro_quadratico_weibull0))"
   ]
  },
  {
   "cell_type": "markdown",
   "metadata": {},
   "source": [
    "### Erro quadrático médio"
   ]
  },
  {
   "cell_type": "code",
   "execution_count": 353,
   "metadata": {
    "collapsed": false
   },
   "outputs": [
    {
     "name": "stdout",
     "output_type": "stream",
     "text": [
      "Erro quadratico médio da lognormal : 222265532.18186328\n",
      "Erro quadratico médio da weibull : 2501409.3039302123\n"
     ]
    }
   ],
   "source": [
    "eqm_ln0 = erro_quadratico_lognormal0/len(ea2013)\n",
    "eqm_wb0 = erro_quadratico_weibull0/len(ea2013)\n",
    "\n",
    "print(\"Erro quadratico médio da lognormal : {0}\".format(eqm_ln0))\n",
    "print(\"Erro quadratico médio da weibull : {0}\".format(eqm_wb0))"
   ]
  },
  {
   "cell_type": "markdown",
   "metadata": {},
   "source": [
    "### Soma de diferenças"
   ]
  },
  {
   "cell_type": "code",
   "execution_count": 355,
   "metadata": {
    "collapsed": false
   },
   "outputs": [
    {
     "name": "stdout",
     "output_type": "stream",
     "text": [
      "Soma de diferenças da lognormal : 1094402.0696457822\n",
      "Soma de diferenças da weibull : 145419.8972812302\n"
     ]
    }
   ],
   "source": [
    "soma_diferenças_lognormal0 = sum(abs(ea2013 - q_ln0))\n",
    "soma_diferenças_weibull0 = sum(abs(ea2013 - q_wb0))\n",
    "\n",
    "print(\"Soma de diferenças da lognormal : {0}\".format(soma_diferenças_lognormal0))\n",
    "print(\"Soma de diferenças da weibull : {0}\".format(soma_diferenças_weibull0))"
   ]
  },
  {
   "cell_type": "markdown",
   "metadata": {},
   "source": [
    "### <font color='red'>Parâmetros com fit</font>"
   ]
  },
  {
   "cell_type": "markdown",
   "metadata": {},
   "source": [
    "### Erro quadrático"
   ]
  },
  {
   "cell_type": "code",
   "execution_count": 356,
   "metadata": {
    "collapsed": false
   },
   "outputs": [
    {
     "name": "stdout",
     "output_type": "stream",
     "text": [
      "Erro quadrático da lognormal : 629089564218145.000\n",
      "\n",
      "Erro quadrático da weibull : 153762972.841\n",
      "\n"
     ]
    }
   ],
   "source": [
    "erro_quadratico_lognormal1 = sum((ea2013 - q_ln1)**2)\n",
    "erro_quadratico_weibull1 = sum((ea2013 - q_wb1)**2)\n",
    "\n",
    "print(\"Erro quadrático da lognormal : {:4.3f}\\n\".format(erro_quadratico_lognormal1))\n",
    "print(\"Erro quadrático da weibull : {:4.3f}\\n\".format(erro_quadratico_weibull1))"
   ]
  },
  {
   "cell_type": "markdown",
   "metadata": {},
   "source": [
    "### Erro quadrático médio"
   ]
  },
  {
   "cell_type": "code",
   "execution_count": 357,
   "metadata": {
    "collapsed": false
   },
   "outputs": [
    {
     "name": "stdout",
     "output_type": "stream",
     "text": [
      "Erro quadratico médio da lognormal : 3475632951481.464\n",
      "Erro quadratico médio da weibull : 849519.1869653201\n"
     ]
    }
   ],
   "source": [
    "eqm_ln1 = erro_quadratico_lognormal1/len(ea2013)\n",
    "eqm_wb1 = erro_quadratico_weibull1/len(ea2013)\n",
    "\n",
    "print(\"Erro quadratico médio da lognormal : {0}\".format(eqm_ln1))\n",
    "print(\"Erro quadratico médio da weibull : {0}\".format(eqm_wb1))"
   ]
  },
  {
   "cell_type": "markdown",
   "metadata": {},
   "source": [
    "### Soma de diferenças"
   ]
  },
  {
   "cell_type": "code",
   "execution_count": 358,
   "metadata": {
    "collapsed": false
   },
   "outputs": [
    {
     "name": "stdout",
     "output_type": "stream",
     "text": [
      "Soma de diferenças da lognormal : 37522962.391131006\n",
      "Soma de diferenças da weibull : 50597.56184865012\n"
     ]
    }
   ],
   "source": [
    "soma_diferenças_lognormal1 = sum(abs(ea2013 - q_ln1))\n",
    "soma_diferenças_weibull1 = sum(abs(ea2013 - q_wb1))\n",
    "\n",
    "print(\"Soma de diferenças da lognormal : {0}\".format(soma_diferenças_lognormal1))\n",
    "print(\"Soma de diferenças da weibull : {0}\".format(soma_diferenças_weibull1))"
   ]
  },
  {
   "cell_type": "markdown",
   "metadata": {},
   "source": [
    "## Testes de aderência que usam a cumulativa"
   ]
  },
  {
   "cell_type": "markdown",
   "metadata": {},
   "source": [
    "### <font color='red'>Parâmetros sem fit</font>"
   ]
  },
  {
   "cell_type": "markdown",
   "metadata": {},
   "source": [
    "### Erro quadrático nas CDFs"
   ]
  },
  {
   "cell_type": "code",
   "execution_count": 359,
   "metadata": {
    "collapsed": false
   },
   "outputs": [
    {
     "name": "stdout",
     "output_type": "stream",
     "text": [
      "Erro quadrático da CDF da Lognormal versus F.R.A: 4.572790168161453\n",
      "Erro quadrático da CDF da Weibull versus F.R.A: 3.0088469990899234\n"
     ]
    }
   ],
   "source": [
    "# Erro quadrático nas CDFs\n",
    "erro_quad_cdf_lognormal0 = sum((fra - cdf_lognormal0)**2)\n",
    "\n",
    "erro_quad_cdf_weibull0 = sum((fra - cdf_weibull0)**2)\n",
    "\n",
    "print(\"Erro quadrático da CDF da Lognormal versus F.R.A: {0}\".format(erro_quad_cdf_lognormal0))\n",
    "print(\"Erro quadrático da CDF da Weibull versus F.R.A: {0}\".format(erro_quad_cdf_weibull0))"
   ]
  },
  {
   "cell_type": "markdown",
   "metadata": {},
   "source": [
    "### Diferenças absolutas"
   ]
  },
  {
   "cell_type": "code",
   "execution_count": 360,
   "metadata": {
    "collapsed": false
   },
   "outputs": [
    {
     "name": "stdout",
     "output_type": "stream",
     "text": [
      "Erro da soma do módulo das diferenças da lognormal versus F.R.A: 24.931892400090682 \n",
      "Erro da soma do módulo das diferenças de weibull versus F.R.A: 19.99247314694425\n"
     ]
    }
   ],
   "source": [
    "# Diferenças absolutas\n",
    "soma_difs_cdf_lognormal0 = sum( abs(fra - cdf_lognormal0))\n",
    "soma_difs_cdf_weibull0 = sum( abs(fra - cdf_weibull0))\n",
    "\n",
    "print(\"Erro da soma do módulo das diferenças da lognormal versus F.R.A: {0} \\nErro da soma do módulo das diferenças de weibull versus F.R.A: {1}\".format(soma_difs_cdf_lognormal0, soma_difs_cdf_weibull0))"
   ]
  },
  {
   "cell_type": "markdown",
   "metadata": {},
   "source": [
    "### Teste de aderência de Kolmogorov-Smirnov"
   ]
  },
  {
   "cell_type": "code",
   "execution_count": 361,
   "metadata": {
    "collapsed": false
   },
   "outputs": [
    {
     "name": "stdout",
     "output_type": "stream",
     "text": [
      "Teste K-S para a lognormal com μ= 2435.90: 0.249\n",
      "Teste K-S para a weibull com scale=1522.438, loc=0 e a=1.600  0.206:\n"
     ]
    }
   ],
   "source": [
    "# Kolmogorov-Smirnov goodness-of-fit test\n",
    "ks_aderencia_ln0 = max(abs(fra-cdf_lognormal0))\n",
    "ks_aderencia_wb0 = max(abs(fra-cdf_weibull0))\n",
    "\n",
    "\n",
    "print(\"Teste K-S para a lognormal com μ= {:4.2f}: {:4.3f}\\n\\\n",
    "Teste K-S para a weibull com scale={:4.3f}, loc=0 e a={:4.3f}  {:4.3f}:\".format(2435.9, ks_aderencia_ln0, 2435.9/1.6, 1.6, ks_aderencia_wb0))"
   ]
  },
  {
   "cell_type": "markdown",
   "metadata": {},
   "source": [
    "### <font color='red'>Parâmetros com fit</font>"
   ]
  },
  {
   "cell_type": "markdown",
   "metadata": {},
   "source": [
    "### Erro quadrático nas CDFs"
   ]
  },
  {
   "cell_type": "code",
   "execution_count": 363,
   "metadata": {
    "collapsed": false
   },
   "outputs": [
    {
     "name": "stdout",
     "output_type": "stream",
     "text": [
      "Erro quadrático da CDF da Lognormal versus F.R.A: 28.790790881262826\n",
      "Erro quadrático da CDF da Weibull versus F.R.A: 0.20514016226294385\n"
     ]
    }
   ],
   "source": [
    "# Erro quadrático nas CDFs\n",
    "erro_quad_cdf_lognormal1 = sum((fra - cdf_lognormal1)**2)\n",
    "\n",
    "erro_quad_cdf_weibull1 = sum((fra - cdf_weibull1)**2)\n",
    "\n",
    "print(\"Erro quadrático da CDF da Lognormal versus F.R.A: {0}\".format(erro_quad_cdf_lognormal1))\n",
    "print(\"Erro quadrático da CDF da Weibull versus F.R.A: {0}\".format(erro_quad_cdf_weibull1))"
   ]
  },
  {
   "cell_type": "markdown",
   "metadata": {},
   "source": [
    "### Diferenças absolutas"
   ]
  },
  {
   "cell_type": "code",
   "execution_count": 364,
   "metadata": {
    "collapsed": false
   },
   "outputs": [
    {
     "name": "stdout",
     "output_type": "stream",
     "text": [
      "Erro da soma do módulo das diferenças da lognormal versus F.R.A: 59.34594715416089 \n",
      "Erro da soma do módulo das diferenças de weibull versus F.R.A: 4.996331250152222\n"
     ]
    }
   ],
   "source": [
    "# Diferenças absolutas\n",
    "soma_difs_cdf_lognormal1 = sum( abs(fra - cdf_lognormal1))\n",
    "soma_difs_cdf_weibull1 = sum( abs(fra - cdf_weibull1))\n",
    "\n",
    "print(\"Erro da soma do módulo das diferenças da lognormal versus F.R.A: {0} \\nErro da soma do módulo das diferenças de weibull versus F.R.A: {1}\".format(soma_difs_cdf_lognormal1, soma_difs_cdf_weibull1))"
   ]
  },
  {
   "cell_type": "markdown",
   "metadata": {},
   "source": [
    "### Teste de aderência de Kolmogorov-Smirnov"
   ]
  },
  {
   "cell_type": "code",
   "execution_count": 365,
   "metadata": {
    "collapsed": false
   },
   "outputs": [
    {
     "name": "stdout",
     "output_type": "stream",
     "text": [
      "Teste K-S para a lognormal com μ= 2435.90: 0.713\n",
      "Teste K-S para a weibull com scale=2518.036, loc=0 e a=0.967  0.083:\n"
     ]
    }
   ],
   "source": [
    "# Kolmogorov-Smirnov goodness-of-fit test\n",
    "ks_aderencia_ln1 = max(abs(fra-cdf_lognormal1))\n",
    "ks_aderencia_wb1 = max(abs(fra-cdf_weibull1))\n",
    "\n",
    "\n",
    "print(\"Teste K-S para a lognormal com μ= {:4.2f}: {:4.3f}\\n\\\n",
    "Teste K-S para a weibull com scale={:4.3f}, loc=0 e a={:4.3f}  {:4.3f}:\".format(2435.9, ks_aderencia_ln1, 2435.9/b[0], b[0], ks_aderencia_wb1))"
   ]
  },
  {
   "cell_type": "markdown",
   "metadata": {},
   "source": [
    "## Tabela das distribuições da variável"
   ]
  },
  {
   "cell_type": "markdown",
   "metadata": {},
   "source": [
    "### <font color='red'>Parâmetros sem fit</font>"
   ]
  },
  {
   "cell_type": "markdown",
   "metadata": {},
   "source": [
    "|Características | Distribuição Lognormal | Distribuição de Weibull|\n",
    "|----------------|------------------------|------------------------|\n",
    "|Erro quadrático | 40230061324.917 | 452755084.011|\n",
    "|Erro quadrático médio | 222265532.18186328 | 2501409.3039302123|\n",
    "|Soma de diferenças | 1094402.0696457822 | 145419.8972812302|\n",
    "|Erro quadrático nas CDFs | 4.572790168161453 | 3.0088469990899234|\n",
    "|Diferenças absolutas | 24.931892400090682 | 19.99247314694425|\n",
    "|Teste de aderência de Kolmogorov-Smirnov | 0.249 | 0.206|"
   ]
  },
  {
   "cell_type": "markdown",
   "metadata": {},
   "source": [
    "### <font color='red'>Parâmetros com fit</font>"
   ]
  },
  {
   "cell_type": "markdown",
   "metadata": {},
   "source": [
    "|Características | Distribuição Lognormal | Distribuição de Weibull|\n",
    "|----------------|------------------------|------------------------|\n",
    "|Erro quadrático | 629089564218145.000 | 153762972.841|\n",
    "|Erro quadrático médio | 3475632951481.464 | 849519.1869653201|\n",
    "|Soma de diferenças | 37522962.391131006 | 50597.56184865012|\n",
    "|Erro quadrático nas CDFs | 28.790790881262826 | 0.20514016226294385|\n",
    "|Diferenças absolutas | 59.34594715416089 | 4.996331250152222|\n",
    "|Teste de aderência de Kolmogorov-Smirnov | 0.713 | 0.083|"
   ]
  },
  {
   "cell_type": "markdown",
   "metadata": {},
   "source": [
    "Segundo as tabelas acima, que resumem todos os cálculos realizados no item anterior, pode-se chegar a conclusão de que em relação a quais parâmetros utilizar: deve-se adotar os parâmetros não gerados pelo comando fit para a distribuição lognormal, enquanto para a distribuição de Weibull deve-se adotar as geradas pelo comando fit, visto que todos os erros calculados são menores para a distribuição lognormal com os parâmetros que não foram gerados pelo fit em relação à distribuição lognormal que adotou os parâmetros do fit, já no caso da distribuição de Weibull, quando se adota os parâmetros gerados pelo fit os erros calculados são menores.\n",
    "\n",
    "Em relação a qual dessas distribuições analisadas anteriormente seriam mais eficientes na análise da variável em questão, pode-se dizer que seria a de Weibull, que como um todo simula muito mais o comportamento do histograma da variável. Isso pode ser visto pelo resultado do teste de aderência de Kolmogorov-Smirnov da distribuição que adota os parâmetros do fit, uma vez que esse valor é relativamente muito menor do que outro gerado pelas outras distribuições."
   ]
  }
 ],
 "metadata": {
  "anaconda-cloud": {},
  "kernelspec": {
   "display_name": "Python 3",
   "language": "python",
   "name": "python3"
  },
  "language_info": {
   "codemirror_mode": {
    "name": "ipython",
    "version": 3
   },
   "file_extension": ".py",
   "mimetype": "text/x-python",
   "name": "python",
   "nbconvert_exporter": "python",
   "pygments_lexer": "ipython3",
   "version": "3.5.2"
  }
 },
 "nbformat": 4,
 "nbformat_minor": 0
}
